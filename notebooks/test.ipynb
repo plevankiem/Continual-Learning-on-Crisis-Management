{
 "cells": [
  {
   "cell_type": "code",
   "execution_count": 1,
   "id": "34ab555e",
   "metadata": {},
   "outputs": [
    {
     "name": "stderr",
     "output_type": "stream",
     "text": [
      "p:\\Programmes\\Python\\Python313\\Lib\\site-packages\\tqdm\\auto.py:21: TqdmWarning: IProgress not found. Please update jupyter and ipywidgets. See https://ipywidgets.readthedocs.io/en/stable/user_install.html\n",
      "  from .autonotebook import tqdm as notebook_tqdm\n"
     ]
    }
   ],
   "source": [
    "import sys\n",
    "import os\n",
    "import torch\n",
    "path = os.getcwd()\n",
    "sys.path.append(os.path.abspath(os.path.join(path, '..')))\n",
    "\n",
    "from data.scripts.dataset import CrisisDataset\n",
    "from src.approaches.vanilla import Vanilla\n",
    "from src.approaches.ewc import ElasticWeightsConsolidation\n",
    "from src.approaches.si import SynapticIntelligence\n",
    "from src.approaches.cumulative import Cumulative\n",
    "from src.approaches.mas import MemoryAwareSynapses\n",
    "from src.approaches.agem import AverageGradientOfEpisodicMemory\n",
    "from src.approaches.ner import NaiveExperienceReplay\n",
    "\n",
    "from transformers import RobertaTokenizer"
   ]
  },
  {
   "cell_type": "code",
   "execution_count": 2,
   "id": "2ccf24a6",
   "metadata": {},
   "outputs": [
    {
     "name": "stdout",
     "output_type": "stream",
     "text": [
      "Processing crisis type : Flood\n",
      "Processing crisis type : Storms\n",
      "Processing crisis type : Collapse\n",
      "Processing crisis type : Hurricane\n",
      "Processing crisis type : ATTACK\n",
      "Processing crisis type : Explosion\n",
      "Processing crisis type : Fire\n",
      "\n",
      "✅ Dataset created with 4 crisis\n"
     ]
    }
   ],
   "source": [
    "batch_size = 64\n",
    "model_name = \"roberta-base\"\n",
    "tokenizer = RobertaTokenizer.from_pretrained(model_name)\n",
    "task_type = [\"humanitarian\", \"urgency\", \"utility\"]\n",
    "\n",
    "data = CrisisDataset(\n",
    "    tokenizer=tokenizer,\n",
    "    batch_size=batch_size,\n",
    "    task_type=task_type,\n",
    "    dataset=\"FrenchCorpus\"\n",
    ")"
   ]
  },
  {
   "cell_type": "code",
   "execution_count": 6,
   "id": "bdbad2b6",
   "metadata": {},
   "outputs": [
    {
     "data": {
      "text/plain": [
       "65.96"
      ]
     },
     "execution_count": 6,
     "metadata": {},
     "output_type": "execute_result"
    }
   ],
   "source": [
    "(3300-410)*0.018 + 410*0.034"
   ]
  },
  {
   "cell_type": "code",
   "execution_count": 3,
   "id": "64a8c1ae",
   "metadata": {},
   "outputs": [
    {
     "name": "stdout",
     "output_type": "stream",
     "text": [
      "Pipeline for ner with a continual learning framework\n",
      "\n",
      "Training on order Flood, Storms, Collapse, Hurricane | 1/4\n",
      "\n",
      "Training on split 1/3\n",
      "\n",
      "\n",
      "New data  Flood\n",
      "Memory Size : {'Flood': 0, 'Storms': 0, 'Collapse': 0, 'Hurricane': 0}\n",
      "\n"
     ]
    },
    {
     "name": "stderr",
     "output_type": "stream",
     "text": [
      "Flood | 1/4 | Epoch 1: 100%|██████████| 1/1 [00:08<00:00,  8.37s/it, humanitarian=0.0571, urgency=0.205, utility=0.67]\n"
     ]
    },
    {
     "name": "stdout",
     "output_type": "stream",
     "text": [
      "\n"
     ]
    },
    {
     "name": "stderr",
     "output_type": "stream",
     "text": [
      "Adding Flood in memory...: 100%|██████████| 1/1 [00:00<00:00, 350.78it/s]\n"
     ]
    },
    {
     "name": "stdout",
     "output_type": "stream",
     "text": [
      "\n",
      "\n",
      "Model Testing...\n",
      "\n",
      "Scores during training on Flood\n",
      "\n"
     ]
    },
    {
     "data": {
      "text/html": [
       "<style type=\"text/css\">\n",
       "#T_4a664_row0_col0, #T_4a664_row0_col1, #T_4a664_row1_col0, #T_4a664_row1_col1, #T_4a664_row1_col2, #T_4a664_row2_col0, #T_4a664_row2_col1, #T_4a664_row3_col0, #T_4a664_row3_col1, #T_4a664_row3_col2, #T_4a664_row4_col0, #T_4a664_row4_col1 {\n",
       "  background-color: #ffffff;\n",
       "  color: #000000;\n",
       "}\n",
       "#T_4a664_row0_col2, #T_4a664_row2_col2, #T_4a664_row4_col2 {\n",
       "  background-color: #000000;\n",
       "  color: #f1f1f1;\n",
       "}\n",
       "</style>\n",
       "<table id=\"T_4a664\">\n",
       "  <thead>\n",
       "    <tr>\n",
       "      <th class=\"blank level0\" >&nbsp;</th>\n",
       "      <th id=\"T_4a664_level0_col0\" class=\"col_heading level0 col0\" >humanitarian</th>\n",
       "      <th id=\"T_4a664_level0_col1\" class=\"col_heading level0 col1\" >urgency</th>\n",
       "      <th id=\"T_4a664_level0_col2\" class=\"col_heading level0 col2\" >utility</th>\n",
       "    </tr>\n",
       "  </thead>\n",
       "  <tbody>\n",
       "    <tr>\n",
       "      <th id=\"T_4a664_level0_row0\" class=\"row_heading level0 row0\" >Flood</th>\n",
       "      <td id=\"T_4a664_row0_col0\" class=\"data row0 col0\" >0.2500</td>\n",
       "      <td id=\"T_4a664_row0_col1\" class=\"data row0 col1\" >0.2500</td>\n",
       "      <td id=\"T_4a664_row0_col2\" class=\"data row0 col2\" >0.3750</td>\n",
       "    </tr>\n",
       "    <tr>\n",
       "      <th id=\"T_4a664_level0_row1\" class=\"row_heading level0 row1\" >Storms</th>\n",
       "      <td id=\"T_4a664_row1_col0\" class=\"data row1 col0\" >0.4444</td>\n",
       "      <td id=\"T_4a664_row1_col1\" class=\"data row1 col1\" >0.4444</td>\n",
       "      <td id=\"T_4a664_row1_col2\" class=\"data row1 col2\" >0.4444</td>\n",
       "    </tr>\n",
       "    <tr>\n",
       "      <th id=\"T_4a664_level0_row2\" class=\"row_heading level0 row2\" >Collapse</th>\n",
       "      <td id=\"T_4a664_row2_col0\" class=\"data row2 col0\" >0.2500</td>\n",
       "      <td id=\"T_4a664_row2_col1\" class=\"data row2 col1\" >0.2500</td>\n",
       "      <td id=\"T_4a664_row2_col2\" class=\"data row2 col2\" >0.3750</td>\n",
       "    </tr>\n",
       "    <tr>\n",
       "      <th id=\"T_4a664_level0_row3\" class=\"row_heading level0 row3\" >Hurricane</th>\n",
       "      <td id=\"T_4a664_row3_col0\" class=\"data row3 col0\" >0.4444</td>\n",
       "      <td id=\"T_4a664_row3_col1\" class=\"data row3 col1\" >0.4444</td>\n",
       "      <td id=\"T_4a664_row3_col2\" class=\"data row3 col2\" >0.4444</td>\n",
       "    </tr>\n",
       "    <tr>\n",
       "      <th id=\"T_4a664_level0_row4\" class=\"row_heading level0 row4\" >Average</th>\n",
       "      <td id=\"T_4a664_row4_col0\" class=\"data row4 col0\" >0.3472</td>\n",
       "      <td id=\"T_4a664_row4_col1\" class=\"data row4 col1\" >0.3472</td>\n",
       "      <td id=\"T_4a664_row4_col2\" class=\"data row4 col2\" >0.4097</td>\n",
       "    </tr>\n",
       "  </tbody>\n",
       "</table>\n"
      ],
      "text/plain": [
       "<pandas.io.formats.style.Styler at 0x1f95dc552b0>"
      ]
     },
     "metadata": {},
     "output_type": "display_data"
    },
    {
     "name": "stdout",
     "output_type": "stream",
     "text": [
      "\n",
      "New data  Storms\n",
      "Memory Size : {'Flood': 5, 'Storms': 0, 'Collapse': 0, 'Hurricane': 0}\n",
      "\n"
     ]
    },
    {
     "name": "stderr",
     "output_type": "stream",
     "text": [
      "Storms | 2/4 | Epoch 1: 100%|██████████| 1/1 [00:31<00:00, 31.43s/it, humanitarian=0.296, urgency=0.306, utility=0.577]\n"
     ]
    },
    {
     "name": "stdout",
     "output_type": "stream",
     "text": [
      "\n"
     ]
    },
    {
     "name": "stderr",
     "output_type": "stream",
     "text": [
      "Adding Storms in memory...: 100%|██████████| 1/1 [00:00<00:00, 379.06it/s]\n"
     ]
    },
    {
     "name": "stdout",
     "output_type": "stream",
     "text": [
      "\n",
      "\n",
      "Model Testing...\n",
      "\n",
      "Scores during training on Storms\n",
      "\n"
     ]
    },
    {
     "data": {
      "text/html": [
       "<style type=\"text/css\">\n",
       "#T_91e9a_row0_col0, #T_91e9a_row0_col1, #T_91e9a_row1_col0, #T_91e9a_row1_col1, #T_91e9a_row1_col2, #T_91e9a_row2_col0, #T_91e9a_row2_col1, #T_91e9a_row3_col0, #T_91e9a_row3_col1, #T_91e9a_row3_col2, #T_91e9a_row4_col0, #T_91e9a_row4_col1 {\n",
       "  background-color: #ffffff;\n",
       "  color: #000000;\n",
       "}\n",
       "#T_91e9a_row0_col2, #T_91e9a_row2_col2, #T_91e9a_row4_col2 {\n",
       "  background-color: #000000;\n",
       "  color: #f1f1f1;\n",
       "}\n",
       "</style>\n",
       "<table id=\"T_91e9a\">\n",
       "  <thead>\n",
       "    <tr>\n",
       "      <th class=\"blank level0\" >&nbsp;</th>\n",
       "      <th id=\"T_91e9a_level0_col0\" class=\"col_heading level0 col0\" >humanitarian</th>\n",
       "      <th id=\"T_91e9a_level0_col1\" class=\"col_heading level0 col1\" >urgency</th>\n",
       "      <th id=\"T_91e9a_level0_col2\" class=\"col_heading level0 col2\" >utility</th>\n",
       "    </tr>\n",
       "  </thead>\n",
       "  <tbody>\n",
       "    <tr>\n",
       "      <th id=\"T_91e9a_level0_row0\" class=\"row_heading level0 row0\" >Flood</th>\n",
       "      <td id=\"T_91e9a_row0_col0\" class=\"data row0 col0\" >0.2500</td>\n",
       "      <td id=\"T_91e9a_row0_col1\" class=\"data row0 col1\" >0.2500</td>\n",
       "      <td id=\"T_91e9a_row0_col2\" class=\"data row0 col2\" >0.3750</td>\n",
       "    </tr>\n",
       "    <tr>\n",
       "      <th id=\"T_91e9a_level0_row1\" class=\"row_heading level0 row1\" >Storms</th>\n",
       "      <td id=\"T_91e9a_row1_col0\" class=\"data row1 col0\" >0.4444</td>\n",
       "      <td id=\"T_91e9a_row1_col1\" class=\"data row1 col1\" >0.4444</td>\n",
       "      <td id=\"T_91e9a_row1_col2\" class=\"data row1 col2\" >0.4444</td>\n",
       "    </tr>\n",
       "    <tr>\n",
       "      <th id=\"T_91e9a_level0_row2\" class=\"row_heading level0 row2\" >Collapse</th>\n",
       "      <td id=\"T_91e9a_row2_col0\" class=\"data row2 col0\" >0.2500</td>\n",
       "      <td id=\"T_91e9a_row2_col1\" class=\"data row2 col1\" >0.2500</td>\n",
       "      <td id=\"T_91e9a_row2_col2\" class=\"data row2 col2\" >0.3750</td>\n",
       "    </tr>\n",
       "    <tr>\n",
       "      <th id=\"T_91e9a_level0_row3\" class=\"row_heading level0 row3\" >Hurricane</th>\n",
       "      <td id=\"T_91e9a_row3_col0\" class=\"data row3 col0\" >0.4444</td>\n",
       "      <td id=\"T_91e9a_row3_col1\" class=\"data row3 col1\" >0.4444</td>\n",
       "      <td id=\"T_91e9a_row3_col2\" class=\"data row3 col2\" >0.4444</td>\n",
       "    </tr>\n",
       "    <tr>\n",
       "      <th id=\"T_91e9a_level0_row4\" class=\"row_heading level0 row4\" >Average</th>\n",
       "      <td id=\"T_91e9a_row4_col0\" class=\"data row4 col0\" >0.3472</td>\n",
       "      <td id=\"T_91e9a_row4_col1\" class=\"data row4 col1\" >0.3472</td>\n",
       "      <td id=\"T_91e9a_row4_col2\" class=\"data row4 col2\" >0.4097</td>\n",
       "    </tr>\n",
       "  </tbody>\n",
       "</table>\n"
      ],
      "text/plain": [
       "<pandas.io.formats.style.Styler at 0x1f95d1fc690>"
      ]
     },
     "metadata": {},
     "output_type": "display_data"
    },
    {
     "name": "stdout",
     "output_type": "stream",
     "text": [
      "\n",
      "New data  Collapse\n",
      "Memory Size : {'Flood': 5, 'Storms': 5, 'Collapse': 0, 'Hurricane': 0}\n",
      "\n"
     ]
    },
    {
     "name": "stderr",
     "output_type": "stream",
     "text": [
      "Collapse | 3/4 | Epoch 1: 100%|██████████| 1/1 [00:12<00:00, 12.34s/it, humanitarian=1, urgency=1, utility=1]\n"
     ]
    },
    {
     "name": "stdout",
     "output_type": "stream",
     "text": [
      "\n"
     ]
    },
    {
     "name": "stderr",
     "output_type": "stream",
     "text": [
      "Adding Collapse in memory...: 100%|██████████| 1/1 [00:00<00:00, 673.13it/s]\n"
     ]
    },
    {
     "name": "stdout",
     "output_type": "stream",
     "text": [
      "\n",
      "\n",
      "Model Testing...\n",
      "\n",
      "Scores during training on Collapse\n",
      "\n"
     ]
    },
    {
     "data": {
      "text/html": [
       "<style type=\"text/css\">\n",
       "#T_87232_row0_col0, #T_87232_row0_col1, #T_87232_row1_col0, #T_87232_row1_col1, #T_87232_row1_col2, #T_87232_row2_col0, #T_87232_row2_col1, #T_87232_row3_col0, #T_87232_row3_col1, #T_87232_row3_col2, #T_87232_row4_col0, #T_87232_row4_col1 {\n",
       "  background-color: #ffffff;\n",
       "  color: #000000;\n",
       "}\n",
       "#T_87232_row0_col2, #T_87232_row2_col2, #T_87232_row4_col2 {\n",
       "  background-color: #000000;\n",
       "  color: #f1f1f1;\n",
       "}\n",
       "</style>\n",
       "<table id=\"T_87232\">\n",
       "  <thead>\n",
       "    <tr>\n",
       "      <th class=\"blank level0\" >&nbsp;</th>\n",
       "      <th id=\"T_87232_level0_col0\" class=\"col_heading level0 col0\" >humanitarian</th>\n",
       "      <th id=\"T_87232_level0_col1\" class=\"col_heading level0 col1\" >urgency</th>\n",
       "      <th id=\"T_87232_level0_col2\" class=\"col_heading level0 col2\" >utility</th>\n",
       "    </tr>\n",
       "  </thead>\n",
       "  <tbody>\n",
       "    <tr>\n",
       "      <th id=\"T_87232_level0_row0\" class=\"row_heading level0 row0\" >Flood</th>\n",
       "      <td id=\"T_87232_row0_col0\" class=\"data row0 col0\" >0.2500</td>\n",
       "      <td id=\"T_87232_row0_col1\" class=\"data row0 col1\" >0.2500</td>\n",
       "      <td id=\"T_87232_row0_col2\" class=\"data row0 col2\" >0.3750</td>\n",
       "    </tr>\n",
       "    <tr>\n",
       "      <th id=\"T_87232_level0_row1\" class=\"row_heading level0 row1\" >Storms</th>\n",
       "      <td id=\"T_87232_row1_col0\" class=\"data row1 col0\" >0.4444</td>\n",
       "      <td id=\"T_87232_row1_col1\" class=\"data row1 col1\" >0.4444</td>\n",
       "      <td id=\"T_87232_row1_col2\" class=\"data row1 col2\" >0.4444</td>\n",
       "    </tr>\n",
       "    <tr>\n",
       "      <th id=\"T_87232_level0_row2\" class=\"row_heading level0 row2\" >Collapse</th>\n",
       "      <td id=\"T_87232_row2_col0\" class=\"data row2 col0\" >0.2500</td>\n",
       "      <td id=\"T_87232_row2_col1\" class=\"data row2 col1\" >0.2500</td>\n",
       "      <td id=\"T_87232_row2_col2\" class=\"data row2 col2\" >0.3750</td>\n",
       "    </tr>\n",
       "    <tr>\n",
       "      <th id=\"T_87232_level0_row3\" class=\"row_heading level0 row3\" >Hurricane</th>\n",
       "      <td id=\"T_87232_row3_col0\" class=\"data row3 col0\" >0.4444</td>\n",
       "      <td id=\"T_87232_row3_col1\" class=\"data row3 col1\" >0.4444</td>\n",
       "      <td id=\"T_87232_row3_col2\" class=\"data row3 col2\" >0.4444</td>\n",
       "    </tr>\n",
       "    <tr>\n",
       "      <th id=\"T_87232_level0_row4\" class=\"row_heading level0 row4\" >Average</th>\n",
       "      <td id=\"T_87232_row4_col0\" class=\"data row4 col0\" >0.3472</td>\n",
       "      <td id=\"T_87232_row4_col1\" class=\"data row4 col1\" >0.3472</td>\n",
       "      <td id=\"T_87232_row4_col2\" class=\"data row4 col2\" >0.4097</td>\n",
       "    </tr>\n",
       "  </tbody>\n",
       "</table>\n"
      ],
      "text/plain": [
       "<pandas.io.formats.style.Styler at 0x1f95d1fc690>"
      ]
     },
     "metadata": {},
     "output_type": "display_data"
    },
    {
     "name": "stdout",
     "output_type": "stream",
     "text": [
      "\n",
      "New data  Hurricane\n",
      "Memory Size : {'Flood': 5, 'Storms': 5, 'Collapse': 5, 'Hurricane': 0}\n",
      "\n"
     ]
    },
    {
     "name": "stderr",
     "output_type": "stream",
     "text": [
      "Hurricane | 4/4 | Epoch 1: 100%|██████████| 1/1 [00:15<00:00, 15.47s/it, humanitarian=0.25, urgency=0.25, utility=0.375]\n"
     ]
    },
    {
     "name": "stdout",
     "output_type": "stream",
     "text": [
      "\n"
     ]
    },
    {
     "name": "stderr",
     "output_type": "stream",
     "text": [
      "Adding Hurricane in memory...: 100%|██████████| 1/1 [00:00<00:00, 766.92it/s]\n"
     ]
    },
    {
     "name": "stdout",
     "output_type": "stream",
     "text": [
      "\n",
      "\n",
      "Model Testing...\n",
      "\n",
      "Scores during training on Hurricane\n",
      "\n"
     ]
    },
    {
     "data": {
      "text/html": [
       "<style type=\"text/css\">\n",
       "#T_8273c_row0_col0, #T_8273c_row0_col1, #T_8273c_row1_col0, #T_8273c_row1_col1, #T_8273c_row1_col2, #T_8273c_row2_col0, #T_8273c_row2_col1, #T_8273c_row3_col0, #T_8273c_row3_col1, #T_8273c_row3_col2, #T_8273c_row4_col0, #T_8273c_row4_col1 {\n",
       "  background-color: #ffffff;\n",
       "  color: #000000;\n",
       "}\n",
       "#T_8273c_row0_col2, #T_8273c_row2_col2, #T_8273c_row4_col2 {\n",
       "  background-color: #000000;\n",
       "  color: #f1f1f1;\n",
       "}\n",
       "</style>\n",
       "<table id=\"T_8273c\">\n",
       "  <thead>\n",
       "    <tr>\n",
       "      <th class=\"blank level0\" >&nbsp;</th>\n",
       "      <th id=\"T_8273c_level0_col0\" class=\"col_heading level0 col0\" >humanitarian</th>\n",
       "      <th id=\"T_8273c_level0_col1\" class=\"col_heading level0 col1\" >urgency</th>\n",
       "      <th id=\"T_8273c_level0_col2\" class=\"col_heading level0 col2\" >utility</th>\n",
       "    </tr>\n",
       "  </thead>\n",
       "  <tbody>\n",
       "    <tr>\n",
       "      <th id=\"T_8273c_level0_row0\" class=\"row_heading level0 row0\" >Flood</th>\n",
       "      <td id=\"T_8273c_row0_col0\" class=\"data row0 col0\" >0.2500</td>\n",
       "      <td id=\"T_8273c_row0_col1\" class=\"data row0 col1\" >0.2500</td>\n",
       "      <td id=\"T_8273c_row0_col2\" class=\"data row0 col2\" >0.3750</td>\n",
       "    </tr>\n",
       "    <tr>\n",
       "      <th id=\"T_8273c_level0_row1\" class=\"row_heading level0 row1\" >Storms</th>\n",
       "      <td id=\"T_8273c_row1_col0\" class=\"data row1 col0\" >0.4444</td>\n",
       "      <td id=\"T_8273c_row1_col1\" class=\"data row1 col1\" >0.4444</td>\n",
       "      <td id=\"T_8273c_row1_col2\" class=\"data row1 col2\" >0.4444</td>\n",
       "    </tr>\n",
       "    <tr>\n",
       "      <th id=\"T_8273c_level0_row2\" class=\"row_heading level0 row2\" >Collapse</th>\n",
       "      <td id=\"T_8273c_row2_col0\" class=\"data row2 col0\" >0.2500</td>\n",
       "      <td id=\"T_8273c_row2_col1\" class=\"data row2 col1\" >0.2500</td>\n",
       "      <td id=\"T_8273c_row2_col2\" class=\"data row2 col2\" >0.3750</td>\n",
       "    </tr>\n",
       "    <tr>\n",
       "      <th id=\"T_8273c_level0_row3\" class=\"row_heading level0 row3\" >Hurricane</th>\n",
       "      <td id=\"T_8273c_row3_col0\" class=\"data row3 col0\" >0.4444</td>\n",
       "      <td id=\"T_8273c_row3_col1\" class=\"data row3 col1\" >0.4444</td>\n",
       "      <td id=\"T_8273c_row3_col2\" class=\"data row3 col2\" >0.4444</td>\n",
       "    </tr>\n",
       "    <tr>\n",
       "      <th id=\"T_8273c_level0_row4\" class=\"row_heading level0 row4\" >Average</th>\n",
       "      <td id=\"T_8273c_row4_col0\" class=\"data row4 col0\" >0.3472</td>\n",
       "      <td id=\"T_8273c_row4_col1\" class=\"data row4 col1\" >0.3472</td>\n",
       "      <td id=\"T_8273c_row4_col2\" class=\"data row4 col2\" >0.4097</td>\n",
       "    </tr>\n",
       "  </tbody>\n",
       "</table>\n"
      ],
      "text/plain": [
       "<pandas.io.formats.style.Styler at 0x1f95d1fc690>"
      ]
     },
     "metadata": {},
     "output_type": "display_data"
    },
    {
     "name": "stdout",
     "output_type": "stream",
     "text": [
      "Training on split 2/3\n",
      "\n",
      "\n",
      "New data  Flood\n",
      "Memory Size : {'Flood': 0, 'Storms': 0, 'Collapse': 0, 'Hurricane': 0}\n",
      "\n"
     ]
    },
    {
     "name": "stderr",
     "output_type": "stream",
     "text": [
      "Flood | 1/4 | Epoch 1: 100%|██████████| 1/1 [00:09<00:00,  9.14s/it, humanitarian=0.0571, urgency=0.194, utility=0.375]\n"
     ]
    },
    {
     "name": "stdout",
     "output_type": "stream",
     "text": [
      "\n"
     ]
    },
    {
     "name": "stderr",
     "output_type": "stream",
     "text": [
      "Adding Flood in memory...: 100%|██████████| 1/1 [00:00<00:00, 735.46it/s]\n"
     ]
    },
    {
     "name": "stdout",
     "output_type": "stream",
     "text": [
      "\n",
      "\n",
      "Model Testing...\n",
      "\n",
      "Scores during training on Flood\n",
      "\n"
     ]
    },
    {
     "data": {
      "text/html": [
       "<style type=\"text/css\">\n",
       "#T_a12a6_row0_col0, #T_a12a6_row0_col1, #T_a12a6_row1_col0, #T_a12a6_row2_col0, #T_a12a6_row2_col1, #T_a12a6_row2_col2, #T_a12a6_row3_col2, #T_a12a6_row4_col0 {\n",
       "  background-color: #ffffff;\n",
       "  color: #000000;\n",
       "}\n",
       "#T_a12a6_row0_col2, #T_a12a6_row1_col1, #T_a12a6_row3_col0, #T_a12a6_row3_col1, #T_a12a6_row4_col1 {\n",
       "  background-color: #000000;\n",
       "  color: #f1f1f1;\n",
       "}\n",
       "#T_a12a6_row1_col2 {\n",
       "  background-color: #5b5b5b;\n",
       "  color: #f1f1f1;\n",
       "}\n",
       "#T_a12a6_row4_col2 {\n",
       "  background-color: #121212;\n",
       "  color: #f1f1f1;\n",
       "}\n",
       "</style>\n",
       "<table id=\"T_a12a6\">\n",
       "  <thead>\n",
       "    <tr>\n",
       "      <th class=\"blank level0\" >&nbsp;</th>\n",
       "      <th id=\"T_a12a6_level0_col0\" class=\"col_heading level0 col0\" >humanitarian</th>\n",
       "      <th id=\"T_a12a6_level0_col1\" class=\"col_heading level0 col1\" >urgency</th>\n",
       "      <th id=\"T_a12a6_level0_col2\" class=\"col_heading level0 col2\" >utility</th>\n",
       "    </tr>\n",
       "  </thead>\n",
       "  <tbody>\n",
       "    <tr>\n",
       "      <th id=\"T_a12a6_level0_row0\" class=\"row_heading level0 row0\" >Flood</th>\n",
       "      <td id=\"T_a12a6_row0_col0\" class=\"data row0 col0\" >0.2500</td>\n",
       "      <td id=\"T_a12a6_row0_col1\" class=\"data row0 col1\" >0.2500</td>\n",
       "      <td id=\"T_a12a6_row0_col2\" class=\"data row0 col2\" >0.3750</td>\n",
       "    </tr>\n",
       "    <tr>\n",
       "      <th id=\"T_a12a6_level0_row1\" class=\"row_heading level0 row1\" >Storms</th>\n",
       "      <td id=\"T_a12a6_row1_col0\" class=\"data row1 col0\" >0.2500</td>\n",
       "      <td id=\"T_a12a6_row1_col1\" class=\"data row1 col1\" >0.4444</td>\n",
       "      <td id=\"T_a12a6_row1_col2\" class=\"data row1 col2\" >0.3750</td>\n",
       "    </tr>\n",
       "    <tr>\n",
       "      <th id=\"T_a12a6_level0_row2\" class=\"row_heading level0 row2\" >Collapse</th>\n",
       "      <td id=\"T_a12a6_row2_col0\" class=\"data row2 col0\" >1.0000</td>\n",
       "      <td id=\"T_a12a6_row2_col1\" class=\"data row2 col1\" >1.0000</td>\n",
       "      <td id=\"T_a12a6_row2_col2\" class=\"data row2 col2\" >1.0000</td>\n",
       "    </tr>\n",
       "    <tr>\n",
       "      <th id=\"T_a12a6_level0_row3\" class=\"row_heading level0 row3\" >Hurricane</th>\n",
       "      <td id=\"T_a12a6_row3_col0\" class=\"data row3 col0\" >0.4444</td>\n",
       "      <td id=\"T_a12a6_row3_col1\" class=\"data row3 col1\" >0.4444</td>\n",
       "      <td id=\"T_a12a6_row3_col2\" class=\"data row3 col2\" >0.3750</td>\n",
       "    </tr>\n",
       "    <tr>\n",
       "      <th id=\"T_a12a6_level0_row4\" class=\"row_heading level0 row4\" >Average</th>\n",
       "      <td id=\"T_a12a6_row4_col0\" class=\"data row4 col0\" >0.4861</td>\n",
       "      <td id=\"T_a12a6_row4_col1\" class=\"data row4 col1\" >0.5347</td>\n",
       "      <td id=\"T_a12a6_row4_col2\" class=\"data row4 col2\" >0.5312</td>\n",
       "    </tr>\n",
       "  </tbody>\n",
       "</table>\n"
      ],
      "text/plain": [
       "<pandas.io.formats.style.Styler at 0x1f95e29dd10>"
      ]
     },
     "metadata": {},
     "output_type": "display_data"
    },
    {
     "name": "stdout",
     "output_type": "stream",
     "text": [
      "\n",
      "New data  Storms\n",
      "Memory Size : {'Flood': 5, 'Storms': 0, 'Collapse': 0, 'Hurricane': 0}\n",
      "\n"
     ]
    },
    {
     "name": "stderr",
     "output_type": "stream",
     "text": [
      "Storms | 2/4 | Epoch 1: 100%|██████████| 1/1 [00:27<00:00, 27.27s/it, humanitarian=0.222, urgency=0.296, utility=0.448]\n"
     ]
    },
    {
     "name": "stdout",
     "output_type": "stream",
     "text": [
      "\n"
     ]
    },
    {
     "name": "stderr",
     "output_type": "stream",
     "text": [
      "Adding Storms in memory...: 100%|██████████| 1/1 [00:00<00:00, 660.00it/s]\n"
     ]
    },
    {
     "name": "stdout",
     "output_type": "stream",
     "text": [
      "\n",
      "\n",
      "Model Testing...\n",
      "\n",
      "Scores during training on Storms\n",
      "\n"
     ]
    },
    {
     "data": {
      "text/html": [
       "<style type=\"text/css\">\n",
       "#T_b11f2_row0_col0, #T_b11f2_row0_col1, #T_b11f2_row1_col0, #T_b11f2_row1_col1, #T_b11f2_row1_col2, #T_b11f2_row2_col0, #T_b11f2_row2_col1, #T_b11f2_row2_col2, #T_b11f2_row3_col0, #T_b11f2_row3_col1, #T_b11f2_row3_col2, #T_b11f2_row4_col0, #T_b11f2_row4_col1 {\n",
       "  background-color: #ffffff;\n",
       "  color: #000000;\n",
       "}\n",
       "#T_b11f2_row0_col2, #T_b11f2_row4_col2 {\n",
       "  background-color: #000000;\n",
       "  color: #f1f1f1;\n",
       "}\n",
       "</style>\n",
       "<table id=\"T_b11f2\">\n",
       "  <thead>\n",
       "    <tr>\n",
       "      <th class=\"blank level0\" >&nbsp;</th>\n",
       "      <th id=\"T_b11f2_level0_col0\" class=\"col_heading level0 col0\" >humanitarian</th>\n",
       "      <th id=\"T_b11f2_level0_col1\" class=\"col_heading level0 col1\" >urgency</th>\n",
       "      <th id=\"T_b11f2_level0_col2\" class=\"col_heading level0 col2\" >utility</th>\n",
       "    </tr>\n",
       "  </thead>\n",
       "  <tbody>\n",
       "    <tr>\n",
       "      <th id=\"T_b11f2_level0_row0\" class=\"row_heading level0 row0\" >Flood</th>\n",
       "      <td id=\"T_b11f2_row0_col0\" class=\"data row0 col0\" >0.2500</td>\n",
       "      <td id=\"T_b11f2_row0_col1\" class=\"data row0 col1\" >0.2500</td>\n",
       "      <td id=\"T_b11f2_row0_col2\" class=\"data row0 col2\" >0.3750</td>\n",
       "    </tr>\n",
       "    <tr>\n",
       "      <th id=\"T_b11f2_level0_row1\" class=\"row_heading level0 row1\" >Storms</th>\n",
       "      <td id=\"T_b11f2_row1_col0\" class=\"data row1 col0\" >0.4444</td>\n",
       "      <td id=\"T_b11f2_row1_col1\" class=\"data row1 col1\" >0.4444</td>\n",
       "      <td id=\"T_b11f2_row1_col2\" class=\"data row1 col2\" >0.4444</td>\n",
       "    </tr>\n",
       "    <tr>\n",
       "      <th id=\"T_b11f2_level0_row2\" class=\"row_heading level0 row2\" >Collapse</th>\n",
       "      <td id=\"T_b11f2_row2_col0\" class=\"data row2 col0\" >1.0000</td>\n",
       "      <td id=\"T_b11f2_row2_col1\" class=\"data row2 col1\" >1.0000</td>\n",
       "      <td id=\"T_b11f2_row2_col2\" class=\"data row2 col2\" >1.0000</td>\n",
       "    </tr>\n",
       "    <tr>\n",
       "      <th id=\"T_b11f2_level0_row3\" class=\"row_heading level0 row3\" >Hurricane</th>\n",
       "      <td id=\"T_b11f2_row3_col0\" class=\"data row3 col0\" >0.4444</td>\n",
       "      <td id=\"T_b11f2_row3_col1\" class=\"data row3 col1\" >0.4444</td>\n",
       "      <td id=\"T_b11f2_row3_col2\" class=\"data row3 col2\" >0.4444</td>\n",
       "    </tr>\n",
       "    <tr>\n",
       "      <th id=\"T_b11f2_level0_row4\" class=\"row_heading level0 row4\" >Average</th>\n",
       "      <td id=\"T_b11f2_row4_col0\" class=\"data row4 col0\" >0.5347</td>\n",
       "      <td id=\"T_b11f2_row4_col1\" class=\"data row4 col1\" >0.5347</td>\n",
       "      <td id=\"T_b11f2_row4_col2\" class=\"data row4 col2\" >0.5660</td>\n",
       "    </tr>\n",
       "  </tbody>\n",
       "</table>\n"
      ],
      "text/plain": [
       "<pandas.io.formats.style.Styler at 0x1f95e29dd10>"
      ]
     },
     "metadata": {},
     "output_type": "display_data"
    },
    {
     "name": "stdout",
     "output_type": "stream",
     "text": [
      "\n",
      "New data  Collapse\n",
      "Memory Size : {'Flood': 5, 'Storms': 5, 'Collapse': 0, 'Hurricane': 0}\n",
      "\n"
     ]
    },
    {
     "name": "stderr",
     "output_type": "stream",
     "text": [
      "Collapse | 3/4 | Epoch 1: 100%|██████████| 1/1 [00:11<00:00, 11.15s/it, humanitarian=0.25, urgency=0.25, utility=0.375]\n"
     ]
    },
    {
     "name": "stdout",
     "output_type": "stream",
     "text": [
      "\n"
     ]
    },
    {
     "name": "stderr",
     "output_type": "stream",
     "text": [
      "Adding Collapse in memory...: 100%|██████████| 1/1 [00:00<00:00, 474.84it/s]\n"
     ]
    },
    {
     "name": "stdout",
     "output_type": "stream",
     "text": [
      "\n",
      "\n",
      "Model Testing...\n",
      "\n",
      "Scores during training on Collapse\n",
      "\n"
     ]
    },
    {
     "data": {
      "text/html": [
       "<style type=\"text/css\">\n",
       "#T_e3be7_row0_col0, #T_e3be7_row0_col1, #T_e3be7_row1_col0, #T_e3be7_row1_col1, #T_e3be7_row1_col2, #T_e3be7_row2_col0, #T_e3be7_row2_col1, #T_e3be7_row2_col2, #T_e3be7_row3_col0, #T_e3be7_row3_col1, #T_e3be7_row3_col2, #T_e3be7_row4_col0, #T_e3be7_row4_col1 {\n",
       "  background-color: #ffffff;\n",
       "  color: #000000;\n",
       "}\n",
       "#T_e3be7_row0_col2, #T_e3be7_row4_col2 {\n",
       "  background-color: #000000;\n",
       "  color: #f1f1f1;\n",
       "}\n",
       "</style>\n",
       "<table id=\"T_e3be7\">\n",
       "  <thead>\n",
       "    <tr>\n",
       "      <th class=\"blank level0\" >&nbsp;</th>\n",
       "      <th id=\"T_e3be7_level0_col0\" class=\"col_heading level0 col0\" >humanitarian</th>\n",
       "      <th id=\"T_e3be7_level0_col1\" class=\"col_heading level0 col1\" >urgency</th>\n",
       "      <th id=\"T_e3be7_level0_col2\" class=\"col_heading level0 col2\" >utility</th>\n",
       "    </tr>\n",
       "  </thead>\n",
       "  <tbody>\n",
       "    <tr>\n",
       "      <th id=\"T_e3be7_level0_row0\" class=\"row_heading level0 row0\" >Flood</th>\n",
       "      <td id=\"T_e3be7_row0_col0\" class=\"data row0 col0\" >0.2500</td>\n",
       "      <td id=\"T_e3be7_row0_col1\" class=\"data row0 col1\" >0.2500</td>\n",
       "      <td id=\"T_e3be7_row0_col2\" class=\"data row0 col2\" >0.3750</td>\n",
       "    </tr>\n",
       "    <tr>\n",
       "      <th id=\"T_e3be7_level0_row1\" class=\"row_heading level0 row1\" >Storms</th>\n",
       "      <td id=\"T_e3be7_row1_col0\" class=\"data row1 col0\" >0.4444</td>\n",
       "      <td id=\"T_e3be7_row1_col1\" class=\"data row1 col1\" >0.4444</td>\n",
       "      <td id=\"T_e3be7_row1_col2\" class=\"data row1 col2\" >0.4444</td>\n",
       "    </tr>\n",
       "    <tr>\n",
       "      <th id=\"T_e3be7_level0_row2\" class=\"row_heading level0 row2\" >Collapse</th>\n",
       "      <td id=\"T_e3be7_row2_col0\" class=\"data row2 col0\" >1.0000</td>\n",
       "      <td id=\"T_e3be7_row2_col1\" class=\"data row2 col1\" >1.0000</td>\n",
       "      <td id=\"T_e3be7_row2_col2\" class=\"data row2 col2\" >1.0000</td>\n",
       "    </tr>\n",
       "    <tr>\n",
       "      <th id=\"T_e3be7_level0_row3\" class=\"row_heading level0 row3\" >Hurricane</th>\n",
       "      <td id=\"T_e3be7_row3_col0\" class=\"data row3 col0\" >0.4444</td>\n",
       "      <td id=\"T_e3be7_row3_col1\" class=\"data row3 col1\" >0.4444</td>\n",
       "      <td id=\"T_e3be7_row3_col2\" class=\"data row3 col2\" >0.4444</td>\n",
       "    </tr>\n",
       "    <tr>\n",
       "      <th id=\"T_e3be7_level0_row4\" class=\"row_heading level0 row4\" >Average</th>\n",
       "      <td id=\"T_e3be7_row4_col0\" class=\"data row4 col0\" >0.5347</td>\n",
       "      <td id=\"T_e3be7_row4_col1\" class=\"data row4 col1\" >0.5347</td>\n",
       "      <td id=\"T_e3be7_row4_col2\" class=\"data row4 col2\" >0.5660</td>\n",
       "    </tr>\n",
       "  </tbody>\n",
       "</table>\n"
      ],
      "text/plain": [
       "<pandas.io.formats.style.Styler at 0x1f95e29dd10>"
      ]
     },
     "metadata": {},
     "output_type": "display_data"
    },
    {
     "name": "stdout",
     "output_type": "stream",
     "text": [
      "\n",
      "New data  Hurricane\n",
      "Memory Size : {'Flood': 5, 'Storms': 5, 'Collapse': 5, 'Hurricane': 0}\n",
      "\n"
     ]
    },
    {
     "name": "stderr",
     "output_type": "stream",
     "text": [
      "Hurricane | 4/4 | Epoch 1: 100%|██████████| 1/1 [00:14<00:00, 14.54s/it, humanitarian=0.25, urgency=0.25, utility=0.375]\n"
     ]
    },
    {
     "name": "stdout",
     "output_type": "stream",
     "text": [
      "\n"
     ]
    },
    {
     "name": "stderr",
     "output_type": "stream",
     "text": [
      "Adding Hurricane in memory...: 100%|██████████| 1/1 [00:00<00:00, 425.21it/s]\n"
     ]
    },
    {
     "name": "stdout",
     "output_type": "stream",
     "text": [
      "\n",
      "\n",
      "Model Testing...\n",
      "\n",
      "Scores during training on Hurricane\n",
      "\n"
     ]
    },
    {
     "data": {
      "text/html": [
       "<style type=\"text/css\">\n",
       "#T_ee70b_row0_col0, #T_ee70b_row0_col1, #T_ee70b_row1_col0, #T_ee70b_row1_col1, #T_ee70b_row1_col2, #T_ee70b_row2_col0, #T_ee70b_row2_col1, #T_ee70b_row2_col2, #T_ee70b_row3_col0, #T_ee70b_row3_col1, #T_ee70b_row3_col2, #T_ee70b_row4_col0, #T_ee70b_row4_col1 {\n",
       "  background-color: #ffffff;\n",
       "  color: #000000;\n",
       "}\n",
       "#T_ee70b_row0_col2, #T_ee70b_row4_col2 {\n",
       "  background-color: #000000;\n",
       "  color: #f1f1f1;\n",
       "}\n",
       "</style>\n",
       "<table id=\"T_ee70b\">\n",
       "  <thead>\n",
       "    <tr>\n",
       "      <th class=\"blank level0\" >&nbsp;</th>\n",
       "      <th id=\"T_ee70b_level0_col0\" class=\"col_heading level0 col0\" >humanitarian</th>\n",
       "      <th id=\"T_ee70b_level0_col1\" class=\"col_heading level0 col1\" >urgency</th>\n",
       "      <th id=\"T_ee70b_level0_col2\" class=\"col_heading level0 col2\" >utility</th>\n",
       "    </tr>\n",
       "  </thead>\n",
       "  <tbody>\n",
       "    <tr>\n",
       "      <th id=\"T_ee70b_level0_row0\" class=\"row_heading level0 row0\" >Flood</th>\n",
       "      <td id=\"T_ee70b_row0_col0\" class=\"data row0 col0\" >0.2500</td>\n",
       "      <td id=\"T_ee70b_row0_col1\" class=\"data row0 col1\" >0.2500</td>\n",
       "      <td id=\"T_ee70b_row0_col2\" class=\"data row0 col2\" >0.3750</td>\n",
       "    </tr>\n",
       "    <tr>\n",
       "      <th id=\"T_ee70b_level0_row1\" class=\"row_heading level0 row1\" >Storms</th>\n",
       "      <td id=\"T_ee70b_row1_col0\" class=\"data row1 col0\" >0.4444</td>\n",
       "      <td id=\"T_ee70b_row1_col1\" class=\"data row1 col1\" >0.4444</td>\n",
       "      <td id=\"T_ee70b_row1_col2\" class=\"data row1 col2\" >0.4444</td>\n",
       "    </tr>\n",
       "    <tr>\n",
       "      <th id=\"T_ee70b_level0_row2\" class=\"row_heading level0 row2\" >Collapse</th>\n",
       "      <td id=\"T_ee70b_row2_col0\" class=\"data row2 col0\" >1.0000</td>\n",
       "      <td id=\"T_ee70b_row2_col1\" class=\"data row2 col1\" >1.0000</td>\n",
       "      <td id=\"T_ee70b_row2_col2\" class=\"data row2 col2\" >1.0000</td>\n",
       "    </tr>\n",
       "    <tr>\n",
       "      <th id=\"T_ee70b_level0_row3\" class=\"row_heading level0 row3\" >Hurricane</th>\n",
       "      <td id=\"T_ee70b_row3_col0\" class=\"data row3 col0\" >0.4444</td>\n",
       "      <td id=\"T_ee70b_row3_col1\" class=\"data row3 col1\" >0.4444</td>\n",
       "      <td id=\"T_ee70b_row3_col2\" class=\"data row3 col2\" >0.4444</td>\n",
       "    </tr>\n",
       "    <tr>\n",
       "      <th id=\"T_ee70b_level0_row4\" class=\"row_heading level0 row4\" >Average</th>\n",
       "      <td id=\"T_ee70b_row4_col0\" class=\"data row4 col0\" >0.5347</td>\n",
       "      <td id=\"T_ee70b_row4_col1\" class=\"data row4 col1\" >0.5347</td>\n",
       "      <td id=\"T_ee70b_row4_col2\" class=\"data row4 col2\" >0.5660</td>\n",
       "    </tr>\n",
       "  </tbody>\n",
       "</table>\n"
      ],
      "text/plain": [
       "<pandas.io.formats.style.Styler at 0x1f95e29d810>"
      ]
     },
     "metadata": {},
     "output_type": "display_data"
    },
    {
     "name": "stdout",
     "output_type": "stream",
     "text": [
      "Training on split 3/3\n",
      "\n",
      "\n",
      "New data  Flood\n",
      "Memory Size : {'Flood': 0, 'Storms': 0, 'Collapse': 0, 'Hurricane': 0}\n",
      "\n"
     ]
    },
    {
     "name": "stderr",
     "output_type": "stream",
     "text": [
      "Flood | 1/4 | Epoch 1: 100%|██████████| 1/1 [00:08<00:00,  8.68s/it, humanitarian=0.0833, urgency=0.338, utility=0.495]\n"
     ]
    },
    {
     "name": "stdout",
     "output_type": "stream",
     "text": [
      "\n"
     ]
    },
    {
     "name": "stderr",
     "output_type": "stream",
     "text": [
      "Adding Flood in memory...: 100%|██████████| 1/1 [00:00<00:00, 467.70it/s]\n"
     ]
    },
    {
     "name": "stdout",
     "output_type": "stream",
     "text": [
      "\n",
      "\n",
      "Model Testing...\n",
      "\n",
      "Scores during training on Flood\n",
      "\n"
     ]
    },
    {
     "data": {
      "text/html": [
       "<style type=\"text/css\">\n",
       "#T_63edc_row0_col0, #T_63edc_row0_col1, #T_63edc_row1_col0, #T_63edc_row1_col1, #T_63edc_row1_col2, #T_63edc_row2_col0, #T_63edc_row2_col1, #T_63edc_row3_col0, #T_63edc_row4_col0 {\n",
       "  background-color: #ffffff;\n",
       "  color: #000000;\n",
       "}\n",
       "#T_63edc_row0_col2, #T_63edc_row2_col2, #T_63edc_row3_col2, #T_63edc_row4_col2 {\n",
       "  background-color: #000000;\n",
       "  color: #f1f1f1;\n",
       "}\n",
       "#T_63edc_row3_col1 {\n",
       "  background-color: #898989;\n",
       "  color: #f1f1f1;\n",
       "}\n",
       "#T_63edc_row4_col1 {\n",
       "  background-color: #c7c7c7;\n",
       "  color: #000000;\n",
       "}\n",
       "</style>\n",
       "<table id=\"T_63edc\">\n",
       "  <thead>\n",
       "    <tr>\n",
       "      <th class=\"blank level0\" >&nbsp;</th>\n",
       "      <th id=\"T_63edc_level0_col0\" class=\"col_heading level0 col0\" >humanitarian</th>\n",
       "      <th id=\"T_63edc_level0_col1\" class=\"col_heading level0 col1\" >urgency</th>\n",
       "      <th id=\"T_63edc_level0_col2\" class=\"col_heading level0 col2\" >utility</th>\n",
       "    </tr>\n",
       "  </thead>\n",
       "  <tbody>\n",
       "    <tr>\n",
       "      <th id=\"T_63edc_level0_row0\" class=\"row_heading level0 row0\" >Flood</th>\n",
       "      <td id=\"T_63edc_row0_col0\" class=\"data row0 col0\" >0.2500</td>\n",
       "      <td id=\"T_63edc_row0_col1\" class=\"data row0 col1\" >0.2500</td>\n",
       "      <td id=\"T_63edc_row0_col2\" class=\"data row0 col2\" >0.3750</td>\n",
       "    </tr>\n",
       "    <tr>\n",
       "      <th id=\"T_63edc_level0_row1\" class=\"row_heading level0 row1\" >Storms</th>\n",
       "      <td id=\"T_63edc_row1_col0\" class=\"data row1 col0\" >0.4444</td>\n",
       "      <td id=\"T_63edc_row1_col1\" class=\"data row1 col1\" >0.4444</td>\n",
       "      <td id=\"T_63edc_row1_col2\" class=\"data row1 col2\" >0.4444</td>\n",
       "    </tr>\n",
       "    <tr>\n",
       "      <th id=\"T_63edc_level0_row2\" class=\"row_heading level0 row2\" >Collapse</th>\n",
       "      <td id=\"T_63edc_row2_col0\" class=\"data row2 col0\" >0.2500</td>\n",
       "      <td id=\"T_63edc_row2_col1\" class=\"data row2 col1\" >0.2500</td>\n",
       "      <td id=\"T_63edc_row2_col2\" class=\"data row2 col2\" >0.3750</td>\n",
       "    </tr>\n",
       "    <tr>\n",
       "      <th id=\"T_63edc_level0_row3\" class=\"row_heading level0 row3\" >Hurricane</th>\n",
       "      <td id=\"T_63edc_row3_col0\" class=\"data row3 col0\" >0.1429</td>\n",
       "      <td id=\"T_63edc_row3_col1\" class=\"data row3 col1\" >0.2500</td>\n",
       "      <td id=\"T_63edc_row3_col2\" class=\"data row3 col2\" >0.3750</td>\n",
       "    </tr>\n",
       "    <tr>\n",
       "      <th id=\"T_63edc_level0_row4\" class=\"row_heading level0 row4\" >Average</th>\n",
       "      <td id=\"T_63edc_row4_col0\" class=\"data row4 col0\" >0.2718</td>\n",
       "      <td id=\"T_63edc_row4_col1\" class=\"data row4 col1\" >0.2986</td>\n",
       "      <td id=\"T_63edc_row4_col2\" class=\"data row4 col2\" >0.3924</td>\n",
       "    </tr>\n",
       "  </tbody>\n",
       "</table>\n"
      ],
      "text/plain": [
       "<pandas.io.formats.style.Styler at 0x1f95d1fc690>"
      ]
     },
     "metadata": {},
     "output_type": "display_data"
    },
    {
     "name": "stdout",
     "output_type": "stream",
     "text": [
      "\n",
      "New data  Storms\n",
      "Memory Size : {'Flood': 5, 'Storms': 0, 'Collapse': 0, 'Hurricane': 0}\n",
      "\n"
     ]
    },
    {
     "name": "stderr",
     "output_type": "stream",
     "text": [
      "Storms | 2/4 | Epoch 1: 100%|██████████| 1/1 [00:26<00:00, 26.16s/it, humanitarian=0.112, urgency=0.296, utility=0.444]\n"
     ]
    },
    {
     "name": "stdout",
     "output_type": "stream",
     "text": [
      "\n"
     ]
    },
    {
     "name": "stderr",
     "output_type": "stream",
     "text": [
      "Adding Storms in memory...: 100%|██████████| 1/1 [00:00<00:00, 546.35it/s]\n"
     ]
    },
    {
     "name": "stdout",
     "output_type": "stream",
     "text": [
      "\n",
      "\n",
      "Model Testing...\n",
      "\n",
      "Scores during training on Storms\n",
      "\n"
     ]
    },
    {
     "data": {
      "text/html": [
       "<style type=\"text/css\">\n",
       "#T_b63cd_row0_col0, #T_b63cd_row0_col1, #T_b63cd_row1_col0, #T_b63cd_row1_col1, #T_b63cd_row1_col2, #T_b63cd_row2_col0, #T_b63cd_row2_col1, #T_b63cd_row3_col0, #T_b63cd_row3_col1, #T_b63cd_row4_col0, #T_b63cd_row4_col1 {\n",
       "  background-color: #ffffff;\n",
       "  color: #000000;\n",
       "}\n",
       "#T_b63cd_row0_col2, #T_b63cd_row2_col2, #T_b63cd_row3_col2, #T_b63cd_row4_col2 {\n",
       "  background-color: #000000;\n",
       "  color: #f1f1f1;\n",
       "}\n",
       "</style>\n",
       "<table id=\"T_b63cd\">\n",
       "  <thead>\n",
       "    <tr>\n",
       "      <th class=\"blank level0\" >&nbsp;</th>\n",
       "      <th id=\"T_b63cd_level0_col0\" class=\"col_heading level0 col0\" >humanitarian</th>\n",
       "      <th id=\"T_b63cd_level0_col1\" class=\"col_heading level0 col1\" >urgency</th>\n",
       "      <th id=\"T_b63cd_level0_col2\" class=\"col_heading level0 col2\" >utility</th>\n",
       "    </tr>\n",
       "  </thead>\n",
       "  <tbody>\n",
       "    <tr>\n",
       "      <th id=\"T_b63cd_level0_row0\" class=\"row_heading level0 row0\" >Flood</th>\n",
       "      <td id=\"T_b63cd_row0_col0\" class=\"data row0 col0\" >0.2500</td>\n",
       "      <td id=\"T_b63cd_row0_col1\" class=\"data row0 col1\" >0.2500</td>\n",
       "      <td id=\"T_b63cd_row0_col2\" class=\"data row0 col2\" >0.3750</td>\n",
       "    </tr>\n",
       "    <tr>\n",
       "      <th id=\"T_b63cd_level0_row1\" class=\"row_heading level0 row1\" >Storms</th>\n",
       "      <td id=\"T_b63cd_row1_col0\" class=\"data row1 col0\" >0.4444</td>\n",
       "      <td id=\"T_b63cd_row1_col1\" class=\"data row1 col1\" >0.4444</td>\n",
       "      <td id=\"T_b63cd_row1_col2\" class=\"data row1 col2\" >0.4444</td>\n",
       "    </tr>\n",
       "    <tr>\n",
       "      <th id=\"T_b63cd_level0_row2\" class=\"row_heading level0 row2\" >Collapse</th>\n",
       "      <td id=\"T_b63cd_row2_col0\" class=\"data row2 col0\" >0.2500</td>\n",
       "      <td id=\"T_b63cd_row2_col1\" class=\"data row2 col1\" >0.2500</td>\n",
       "      <td id=\"T_b63cd_row2_col2\" class=\"data row2 col2\" >0.3750</td>\n",
       "    </tr>\n",
       "    <tr>\n",
       "      <th id=\"T_b63cd_level0_row3\" class=\"row_heading level0 row3\" >Hurricane</th>\n",
       "      <td id=\"T_b63cd_row3_col0\" class=\"data row3 col0\" >0.2500</td>\n",
       "      <td id=\"T_b63cd_row3_col1\" class=\"data row3 col1\" >0.2500</td>\n",
       "      <td id=\"T_b63cd_row3_col2\" class=\"data row3 col2\" >0.3750</td>\n",
       "    </tr>\n",
       "    <tr>\n",
       "      <th id=\"T_b63cd_level0_row4\" class=\"row_heading level0 row4\" >Average</th>\n",
       "      <td id=\"T_b63cd_row4_col0\" class=\"data row4 col0\" >0.2986</td>\n",
       "      <td id=\"T_b63cd_row4_col1\" class=\"data row4 col1\" >0.2986</td>\n",
       "      <td id=\"T_b63cd_row4_col2\" class=\"data row4 col2\" >0.3924</td>\n",
       "    </tr>\n",
       "  </tbody>\n",
       "</table>\n"
      ],
      "text/plain": [
       "<pandas.io.formats.style.Styler at 0x1f95d1fc690>"
      ]
     },
     "metadata": {},
     "output_type": "display_data"
    },
    {
     "name": "stdout",
     "output_type": "stream",
     "text": [
      "\n",
      "New data  Collapse\n",
      "Memory Size : {'Flood': 5, 'Storms': 5, 'Collapse': 0, 'Hurricane': 0}\n",
      "\n"
     ]
    },
    {
     "name": "stderr",
     "output_type": "stream",
     "text": [
      "Collapse | 3/4 | Epoch 1: 100%|██████████| 1/1 [00:11<00:00, 11.35s/it, humanitarian=1, urgency=1, utility=1]\n"
     ]
    },
    {
     "name": "stdout",
     "output_type": "stream",
     "text": [
      "\n"
     ]
    },
    {
     "name": "stderr",
     "output_type": "stream",
     "text": [
      "Adding Collapse in memory...: 100%|██████████| 1/1 [00:00<00:00, 618.26it/s]\n"
     ]
    },
    {
     "name": "stdout",
     "output_type": "stream",
     "text": [
      "\n",
      "\n",
      "Model Testing...\n",
      "\n",
      "Scores during training on Collapse\n",
      "\n"
     ]
    },
    {
     "data": {
      "text/html": [
       "<style type=\"text/css\">\n",
       "#T_0f80a_row0_col0, #T_0f80a_row0_col1, #T_0f80a_row1_col0, #T_0f80a_row1_col1, #T_0f80a_row1_col2, #T_0f80a_row2_col0, #T_0f80a_row2_col1, #T_0f80a_row3_col0, #T_0f80a_row3_col1, #T_0f80a_row4_col0, #T_0f80a_row4_col1 {\n",
       "  background-color: #ffffff;\n",
       "  color: #000000;\n",
       "}\n",
       "#T_0f80a_row0_col2, #T_0f80a_row2_col2, #T_0f80a_row3_col2, #T_0f80a_row4_col2 {\n",
       "  background-color: #000000;\n",
       "  color: #f1f1f1;\n",
       "}\n",
       "</style>\n",
       "<table id=\"T_0f80a\">\n",
       "  <thead>\n",
       "    <tr>\n",
       "      <th class=\"blank level0\" >&nbsp;</th>\n",
       "      <th id=\"T_0f80a_level0_col0\" class=\"col_heading level0 col0\" >humanitarian</th>\n",
       "      <th id=\"T_0f80a_level0_col1\" class=\"col_heading level0 col1\" >urgency</th>\n",
       "      <th id=\"T_0f80a_level0_col2\" class=\"col_heading level0 col2\" >utility</th>\n",
       "    </tr>\n",
       "  </thead>\n",
       "  <tbody>\n",
       "    <tr>\n",
       "      <th id=\"T_0f80a_level0_row0\" class=\"row_heading level0 row0\" >Flood</th>\n",
       "      <td id=\"T_0f80a_row0_col0\" class=\"data row0 col0\" >0.2500</td>\n",
       "      <td id=\"T_0f80a_row0_col1\" class=\"data row0 col1\" >0.2500</td>\n",
       "      <td id=\"T_0f80a_row0_col2\" class=\"data row0 col2\" >0.3750</td>\n",
       "    </tr>\n",
       "    <tr>\n",
       "      <th id=\"T_0f80a_level0_row1\" class=\"row_heading level0 row1\" >Storms</th>\n",
       "      <td id=\"T_0f80a_row1_col0\" class=\"data row1 col0\" >0.4444</td>\n",
       "      <td id=\"T_0f80a_row1_col1\" class=\"data row1 col1\" >0.4444</td>\n",
       "      <td id=\"T_0f80a_row1_col2\" class=\"data row1 col2\" >0.4444</td>\n",
       "    </tr>\n",
       "    <tr>\n",
       "      <th id=\"T_0f80a_level0_row2\" class=\"row_heading level0 row2\" >Collapse</th>\n",
       "      <td id=\"T_0f80a_row2_col0\" class=\"data row2 col0\" >0.2500</td>\n",
       "      <td id=\"T_0f80a_row2_col1\" class=\"data row2 col1\" >0.2500</td>\n",
       "      <td id=\"T_0f80a_row2_col2\" class=\"data row2 col2\" >0.3750</td>\n",
       "    </tr>\n",
       "    <tr>\n",
       "      <th id=\"T_0f80a_level0_row3\" class=\"row_heading level0 row3\" >Hurricane</th>\n",
       "      <td id=\"T_0f80a_row3_col0\" class=\"data row3 col0\" >0.2500</td>\n",
       "      <td id=\"T_0f80a_row3_col1\" class=\"data row3 col1\" >0.2500</td>\n",
       "      <td id=\"T_0f80a_row3_col2\" class=\"data row3 col2\" >0.3750</td>\n",
       "    </tr>\n",
       "    <tr>\n",
       "      <th id=\"T_0f80a_level0_row4\" class=\"row_heading level0 row4\" >Average</th>\n",
       "      <td id=\"T_0f80a_row4_col0\" class=\"data row4 col0\" >0.2986</td>\n",
       "      <td id=\"T_0f80a_row4_col1\" class=\"data row4 col1\" >0.2986</td>\n",
       "      <td id=\"T_0f80a_row4_col2\" class=\"data row4 col2\" >0.3924</td>\n",
       "    </tr>\n",
       "  </tbody>\n",
       "</table>\n"
      ],
      "text/plain": [
       "<pandas.io.formats.style.Styler at 0x1f95d1fc690>"
      ]
     },
     "metadata": {},
     "output_type": "display_data"
    },
    {
     "name": "stdout",
     "output_type": "stream",
     "text": [
      "\n",
      "New data  Hurricane\n",
      "Memory Size : {'Flood': 5, 'Storms': 5, 'Collapse': 5, 'Hurricane': 0}\n",
      "\n"
     ]
    },
    {
     "name": "stderr",
     "output_type": "stream",
     "text": [
      "Hurricane | 4/4 | Epoch 1: 100%|██████████| 1/1 [00:13<00:00, 13.87s/it, humanitarian=0.444, urgency=0.444, utility=0.444]\n"
     ]
    },
    {
     "name": "stdout",
     "output_type": "stream",
     "text": [
      "\n"
     ]
    },
    {
     "name": "stderr",
     "output_type": "stream",
     "text": [
      "Adding Hurricane in memory...: 100%|██████████| 1/1 [00:00<00:00, 589.83it/s]\n"
     ]
    },
    {
     "name": "stdout",
     "output_type": "stream",
     "text": [
      "\n",
      "\n",
      "Model Testing...\n",
      "\n",
      "Scores during training on Hurricane\n",
      "\n"
     ]
    },
    {
     "data": {
      "text/html": [
       "<style type=\"text/css\">\n",
       "#T_666ee_row0_col0, #T_666ee_row0_col1, #T_666ee_row1_col0, #T_666ee_row1_col1, #T_666ee_row1_col2, #T_666ee_row2_col0, #T_666ee_row2_col1, #T_666ee_row3_col0, #T_666ee_row3_col1, #T_666ee_row4_col0, #T_666ee_row4_col1 {\n",
       "  background-color: #ffffff;\n",
       "  color: #000000;\n",
       "}\n",
       "#T_666ee_row0_col2, #T_666ee_row2_col2, #T_666ee_row3_col2, #T_666ee_row4_col2 {\n",
       "  background-color: #000000;\n",
       "  color: #f1f1f1;\n",
       "}\n",
       "</style>\n",
       "<table id=\"T_666ee\">\n",
       "  <thead>\n",
       "    <tr>\n",
       "      <th class=\"blank level0\" >&nbsp;</th>\n",
       "      <th id=\"T_666ee_level0_col0\" class=\"col_heading level0 col0\" >humanitarian</th>\n",
       "      <th id=\"T_666ee_level0_col1\" class=\"col_heading level0 col1\" >urgency</th>\n",
       "      <th id=\"T_666ee_level0_col2\" class=\"col_heading level0 col2\" >utility</th>\n",
       "    </tr>\n",
       "  </thead>\n",
       "  <tbody>\n",
       "    <tr>\n",
       "      <th id=\"T_666ee_level0_row0\" class=\"row_heading level0 row0\" >Flood</th>\n",
       "      <td id=\"T_666ee_row0_col0\" class=\"data row0 col0\" >0.2500</td>\n",
       "      <td id=\"T_666ee_row0_col1\" class=\"data row0 col1\" >0.2500</td>\n",
       "      <td id=\"T_666ee_row0_col2\" class=\"data row0 col2\" >0.3750</td>\n",
       "    </tr>\n",
       "    <tr>\n",
       "      <th id=\"T_666ee_level0_row1\" class=\"row_heading level0 row1\" >Storms</th>\n",
       "      <td id=\"T_666ee_row1_col0\" class=\"data row1 col0\" >0.4444</td>\n",
       "      <td id=\"T_666ee_row1_col1\" class=\"data row1 col1\" >0.4444</td>\n",
       "      <td id=\"T_666ee_row1_col2\" class=\"data row1 col2\" >0.4444</td>\n",
       "    </tr>\n",
       "    <tr>\n",
       "      <th id=\"T_666ee_level0_row2\" class=\"row_heading level0 row2\" >Collapse</th>\n",
       "      <td id=\"T_666ee_row2_col0\" class=\"data row2 col0\" >0.2500</td>\n",
       "      <td id=\"T_666ee_row2_col1\" class=\"data row2 col1\" >0.2500</td>\n",
       "      <td id=\"T_666ee_row2_col2\" class=\"data row2 col2\" >0.3750</td>\n",
       "    </tr>\n",
       "    <tr>\n",
       "      <th id=\"T_666ee_level0_row3\" class=\"row_heading level0 row3\" >Hurricane</th>\n",
       "      <td id=\"T_666ee_row3_col0\" class=\"data row3 col0\" >0.2500</td>\n",
       "      <td id=\"T_666ee_row3_col1\" class=\"data row3 col1\" >0.2500</td>\n",
       "      <td id=\"T_666ee_row3_col2\" class=\"data row3 col2\" >0.3750</td>\n",
       "    </tr>\n",
       "    <tr>\n",
       "      <th id=\"T_666ee_level0_row4\" class=\"row_heading level0 row4\" >Average</th>\n",
       "      <td id=\"T_666ee_row4_col0\" class=\"data row4 col0\" >0.2986</td>\n",
       "      <td id=\"T_666ee_row4_col1\" class=\"data row4 col1\" >0.2986</td>\n",
       "      <td id=\"T_666ee_row4_col2\" class=\"data row4 col2\" >0.3924</td>\n",
       "    </tr>\n",
       "  </tbody>\n",
       "</table>\n"
      ],
      "text/plain": [
       "<pandas.io.formats.style.Styler at 0x1f95d1fc690>"
      ]
     },
     "metadata": {},
     "output_type": "display_data"
    },
    {
     "name": "stdout",
     "output_type": "stream",
     "text": [
      "Score for order Flood, Storms, Collapse, Hurricane\n",
      "\n"
     ]
    },
    {
     "name": "stderr",
     "output_type": "stream",
     "text": [
      "p:\\Programmes\\Python\\Python313\\Lib\\site-packages\\pandas\\io\\formats\\style.py:3807: RuntimeWarning: All-NaN slice encountered\n",
      "  smin = np.nanmin(gmap) if vmin is None else vmin\n",
      "p:\\Programmes\\Python\\Python313\\Lib\\site-packages\\pandas\\io\\formats\\style.py:3808: RuntimeWarning: All-NaN slice encountered\n",
      "  smax = np.nanmax(gmap) if vmax is None else vmax\n"
     ]
    },
    {
     "data": {
      "text/html": [
       "<style type=\"text/css\">\n",
       "#T_adf72_row0_col0, #T_adf72_row0_col1, #T_adf72_row1_col0, #T_adf72_row1_col1, #T_adf72_row1_col2, #T_adf72_row2_col0, #T_adf72_row2_col1, #T_adf72_row2_col2, #T_adf72_row3_col0, #T_adf72_row3_col1, #T_adf72_row3_col2, #T_adf72_row4_col0, #T_adf72_row4_col1, #T_adf72_row4_col2, #T_adf72_row6_col0, #T_adf72_row6_col1, #T_adf72_row6_col2, #T_adf72_row7_col0, #T_adf72_row7_col1, #T_adf72_row7_col2, #T_adf72_row8_col0, #T_adf72_row8_col1, #T_adf72_row8_col2, #T_adf72_row9_col0, #T_adf72_row9_col1, #T_adf72_row9_col2 {\n",
       "  background-color: #ffffff;\n",
       "  color: #000000;\n",
       "}\n",
       "#T_adf72_row0_col2, #T_adf72_row5_col0, #T_adf72_row5_col1, #T_adf72_row5_col2, #T_adf72_row10_col0, #T_adf72_row10_col1, #T_adf72_row10_col2 {\n",
       "  background-color: #000000;\n",
       "  color: #f1f1f1;\n",
       "}\n",
       "</style>\n",
       "<table id=\"T_adf72\">\n",
       "  <thead>\n",
       "    <tr>\n",
       "      <th class=\"blank level0\" >&nbsp;</th>\n",
       "      <th id=\"T_adf72_level0_col0\" class=\"col_heading level0 col0\" >humanitarian</th>\n",
       "      <th id=\"T_adf72_level0_col1\" class=\"col_heading level0 col1\" >urgency</th>\n",
       "      <th id=\"T_adf72_level0_col2\" class=\"col_heading level0 col2\" >utility</th>\n",
       "    </tr>\n",
       "  </thead>\n",
       "  <tbody>\n",
       "    <tr>\n",
       "      <th id=\"T_adf72_level0_row0\" class=\"row_heading level0 row0\" >AIA</th>\n",
       "      <td id=\"T_adf72_row0_col0\" class=\"data row0 col0\" >0.3472</td>\n",
       "      <td id=\"T_adf72_row0_col1\" class=\"data row0 col1\" >0.3472</td>\n",
       "      <td id=\"T_adf72_row0_col2\" class=\"data row0 col2\" >0.4271</td>\n",
       "    </tr>\n",
       "    <tr>\n",
       "      <th id=\"T_adf72_level0_row1\" class=\"row_heading level0 row1\" >BWT</th>\n",
       "      <td id=\"T_adf72_row1_col0\" class=\"data row1 col0\" >0.0000</td>\n",
       "      <td id=\"T_adf72_row1_col1\" class=\"data row1 col1\" >0.0000</td>\n",
       "      <td id=\"T_adf72_row1_col2\" class=\"data row1 col2\" >0.0000</td>\n",
       "    </tr>\n",
       "    <tr>\n",
       "      <th id=\"T_adf72_level0_row2\" class=\"row_heading level0 row2\" >BWT_Flood</th>\n",
       "      <td id=\"T_adf72_row2_col0\" class=\"data row2 col0\" >0.0000</td>\n",
       "      <td id=\"T_adf72_row2_col1\" class=\"data row2 col1\" >0.0000</td>\n",
       "      <td id=\"T_adf72_row2_col2\" class=\"data row2 col2\" >0.0000</td>\n",
       "    </tr>\n",
       "    <tr>\n",
       "      <th id=\"T_adf72_level0_row3\" class=\"row_heading level0 row3\" >BWT_Storms</th>\n",
       "      <td id=\"T_adf72_row3_col0\" class=\"data row3 col0\" >0.0000</td>\n",
       "      <td id=\"T_adf72_row3_col1\" class=\"data row3 col1\" >0.0000</td>\n",
       "      <td id=\"T_adf72_row3_col2\" class=\"data row3 col2\" >0.0000</td>\n",
       "    </tr>\n",
       "    <tr>\n",
       "      <th id=\"T_adf72_level0_row4\" class=\"row_heading level0 row4\" >BWT_Collapse</th>\n",
       "      <td id=\"T_adf72_row4_col0\" class=\"data row4 col0\" >0.0000</td>\n",
       "      <td id=\"T_adf72_row4_col1\" class=\"data row4 col1\" >0.0000</td>\n",
       "      <td id=\"T_adf72_row4_col2\" class=\"data row4 col2\" >0.0000</td>\n",
       "    </tr>\n",
       "    <tr>\n",
       "      <th id=\"T_adf72_level0_row5\" class=\"row_heading level0 row5\" >BWT_Hurricane</th>\n",
       "      <td id=\"T_adf72_row5_col0\" class=\"data row5 col0\" >nan</td>\n",
       "      <td id=\"T_adf72_row5_col1\" class=\"data row5 col1\" >nan</td>\n",
       "      <td id=\"T_adf72_row5_col2\" class=\"data row5 col2\" >nan</td>\n",
       "    </tr>\n",
       "    <tr>\n",
       "      <th id=\"T_adf72_level0_row6\" class=\"row_heading level0 row6\" >FM</th>\n",
       "      <td id=\"T_adf72_row6_col0\" class=\"data row6 col0\" >0.0000</td>\n",
       "      <td id=\"T_adf72_row6_col1\" class=\"data row6 col1\" >0.0000</td>\n",
       "      <td id=\"T_adf72_row6_col2\" class=\"data row6 col2\" >0.0000</td>\n",
       "    </tr>\n",
       "    <tr>\n",
       "      <th id=\"T_adf72_level0_row7\" class=\"row_heading level0 row7\" >FM_Flood</th>\n",
       "      <td id=\"T_adf72_row7_col0\" class=\"data row7 col0\" >0.0000</td>\n",
       "      <td id=\"T_adf72_row7_col1\" class=\"data row7 col1\" >0.0000</td>\n",
       "      <td id=\"T_adf72_row7_col2\" class=\"data row7 col2\" >0.0000</td>\n",
       "    </tr>\n",
       "    <tr>\n",
       "      <th id=\"T_adf72_level0_row8\" class=\"row_heading level0 row8\" >FM_Storms</th>\n",
       "      <td id=\"T_adf72_row8_col0\" class=\"data row8 col0\" >0.0000</td>\n",
       "      <td id=\"T_adf72_row8_col1\" class=\"data row8 col1\" >0.0000</td>\n",
       "      <td id=\"T_adf72_row8_col2\" class=\"data row8 col2\" >0.0000</td>\n",
       "    </tr>\n",
       "    <tr>\n",
       "      <th id=\"T_adf72_level0_row9\" class=\"row_heading level0 row9\" >FM_Collapse</th>\n",
       "      <td id=\"T_adf72_row9_col0\" class=\"data row9 col0\" >0.0000</td>\n",
       "      <td id=\"T_adf72_row9_col1\" class=\"data row9 col1\" >0.0000</td>\n",
       "      <td id=\"T_adf72_row9_col2\" class=\"data row9 col2\" >0.0000</td>\n",
       "    </tr>\n",
       "    <tr>\n",
       "      <th id=\"T_adf72_level0_row10\" class=\"row_heading level0 row10\" >FM_Hurricane</th>\n",
       "      <td id=\"T_adf72_row10_col0\" class=\"data row10 col0\" >nan</td>\n",
       "      <td id=\"T_adf72_row10_col1\" class=\"data row10 col1\" >nan</td>\n",
       "      <td id=\"T_adf72_row10_col2\" class=\"data row10 col2\" >nan</td>\n",
       "    </tr>\n",
       "  </tbody>\n",
       "</table>\n"
      ],
      "text/plain": [
       "<pandas.io.formats.style.Styler at 0x1f95e29e850>"
      ]
     },
     "metadata": {},
     "output_type": "display_data"
    },
    {
     "name": "stdout",
     "output_type": "stream",
     "text": [
      "\n",
      "Training on order Storms, Collapse, Hurricane, Flood | 2/4\n",
      "\n",
      "Training on split 1/3\n",
      "\n",
      "\n",
      "New data  Storms\n",
      "Memory Size : {'Flood': 0, 'Storms': 0, 'Collapse': 0, 'Hurricane': 0}\n",
      "\n"
     ]
    },
    {
     "name": "stderr",
     "output_type": "stream",
     "text": [
      "Storms | 1/4 | Epoch 1: 100%|██████████| 1/1 [00:27<00:00, 27.60s/it, humanitarian=0.0375, urgency=0.279, utility=0.398]\n"
     ]
    },
    {
     "name": "stdout",
     "output_type": "stream",
     "text": [
      "\n"
     ]
    },
    {
     "name": "stderr",
     "output_type": "stream",
     "text": [
      "Adding Storms in memory...: 100%|██████████| 1/1 [00:00<00:00, 535.60it/s]\n"
     ]
    },
    {
     "name": "stdout",
     "output_type": "stream",
     "text": [
      "\n",
      "\n",
      "Model Testing...\n",
      "\n",
      "Scores during training on Storms\n",
      "\n"
     ]
    },
    {
     "data": {
      "text/html": [
       "<style type=\"text/css\">\n",
       "#T_d2425_row0_col0, #T_d2425_row0_col1, #T_d2425_row0_col2, #T_d2425_row1_col0, #T_d2425_row1_col1, #T_d2425_row2_col0, #T_d2425_row2_col1, #T_d2425_row2_col2, #T_d2425_row3_col0, #T_d2425_row3_col1, #T_d2425_row4_col0, #T_d2425_row4_col1 {\n",
       "  background-color: #ffffff;\n",
       "  color: #000000;\n",
       "}\n",
       "#T_d2425_row1_col2, #T_d2425_row3_col2, #T_d2425_row4_col2 {\n",
       "  background-color: #000000;\n",
       "  color: #f1f1f1;\n",
       "}\n",
       "</style>\n",
       "<table id=\"T_d2425\">\n",
       "  <thead>\n",
       "    <tr>\n",
       "      <th class=\"blank level0\" >&nbsp;</th>\n",
       "      <th id=\"T_d2425_level0_col0\" class=\"col_heading level0 col0\" >humanitarian</th>\n",
       "      <th id=\"T_d2425_level0_col1\" class=\"col_heading level0 col1\" >urgency</th>\n",
       "      <th id=\"T_d2425_level0_col2\" class=\"col_heading level0 col2\" >utility</th>\n",
       "    </tr>\n",
       "  </thead>\n",
       "  <tbody>\n",
       "    <tr>\n",
       "      <th id=\"T_d2425_level0_row0\" class=\"row_heading level0 row0\" >Storms</th>\n",
       "      <td id=\"T_d2425_row0_col0\" class=\"data row0 col0\" >0.4444</td>\n",
       "      <td id=\"T_d2425_row0_col1\" class=\"data row0 col1\" >0.4444</td>\n",
       "      <td id=\"T_d2425_row0_col2\" class=\"data row0 col2\" >0.4444</td>\n",
       "    </tr>\n",
       "    <tr>\n",
       "      <th id=\"T_d2425_level0_row1\" class=\"row_heading level0 row1\" >Collapse</th>\n",
       "      <td id=\"T_d2425_row1_col0\" class=\"data row1 col0\" >0.2500</td>\n",
       "      <td id=\"T_d2425_row1_col1\" class=\"data row1 col1\" >0.2500</td>\n",
       "      <td id=\"T_d2425_row1_col2\" class=\"data row1 col2\" >0.3750</td>\n",
       "    </tr>\n",
       "    <tr>\n",
       "      <th id=\"T_d2425_level0_row2\" class=\"row_heading level0 row2\" >Hurricane</th>\n",
       "      <td id=\"T_d2425_row2_col0\" class=\"data row2 col0\" >0.4444</td>\n",
       "      <td id=\"T_d2425_row2_col1\" class=\"data row2 col1\" >0.4444</td>\n",
       "      <td id=\"T_d2425_row2_col2\" class=\"data row2 col2\" >0.4444</td>\n",
       "    </tr>\n",
       "    <tr>\n",
       "      <th id=\"T_d2425_level0_row3\" class=\"row_heading level0 row3\" >Flood</th>\n",
       "      <td id=\"T_d2425_row3_col0\" class=\"data row3 col0\" >0.2500</td>\n",
       "      <td id=\"T_d2425_row3_col1\" class=\"data row3 col1\" >0.2500</td>\n",
       "      <td id=\"T_d2425_row3_col2\" class=\"data row3 col2\" >0.3750</td>\n",
       "    </tr>\n",
       "    <tr>\n",
       "      <th id=\"T_d2425_level0_row4\" class=\"row_heading level0 row4\" >Average</th>\n",
       "      <td id=\"T_d2425_row4_col0\" class=\"data row4 col0\" >0.3472</td>\n",
       "      <td id=\"T_d2425_row4_col1\" class=\"data row4 col1\" >0.3472</td>\n",
       "      <td id=\"T_d2425_row4_col2\" class=\"data row4 col2\" >0.4097</td>\n",
       "    </tr>\n",
       "  </tbody>\n",
       "</table>\n"
      ],
      "text/plain": [
       "<pandas.io.formats.style.Styler at 0x1f95e29d810>"
      ]
     },
     "metadata": {},
     "output_type": "display_data"
    },
    {
     "name": "stdout",
     "output_type": "stream",
     "text": [
      "\n",
      "New data  Collapse\n",
      "Memory Size : {'Flood': 0, 'Storms': 5, 'Collapse': 0, 'Hurricane': 0}\n",
      "\n"
     ]
    },
    {
     "name": "stderr",
     "output_type": "stream",
     "text": [
      "Collapse | 2/4 | Epoch 1: 100%|██████████| 1/1 [00:07<00:00,  7.99s/it, humanitarian=1, urgency=1, utility=1]\n"
     ]
    },
    {
     "name": "stdout",
     "output_type": "stream",
     "text": [
      "\n"
     ]
    },
    {
     "name": "stderr",
     "output_type": "stream",
     "text": [
      "Adding Collapse in memory...: 100%|██████████| 1/1 [00:00<00:00, 442.20it/s]\n"
     ]
    },
    {
     "name": "stdout",
     "output_type": "stream",
     "text": [
      "\n",
      "\n",
      "Model Testing...\n",
      "\n",
      "Scores during training on Collapse\n",
      "\n"
     ]
    },
    {
     "data": {
      "text/html": [
       "<style type=\"text/css\">\n",
       "#T_b8c56_row0_col0, #T_b8c56_row0_col1, #T_b8c56_row0_col2, #T_b8c56_row1_col0, #T_b8c56_row1_col1, #T_b8c56_row2_col0, #T_b8c56_row2_col1, #T_b8c56_row2_col2, #T_b8c56_row3_col0, #T_b8c56_row3_col1, #T_b8c56_row4_col0, #T_b8c56_row4_col1 {\n",
       "  background-color: #ffffff;\n",
       "  color: #000000;\n",
       "}\n",
       "#T_b8c56_row1_col2, #T_b8c56_row3_col2, #T_b8c56_row4_col2 {\n",
       "  background-color: #000000;\n",
       "  color: #f1f1f1;\n",
       "}\n",
       "</style>\n",
       "<table id=\"T_b8c56\">\n",
       "  <thead>\n",
       "    <tr>\n",
       "      <th class=\"blank level0\" >&nbsp;</th>\n",
       "      <th id=\"T_b8c56_level0_col0\" class=\"col_heading level0 col0\" >humanitarian</th>\n",
       "      <th id=\"T_b8c56_level0_col1\" class=\"col_heading level0 col1\" >urgency</th>\n",
       "      <th id=\"T_b8c56_level0_col2\" class=\"col_heading level0 col2\" >utility</th>\n",
       "    </tr>\n",
       "  </thead>\n",
       "  <tbody>\n",
       "    <tr>\n",
       "      <th id=\"T_b8c56_level0_row0\" class=\"row_heading level0 row0\" >Storms</th>\n",
       "      <td id=\"T_b8c56_row0_col0\" class=\"data row0 col0\" >0.4444</td>\n",
       "      <td id=\"T_b8c56_row0_col1\" class=\"data row0 col1\" >0.4444</td>\n",
       "      <td id=\"T_b8c56_row0_col2\" class=\"data row0 col2\" >0.4444</td>\n",
       "    </tr>\n",
       "    <tr>\n",
       "      <th id=\"T_b8c56_level0_row1\" class=\"row_heading level0 row1\" >Collapse</th>\n",
       "      <td id=\"T_b8c56_row1_col0\" class=\"data row1 col0\" >0.2500</td>\n",
       "      <td id=\"T_b8c56_row1_col1\" class=\"data row1 col1\" >0.2500</td>\n",
       "      <td id=\"T_b8c56_row1_col2\" class=\"data row1 col2\" >0.3750</td>\n",
       "    </tr>\n",
       "    <tr>\n",
       "      <th id=\"T_b8c56_level0_row2\" class=\"row_heading level0 row2\" >Hurricane</th>\n",
       "      <td id=\"T_b8c56_row2_col0\" class=\"data row2 col0\" >0.4444</td>\n",
       "      <td id=\"T_b8c56_row2_col1\" class=\"data row2 col1\" >0.4444</td>\n",
       "      <td id=\"T_b8c56_row2_col2\" class=\"data row2 col2\" >0.4444</td>\n",
       "    </tr>\n",
       "    <tr>\n",
       "      <th id=\"T_b8c56_level0_row3\" class=\"row_heading level0 row3\" >Flood</th>\n",
       "      <td id=\"T_b8c56_row3_col0\" class=\"data row3 col0\" >0.2500</td>\n",
       "      <td id=\"T_b8c56_row3_col1\" class=\"data row3 col1\" >0.2500</td>\n",
       "      <td id=\"T_b8c56_row3_col2\" class=\"data row3 col2\" >0.3750</td>\n",
       "    </tr>\n",
       "    <tr>\n",
       "      <th id=\"T_b8c56_level0_row4\" class=\"row_heading level0 row4\" >Average</th>\n",
       "      <td id=\"T_b8c56_row4_col0\" class=\"data row4 col0\" >0.3472</td>\n",
       "      <td id=\"T_b8c56_row4_col1\" class=\"data row4 col1\" >0.3472</td>\n",
       "      <td id=\"T_b8c56_row4_col2\" class=\"data row4 col2\" >0.4097</td>\n",
       "    </tr>\n",
       "  </tbody>\n",
       "</table>\n"
      ],
      "text/plain": [
       "<pandas.io.formats.style.Styler at 0x1f95e29d810>"
      ]
     },
     "metadata": {},
     "output_type": "display_data"
    },
    {
     "name": "stdout",
     "output_type": "stream",
     "text": [
      "\n",
      "New data  Hurricane\n",
      "Memory Size : {'Flood': 0, 'Storms': 5, 'Collapse': 5, 'Hurricane': 0}\n",
      "\n"
     ]
    },
    {
     "name": "stderr",
     "output_type": "stream",
     "text": [
      "Hurricane | 3/4 | Epoch 1: 100%|██████████| 1/1 [00:11<00:00, 11.46s/it, humanitarian=0.25, urgency=0.25, utility=0.375]\n"
     ]
    },
    {
     "name": "stdout",
     "output_type": "stream",
     "text": [
      "\n"
     ]
    },
    {
     "name": "stderr",
     "output_type": "stream",
     "text": [
      "Adding Hurricane in memory...: 100%|██████████| 1/1 [00:00<00:00, 471.32it/s]\n"
     ]
    },
    {
     "name": "stdout",
     "output_type": "stream",
     "text": [
      "\n",
      "\n",
      "Model Testing...\n",
      "\n",
      "Scores during training on Hurricane\n",
      "\n"
     ]
    },
    {
     "data": {
      "text/html": [
       "<style type=\"text/css\">\n",
       "#T_a7987_row0_col0, #T_a7987_row0_col1, #T_a7987_row0_col2, #T_a7987_row1_col0, #T_a7987_row1_col1, #T_a7987_row2_col0, #T_a7987_row2_col1, #T_a7987_row2_col2, #T_a7987_row3_col0, #T_a7987_row3_col1, #T_a7987_row4_col0, #T_a7987_row4_col1 {\n",
       "  background-color: #ffffff;\n",
       "  color: #000000;\n",
       "}\n",
       "#T_a7987_row1_col2, #T_a7987_row3_col2, #T_a7987_row4_col2 {\n",
       "  background-color: #000000;\n",
       "  color: #f1f1f1;\n",
       "}\n",
       "</style>\n",
       "<table id=\"T_a7987\">\n",
       "  <thead>\n",
       "    <tr>\n",
       "      <th class=\"blank level0\" >&nbsp;</th>\n",
       "      <th id=\"T_a7987_level0_col0\" class=\"col_heading level0 col0\" >humanitarian</th>\n",
       "      <th id=\"T_a7987_level0_col1\" class=\"col_heading level0 col1\" >urgency</th>\n",
       "      <th id=\"T_a7987_level0_col2\" class=\"col_heading level0 col2\" >utility</th>\n",
       "    </tr>\n",
       "  </thead>\n",
       "  <tbody>\n",
       "    <tr>\n",
       "      <th id=\"T_a7987_level0_row0\" class=\"row_heading level0 row0\" >Storms</th>\n",
       "      <td id=\"T_a7987_row0_col0\" class=\"data row0 col0\" >0.4444</td>\n",
       "      <td id=\"T_a7987_row0_col1\" class=\"data row0 col1\" >0.4444</td>\n",
       "      <td id=\"T_a7987_row0_col2\" class=\"data row0 col2\" >0.4444</td>\n",
       "    </tr>\n",
       "    <tr>\n",
       "      <th id=\"T_a7987_level0_row1\" class=\"row_heading level0 row1\" >Collapse</th>\n",
       "      <td id=\"T_a7987_row1_col0\" class=\"data row1 col0\" >0.2500</td>\n",
       "      <td id=\"T_a7987_row1_col1\" class=\"data row1 col1\" >0.2500</td>\n",
       "      <td id=\"T_a7987_row1_col2\" class=\"data row1 col2\" >0.3750</td>\n",
       "    </tr>\n",
       "    <tr>\n",
       "      <th id=\"T_a7987_level0_row2\" class=\"row_heading level0 row2\" >Hurricane</th>\n",
       "      <td id=\"T_a7987_row2_col0\" class=\"data row2 col0\" >0.4444</td>\n",
       "      <td id=\"T_a7987_row2_col1\" class=\"data row2 col1\" >0.4444</td>\n",
       "      <td id=\"T_a7987_row2_col2\" class=\"data row2 col2\" >0.4444</td>\n",
       "    </tr>\n",
       "    <tr>\n",
       "      <th id=\"T_a7987_level0_row3\" class=\"row_heading level0 row3\" >Flood</th>\n",
       "      <td id=\"T_a7987_row3_col0\" class=\"data row3 col0\" >0.2500</td>\n",
       "      <td id=\"T_a7987_row3_col1\" class=\"data row3 col1\" >0.2500</td>\n",
       "      <td id=\"T_a7987_row3_col2\" class=\"data row3 col2\" >0.3750</td>\n",
       "    </tr>\n",
       "    <tr>\n",
       "      <th id=\"T_a7987_level0_row4\" class=\"row_heading level0 row4\" >Average</th>\n",
       "      <td id=\"T_a7987_row4_col0\" class=\"data row4 col0\" >0.3472</td>\n",
       "      <td id=\"T_a7987_row4_col1\" class=\"data row4 col1\" >0.3472</td>\n",
       "      <td id=\"T_a7987_row4_col2\" class=\"data row4 col2\" >0.4097</td>\n",
       "    </tr>\n",
       "  </tbody>\n",
       "</table>\n"
      ],
      "text/plain": [
       "<pandas.io.formats.style.Styler at 0x1f95e29d810>"
      ]
     },
     "metadata": {},
     "output_type": "display_data"
    },
    {
     "name": "stdout",
     "output_type": "stream",
     "text": [
      "\n",
      "New data  Flood\n",
      "Memory Size : {'Flood': 0, 'Storms': 5, 'Collapse': 5, 'Hurricane': 5}\n",
      "\n"
     ]
    },
    {
     "name": "stderr",
     "output_type": "stream",
     "text": [
      "Flood | 4/4 | Epoch 1: 100%|██████████| 1/1 [00:16<00:00, 16.75s/it, humanitarian=0.25, urgency=0.25, utility=0.375]\n"
     ]
    },
    {
     "name": "stdout",
     "output_type": "stream",
     "text": [
      "\n"
     ]
    },
    {
     "name": "stderr",
     "output_type": "stream",
     "text": [
      "Adding Flood in memory...: 100%|██████████| 1/1 [00:00<00:00, 780.19it/s]\n"
     ]
    },
    {
     "name": "stdout",
     "output_type": "stream",
     "text": [
      "\n",
      "\n",
      "Model Testing...\n",
      "\n",
      "Scores during training on Flood\n",
      "\n"
     ]
    },
    {
     "data": {
      "text/html": [
       "<style type=\"text/css\">\n",
       "#T_b9c7b_row0_col0, #T_b9c7b_row0_col1, #T_b9c7b_row0_col2, #T_b9c7b_row1_col0, #T_b9c7b_row1_col1, #T_b9c7b_row2_col0, #T_b9c7b_row2_col1, #T_b9c7b_row2_col2, #T_b9c7b_row3_col0, #T_b9c7b_row3_col1, #T_b9c7b_row4_col0, #T_b9c7b_row4_col1 {\n",
       "  background-color: #ffffff;\n",
       "  color: #000000;\n",
       "}\n",
       "#T_b9c7b_row1_col2, #T_b9c7b_row3_col2, #T_b9c7b_row4_col2 {\n",
       "  background-color: #000000;\n",
       "  color: #f1f1f1;\n",
       "}\n",
       "</style>\n",
       "<table id=\"T_b9c7b\">\n",
       "  <thead>\n",
       "    <tr>\n",
       "      <th class=\"blank level0\" >&nbsp;</th>\n",
       "      <th id=\"T_b9c7b_level0_col0\" class=\"col_heading level0 col0\" >humanitarian</th>\n",
       "      <th id=\"T_b9c7b_level0_col1\" class=\"col_heading level0 col1\" >urgency</th>\n",
       "      <th id=\"T_b9c7b_level0_col2\" class=\"col_heading level0 col2\" >utility</th>\n",
       "    </tr>\n",
       "  </thead>\n",
       "  <tbody>\n",
       "    <tr>\n",
       "      <th id=\"T_b9c7b_level0_row0\" class=\"row_heading level0 row0\" >Storms</th>\n",
       "      <td id=\"T_b9c7b_row0_col0\" class=\"data row0 col0\" >0.4444</td>\n",
       "      <td id=\"T_b9c7b_row0_col1\" class=\"data row0 col1\" >0.4444</td>\n",
       "      <td id=\"T_b9c7b_row0_col2\" class=\"data row0 col2\" >0.4444</td>\n",
       "    </tr>\n",
       "    <tr>\n",
       "      <th id=\"T_b9c7b_level0_row1\" class=\"row_heading level0 row1\" >Collapse</th>\n",
       "      <td id=\"T_b9c7b_row1_col0\" class=\"data row1 col0\" >0.2500</td>\n",
       "      <td id=\"T_b9c7b_row1_col1\" class=\"data row1 col1\" >0.2500</td>\n",
       "      <td id=\"T_b9c7b_row1_col2\" class=\"data row1 col2\" >0.3750</td>\n",
       "    </tr>\n",
       "    <tr>\n",
       "      <th id=\"T_b9c7b_level0_row2\" class=\"row_heading level0 row2\" >Hurricane</th>\n",
       "      <td id=\"T_b9c7b_row2_col0\" class=\"data row2 col0\" >0.4444</td>\n",
       "      <td id=\"T_b9c7b_row2_col1\" class=\"data row2 col1\" >0.4444</td>\n",
       "      <td id=\"T_b9c7b_row2_col2\" class=\"data row2 col2\" >0.4444</td>\n",
       "    </tr>\n",
       "    <tr>\n",
       "      <th id=\"T_b9c7b_level0_row3\" class=\"row_heading level0 row3\" >Flood</th>\n",
       "      <td id=\"T_b9c7b_row3_col0\" class=\"data row3 col0\" >0.2500</td>\n",
       "      <td id=\"T_b9c7b_row3_col1\" class=\"data row3 col1\" >0.2500</td>\n",
       "      <td id=\"T_b9c7b_row3_col2\" class=\"data row3 col2\" >0.3750</td>\n",
       "    </tr>\n",
       "    <tr>\n",
       "      <th id=\"T_b9c7b_level0_row4\" class=\"row_heading level0 row4\" >Average</th>\n",
       "      <td id=\"T_b9c7b_row4_col0\" class=\"data row4 col0\" >0.3472</td>\n",
       "      <td id=\"T_b9c7b_row4_col1\" class=\"data row4 col1\" >0.3472</td>\n",
       "      <td id=\"T_b9c7b_row4_col2\" class=\"data row4 col2\" >0.4097</td>\n",
       "    </tr>\n",
       "  </tbody>\n",
       "</table>\n"
      ],
      "text/plain": [
       "<pandas.io.formats.style.Styler at 0x1f95e29d810>"
      ]
     },
     "metadata": {},
     "output_type": "display_data"
    },
    {
     "name": "stdout",
     "output_type": "stream",
     "text": [
      "Training on split 2/3\n",
      "\n",
      "\n",
      "New data  Storms\n",
      "Memory Size : {'Flood': 0, 'Storms': 0, 'Collapse': 0, 'Hurricane': 0}\n",
      "\n"
     ]
    },
    {
     "name": "stderr",
     "output_type": "stream",
     "text": [
      "Storms | 1/4 | Epoch 1: 100%|██████████| 1/1 [00:27<00:00, 27.50s/it, humanitarian=0.0738, urgency=0.209, utility=0.45]\n"
     ]
    },
    {
     "name": "stdout",
     "output_type": "stream",
     "text": [
      "\n"
     ]
    },
    {
     "name": "stderr",
     "output_type": "stream",
     "text": [
      "Adding Storms in memory...: 100%|██████████| 1/1 [00:00<00:00, 581.57it/s]\n"
     ]
    },
    {
     "name": "stdout",
     "output_type": "stream",
     "text": [
      "\n",
      "\n",
      "Model Testing...\n",
      "\n",
      "Scores during training on Storms\n",
      "\n"
     ]
    },
    {
     "data": {
      "text/html": [
       "<style type=\"text/css\">\n",
       "#T_bc587_row0_col0, #T_bc587_row0_col1, #T_bc587_row0_col2, #T_bc587_row1_col0, #T_bc587_row1_col1, #T_bc587_row1_col2, #T_bc587_row2_col0, #T_bc587_row2_col1, #T_bc587_row2_col2, #T_bc587_row3_col0, #T_bc587_row3_col1, #T_bc587_row4_col0, #T_bc587_row4_col1 {\n",
       "  background-color: #ffffff;\n",
       "  color: #000000;\n",
       "}\n",
       "#T_bc587_row3_col2, #T_bc587_row4_col2 {\n",
       "  background-color: #000000;\n",
       "  color: #f1f1f1;\n",
       "}\n",
       "</style>\n",
       "<table id=\"T_bc587\">\n",
       "  <thead>\n",
       "    <tr>\n",
       "      <th class=\"blank level0\" >&nbsp;</th>\n",
       "      <th id=\"T_bc587_level0_col0\" class=\"col_heading level0 col0\" >humanitarian</th>\n",
       "      <th id=\"T_bc587_level0_col1\" class=\"col_heading level0 col1\" >urgency</th>\n",
       "      <th id=\"T_bc587_level0_col2\" class=\"col_heading level0 col2\" >utility</th>\n",
       "    </tr>\n",
       "  </thead>\n",
       "  <tbody>\n",
       "    <tr>\n",
       "      <th id=\"T_bc587_level0_row0\" class=\"row_heading level0 row0\" >Storms</th>\n",
       "      <td id=\"T_bc587_row0_col0\" class=\"data row0 col0\" >0.4444</td>\n",
       "      <td id=\"T_bc587_row0_col1\" class=\"data row0 col1\" >0.4444</td>\n",
       "      <td id=\"T_bc587_row0_col2\" class=\"data row0 col2\" >0.4444</td>\n",
       "    </tr>\n",
       "    <tr>\n",
       "      <th id=\"T_bc587_level0_row1\" class=\"row_heading level0 row1\" >Collapse</th>\n",
       "      <td id=\"T_bc587_row1_col0\" class=\"data row1 col0\" >1.0000</td>\n",
       "      <td id=\"T_bc587_row1_col1\" class=\"data row1 col1\" >1.0000</td>\n",
       "      <td id=\"T_bc587_row1_col2\" class=\"data row1 col2\" >1.0000</td>\n",
       "    </tr>\n",
       "    <tr>\n",
       "      <th id=\"T_bc587_level0_row2\" class=\"row_heading level0 row2\" >Hurricane</th>\n",
       "      <td id=\"T_bc587_row2_col0\" class=\"data row2 col0\" >0.4444</td>\n",
       "      <td id=\"T_bc587_row2_col1\" class=\"data row2 col1\" >0.4444</td>\n",
       "      <td id=\"T_bc587_row2_col2\" class=\"data row2 col2\" >0.4444</td>\n",
       "    </tr>\n",
       "    <tr>\n",
       "      <th id=\"T_bc587_level0_row3\" class=\"row_heading level0 row3\" >Flood</th>\n",
       "      <td id=\"T_bc587_row3_col0\" class=\"data row3 col0\" >0.2500</td>\n",
       "      <td id=\"T_bc587_row3_col1\" class=\"data row3 col1\" >0.2500</td>\n",
       "      <td id=\"T_bc587_row3_col2\" class=\"data row3 col2\" >0.3750</td>\n",
       "    </tr>\n",
       "    <tr>\n",
       "      <th id=\"T_bc587_level0_row4\" class=\"row_heading level0 row4\" >Average</th>\n",
       "      <td id=\"T_bc587_row4_col0\" class=\"data row4 col0\" >0.5347</td>\n",
       "      <td id=\"T_bc587_row4_col1\" class=\"data row4 col1\" >0.5347</td>\n",
       "      <td id=\"T_bc587_row4_col2\" class=\"data row4 col2\" >0.5660</td>\n",
       "    </tr>\n",
       "  </tbody>\n",
       "</table>\n"
      ],
      "text/plain": [
       "<pandas.io.formats.style.Styler at 0x1f95e29d6d0>"
      ]
     },
     "metadata": {},
     "output_type": "display_data"
    },
    {
     "name": "stdout",
     "output_type": "stream",
     "text": [
      "\n",
      "New data  Collapse\n",
      "Memory Size : {'Flood': 0, 'Storms': 5, 'Collapse': 0, 'Hurricane': 0}\n",
      "\n"
     ]
    },
    {
     "name": "stderr",
     "output_type": "stream",
     "text": [
      "Collapse | 2/4 | Epoch 1: 100%|██████████| 1/1 [00:07<00:00,  7.47s/it, humanitarian=0.25, urgency=0.25, utility=0.375]\n"
     ]
    },
    {
     "name": "stdout",
     "output_type": "stream",
     "text": [
      "\n"
     ]
    },
    {
     "name": "stderr",
     "output_type": "stream",
     "text": [
      "Adding Collapse in memory...: 100%|██████████| 1/1 [00:00<00:00, 693.96it/s]\n"
     ]
    },
    {
     "name": "stdout",
     "output_type": "stream",
     "text": [
      "\n",
      "\n",
      "Model Testing...\n",
      "\n",
      "Scores during training on Collapse\n",
      "\n"
     ]
    },
    {
     "data": {
      "text/html": [
       "<style type=\"text/css\">\n",
       "#T_01bb4_row0_col0, #T_01bb4_row0_col1, #T_01bb4_row0_col2, #T_01bb4_row1_col0, #T_01bb4_row1_col1, #T_01bb4_row1_col2, #T_01bb4_row2_col0, #T_01bb4_row2_col1, #T_01bb4_row2_col2, #T_01bb4_row3_col0, #T_01bb4_row3_col1, #T_01bb4_row4_col0, #T_01bb4_row4_col1 {\n",
       "  background-color: #ffffff;\n",
       "  color: #000000;\n",
       "}\n",
       "#T_01bb4_row3_col2, #T_01bb4_row4_col2 {\n",
       "  background-color: #000000;\n",
       "  color: #f1f1f1;\n",
       "}\n",
       "</style>\n",
       "<table id=\"T_01bb4\">\n",
       "  <thead>\n",
       "    <tr>\n",
       "      <th class=\"blank level0\" >&nbsp;</th>\n",
       "      <th id=\"T_01bb4_level0_col0\" class=\"col_heading level0 col0\" >humanitarian</th>\n",
       "      <th id=\"T_01bb4_level0_col1\" class=\"col_heading level0 col1\" >urgency</th>\n",
       "      <th id=\"T_01bb4_level0_col2\" class=\"col_heading level0 col2\" >utility</th>\n",
       "    </tr>\n",
       "  </thead>\n",
       "  <tbody>\n",
       "    <tr>\n",
       "      <th id=\"T_01bb4_level0_row0\" class=\"row_heading level0 row0\" >Storms</th>\n",
       "      <td id=\"T_01bb4_row0_col0\" class=\"data row0 col0\" >0.4444</td>\n",
       "      <td id=\"T_01bb4_row0_col1\" class=\"data row0 col1\" >0.4444</td>\n",
       "      <td id=\"T_01bb4_row0_col2\" class=\"data row0 col2\" >0.4444</td>\n",
       "    </tr>\n",
       "    <tr>\n",
       "      <th id=\"T_01bb4_level0_row1\" class=\"row_heading level0 row1\" >Collapse</th>\n",
       "      <td id=\"T_01bb4_row1_col0\" class=\"data row1 col0\" >1.0000</td>\n",
       "      <td id=\"T_01bb4_row1_col1\" class=\"data row1 col1\" >1.0000</td>\n",
       "      <td id=\"T_01bb4_row1_col2\" class=\"data row1 col2\" >1.0000</td>\n",
       "    </tr>\n",
       "    <tr>\n",
       "      <th id=\"T_01bb4_level0_row2\" class=\"row_heading level0 row2\" >Hurricane</th>\n",
       "      <td id=\"T_01bb4_row2_col0\" class=\"data row2 col0\" >0.4444</td>\n",
       "      <td id=\"T_01bb4_row2_col1\" class=\"data row2 col1\" >0.4444</td>\n",
       "      <td id=\"T_01bb4_row2_col2\" class=\"data row2 col2\" >0.4444</td>\n",
       "    </tr>\n",
       "    <tr>\n",
       "      <th id=\"T_01bb4_level0_row3\" class=\"row_heading level0 row3\" >Flood</th>\n",
       "      <td id=\"T_01bb4_row3_col0\" class=\"data row3 col0\" >0.2500</td>\n",
       "      <td id=\"T_01bb4_row3_col1\" class=\"data row3 col1\" >0.2500</td>\n",
       "      <td id=\"T_01bb4_row3_col2\" class=\"data row3 col2\" >0.3750</td>\n",
       "    </tr>\n",
       "    <tr>\n",
       "      <th id=\"T_01bb4_level0_row4\" class=\"row_heading level0 row4\" >Average</th>\n",
       "      <td id=\"T_01bb4_row4_col0\" class=\"data row4 col0\" >0.5347</td>\n",
       "      <td id=\"T_01bb4_row4_col1\" class=\"data row4 col1\" >0.5347</td>\n",
       "      <td id=\"T_01bb4_row4_col2\" class=\"data row4 col2\" >0.5660</td>\n",
       "    </tr>\n",
       "  </tbody>\n",
       "</table>\n"
      ],
      "text/plain": [
       "<pandas.io.formats.style.Styler at 0x1f95e29d6d0>"
      ]
     },
     "metadata": {},
     "output_type": "display_data"
    },
    {
     "name": "stdout",
     "output_type": "stream",
     "text": [
      "\n",
      "New data  Hurricane\n",
      "Memory Size : {'Flood': 0, 'Storms': 5, 'Collapse': 5, 'Hurricane': 0}\n",
      "\n"
     ]
    },
    {
     "name": "stderr",
     "output_type": "stream",
     "text": [
      "Hurricane | 3/4 | Epoch 1: 100%|██████████| 1/1 [00:10<00:00, 10.62s/it, humanitarian=0.25, urgency=0.25, utility=0.375]\n"
     ]
    },
    {
     "name": "stdout",
     "output_type": "stream",
     "text": [
      "\n"
     ]
    },
    {
     "name": "stderr",
     "output_type": "stream",
     "text": [
      "Adding Hurricane in memory...: 100%|██████████| 1/1 [00:00<00:00, 762.05it/s]\n"
     ]
    },
    {
     "name": "stdout",
     "output_type": "stream",
     "text": [
      "\n",
      "\n",
      "Model Testing...\n",
      "\n",
      "Scores during training on Hurricane\n",
      "\n"
     ]
    },
    {
     "data": {
      "text/html": [
       "<style type=\"text/css\">\n",
       "#T_3f367_row0_col0, #T_3f367_row0_col1, #T_3f367_row0_col2, #T_3f367_row1_col0, #T_3f367_row1_col1, #T_3f367_row1_col2, #T_3f367_row2_col0, #T_3f367_row2_col1, #T_3f367_row2_col2, #T_3f367_row3_col0, #T_3f367_row3_col1, #T_3f367_row4_col0, #T_3f367_row4_col1 {\n",
       "  background-color: #ffffff;\n",
       "  color: #000000;\n",
       "}\n",
       "#T_3f367_row3_col2, #T_3f367_row4_col2 {\n",
       "  background-color: #000000;\n",
       "  color: #f1f1f1;\n",
       "}\n",
       "</style>\n",
       "<table id=\"T_3f367\">\n",
       "  <thead>\n",
       "    <tr>\n",
       "      <th class=\"blank level0\" >&nbsp;</th>\n",
       "      <th id=\"T_3f367_level0_col0\" class=\"col_heading level0 col0\" >humanitarian</th>\n",
       "      <th id=\"T_3f367_level0_col1\" class=\"col_heading level0 col1\" >urgency</th>\n",
       "      <th id=\"T_3f367_level0_col2\" class=\"col_heading level0 col2\" >utility</th>\n",
       "    </tr>\n",
       "  </thead>\n",
       "  <tbody>\n",
       "    <tr>\n",
       "      <th id=\"T_3f367_level0_row0\" class=\"row_heading level0 row0\" >Storms</th>\n",
       "      <td id=\"T_3f367_row0_col0\" class=\"data row0 col0\" >0.4444</td>\n",
       "      <td id=\"T_3f367_row0_col1\" class=\"data row0 col1\" >0.4444</td>\n",
       "      <td id=\"T_3f367_row0_col2\" class=\"data row0 col2\" >0.4444</td>\n",
       "    </tr>\n",
       "    <tr>\n",
       "      <th id=\"T_3f367_level0_row1\" class=\"row_heading level0 row1\" >Collapse</th>\n",
       "      <td id=\"T_3f367_row1_col0\" class=\"data row1 col0\" >1.0000</td>\n",
       "      <td id=\"T_3f367_row1_col1\" class=\"data row1 col1\" >1.0000</td>\n",
       "      <td id=\"T_3f367_row1_col2\" class=\"data row1 col2\" >1.0000</td>\n",
       "    </tr>\n",
       "    <tr>\n",
       "      <th id=\"T_3f367_level0_row2\" class=\"row_heading level0 row2\" >Hurricane</th>\n",
       "      <td id=\"T_3f367_row2_col0\" class=\"data row2 col0\" >0.4444</td>\n",
       "      <td id=\"T_3f367_row2_col1\" class=\"data row2 col1\" >0.4444</td>\n",
       "      <td id=\"T_3f367_row2_col2\" class=\"data row2 col2\" >0.4444</td>\n",
       "    </tr>\n",
       "    <tr>\n",
       "      <th id=\"T_3f367_level0_row3\" class=\"row_heading level0 row3\" >Flood</th>\n",
       "      <td id=\"T_3f367_row3_col0\" class=\"data row3 col0\" >0.2500</td>\n",
       "      <td id=\"T_3f367_row3_col1\" class=\"data row3 col1\" >0.2500</td>\n",
       "      <td id=\"T_3f367_row3_col2\" class=\"data row3 col2\" >0.3750</td>\n",
       "    </tr>\n",
       "    <tr>\n",
       "      <th id=\"T_3f367_level0_row4\" class=\"row_heading level0 row4\" >Average</th>\n",
       "      <td id=\"T_3f367_row4_col0\" class=\"data row4 col0\" >0.5347</td>\n",
       "      <td id=\"T_3f367_row4_col1\" class=\"data row4 col1\" >0.5347</td>\n",
       "      <td id=\"T_3f367_row4_col2\" class=\"data row4 col2\" >0.5660</td>\n",
       "    </tr>\n",
       "  </tbody>\n",
       "</table>\n"
      ],
      "text/plain": [
       "<pandas.io.formats.style.Styler at 0x1f95e29d6d0>"
      ]
     },
     "metadata": {},
     "output_type": "display_data"
    },
    {
     "name": "stdout",
     "output_type": "stream",
     "text": [
      "\n",
      "New data  Flood\n",
      "Memory Size : {'Flood': 0, 'Storms': 5, 'Collapse': 5, 'Hurricane': 5}\n",
      "\n"
     ]
    },
    {
     "name": "stderr",
     "output_type": "stream",
     "text": [
      "Flood | 4/4 | Epoch 1: 100%|██████████| 1/1 [00:20<00:00, 20.74s/it, humanitarian=0.15, urgency=0.25, utility=0.375]\n"
     ]
    },
    {
     "name": "stdout",
     "output_type": "stream",
     "text": [
      "\n"
     ]
    },
    {
     "name": "stderr",
     "output_type": "stream",
     "text": [
      "Adding Flood in memory...: 100%|██████████| 1/1 [00:00<00:00, 710.30it/s]\n"
     ]
    },
    {
     "name": "stdout",
     "output_type": "stream",
     "text": [
      "\n",
      "\n",
      "Model Testing...\n",
      "\n",
      "Scores during training on Flood\n",
      "\n"
     ]
    },
    {
     "data": {
      "text/html": [
       "<style type=\"text/css\">\n",
       "#T_3c0fa_row0_col0, #T_3c0fa_row0_col1, #T_3c0fa_row0_col2, #T_3c0fa_row1_col0, #T_3c0fa_row1_col1, #T_3c0fa_row1_col2, #T_3c0fa_row2_col0, #T_3c0fa_row2_col1, #T_3c0fa_row2_col2, #T_3c0fa_row3_col0, #T_3c0fa_row3_col1, #T_3c0fa_row4_col0, #T_3c0fa_row4_col1 {\n",
       "  background-color: #ffffff;\n",
       "  color: #000000;\n",
       "}\n",
       "#T_3c0fa_row3_col2, #T_3c0fa_row4_col2 {\n",
       "  background-color: #000000;\n",
       "  color: #f1f1f1;\n",
       "}\n",
       "</style>\n",
       "<table id=\"T_3c0fa\">\n",
       "  <thead>\n",
       "    <tr>\n",
       "      <th class=\"blank level0\" >&nbsp;</th>\n",
       "      <th id=\"T_3c0fa_level0_col0\" class=\"col_heading level0 col0\" >humanitarian</th>\n",
       "      <th id=\"T_3c0fa_level0_col1\" class=\"col_heading level0 col1\" >urgency</th>\n",
       "      <th id=\"T_3c0fa_level0_col2\" class=\"col_heading level0 col2\" >utility</th>\n",
       "    </tr>\n",
       "  </thead>\n",
       "  <tbody>\n",
       "    <tr>\n",
       "      <th id=\"T_3c0fa_level0_row0\" class=\"row_heading level0 row0\" >Storms</th>\n",
       "      <td id=\"T_3c0fa_row0_col0\" class=\"data row0 col0\" >0.4444</td>\n",
       "      <td id=\"T_3c0fa_row0_col1\" class=\"data row0 col1\" >0.4444</td>\n",
       "      <td id=\"T_3c0fa_row0_col2\" class=\"data row0 col2\" >0.4444</td>\n",
       "    </tr>\n",
       "    <tr>\n",
       "      <th id=\"T_3c0fa_level0_row1\" class=\"row_heading level0 row1\" >Collapse</th>\n",
       "      <td id=\"T_3c0fa_row1_col0\" class=\"data row1 col0\" >1.0000</td>\n",
       "      <td id=\"T_3c0fa_row1_col1\" class=\"data row1 col1\" >1.0000</td>\n",
       "      <td id=\"T_3c0fa_row1_col2\" class=\"data row1 col2\" >1.0000</td>\n",
       "    </tr>\n",
       "    <tr>\n",
       "      <th id=\"T_3c0fa_level0_row2\" class=\"row_heading level0 row2\" >Hurricane</th>\n",
       "      <td id=\"T_3c0fa_row2_col0\" class=\"data row2 col0\" >0.4444</td>\n",
       "      <td id=\"T_3c0fa_row2_col1\" class=\"data row2 col1\" >0.4444</td>\n",
       "      <td id=\"T_3c0fa_row2_col2\" class=\"data row2 col2\" >0.4444</td>\n",
       "    </tr>\n",
       "    <tr>\n",
       "      <th id=\"T_3c0fa_level0_row3\" class=\"row_heading level0 row3\" >Flood</th>\n",
       "      <td id=\"T_3c0fa_row3_col0\" class=\"data row3 col0\" >0.2500</td>\n",
       "      <td id=\"T_3c0fa_row3_col1\" class=\"data row3 col1\" >0.2500</td>\n",
       "      <td id=\"T_3c0fa_row3_col2\" class=\"data row3 col2\" >0.3750</td>\n",
       "    </tr>\n",
       "    <tr>\n",
       "      <th id=\"T_3c0fa_level0_row4\" class=\"row_heading level0 row4\" >Average</th>\n",
       "      <td id=\"T_3c0fa_row4_col0\" class=\"data row4 col0\" >0.5347</td>\n",
       "      <td id=\"T_3c0fa_row4_col1\" class=\"data row4 col1\" >0.5347</td>\n",
       "      <td id=\"T_3c0fa_row4_col2\" class=\"data row4 col2\" >0.5660</td>\n",
       "    </tr>\n",
       "  </tbody>\n",
       "</table>\n"
      ],
      "text/plain": [
       "<pandas.io.formats.style.Styler at 0x1f95e29d6d0>"
      ]
     },
     "metadata": {},
     "output_type": "display_data"
    },
    {
     "name": "stdout",
     "output_type": "stream",
     "text": [
      "Training on split 3/3\n",
      "\n",
      "\n",
      "New data  Storms\n",
      "Memory Size : {'Flood': 0, 'Storms': 0, 'Collapse': 0, 'Hurricane': 0}\n",
      "\n"
     ]
    },
    {
     "name": "stderr",
     "output_type": "stream",
     "text": [
      "Storms | 1/4 | Epoch 1: 100%|██████████| 1/1 [00:29<00:00, 29.28s/it, humanitarian=0.0222, urgency=0.477, utility=0.681]\n"
     ]
    },
    {
     "name": "stdout",
     "output_type": "stream",
     "text": [
      "\n"
     ]
    },
    {
     "name": "stderr",
     "output_type": "stream",
     "text": [
      "Adding Storms in memory...: 100%|██████████| 1/1 [00:00<00:00, 435.14it/s]\n"
     ]
    },
    {
     "name": "stdout",
     "output_type": "stream",
     "text": [
      "\n",
      "\n",
      "Model Testing...\n",
      "\n",
      "Scores during training on Storms\n",
      "\n"
     ]
    },
    {
     "data": {
      "text/html": [
       "<style type=\"text/css\">\n",
       "#T_bf635_row0_col0, #T_bf635_row0_col1, #T_bf635_row0_col2, #T_bf635_row1_col0, #T_bf635_row1_col1, #T_bf635_row2_col0, #T_bf635_row2_col1, #T_bf635_row3_col0, #T_bf635_row3_col1, #T_bf635_row4_col0, #T_bf635_row4_col1 {\n",
       "  background-color: #ffffff;\n",
       "  color: #000000;\n",
       "}\n",
       "#T_bf635_row1_col2, #T_bf635_row2_col2, #T_bf635_row3_col2, #T_bf635_row4_col2 {\n",
       "  background-color: #000000;\n",
       "  color: #f1f1f1;\n",
       "}\n",
       "</style>\n",
       "<table id=\"T_bf635\">\n",
       "  <thead>\n",
       "    <tr>\n",
       "      <th class=\"blank level0\" >&nbsp;</th>\n",
       "      <th id=\"T_bf635_level0_col0\" class=\"col_heading level0 col0\" >humanitarian</th>\n",
       "      <th id=\"T_bf635_level0_col1\" class=\"col_heading level0 col1\" >urgency</th>\n",
       "      <th id=\"T_bf635_level0_col2\" class=\"col_heading level0 col2\" >utility</th>\n",
       "    </tr>\n",
       "  </thead>\n",
       "  <tbody>\n",
       "    <tr>\n",
       "      <th id=\"T_bf635_level0_row0\" class=\"row_heading level0 row0\" >Storms</th>\n",
       "      <td id=\"T_bf635_row0_col0\" class=\"data row0 col0\" >0.4444</td>\n",
       "      <td id=\"T_bf635_row0_col1\" class=\"data row0 col1\" >0.4444</td>\n",
       "      <td id=\"T_bf635_row0_col2\" class=\"data row0 col2\" >0.4444</td>\n",
       "    </tr>\n",
       "    <tr>\n",
       "      <th id=\"T_bf635_level0_row1\" class=\"row_heading level0 row1\" >Collapse</th>\n",
       "      <td id=\"T_bf635_row1_col0\" class=\"data row1 col0\" >0.2500</td>\n",
       "      <td id=\"T_bf635_row1_col1\" class=\"data row1 col1\" >0.2500</td>\n",
       "      <td id=\"T_bf635_row1_col2\" class=\"data row1 col2\" >0.3750</td>\n",
       "    </tr>\n",
       "    <tr>\n",
       "      <th id=\"T_bf635_level0_row2\" class=\"row_heading level0 row2\" >Hurricane</th>\n",
       "      <td id=\"T_bf635_row2_col0\" class=\"data row2 col0\" >0.2500</td>\n",
       "      <td id=\"T_bf635_row2_col1\" class=\"data row2 col1\" >0.2500</td>\n",
       "      <td id=\"T_bf635_row2_col2\" class=\"data row2 col2\" >0.3750</td>\n",
       "    </tr>\n",
       "    <tr>\n",
       "      <th id=\"T_bf635_level0_row3\" class=\"row_heading level0 row3\" >Flood</th>\n",
       "      <td id=\"T_bf635_row3_col0\" class=\"data row3 col0\" >0.2500</td>\n",
       "      <td id=\"T_bf635_row3_col1\" class=\"data row3 col1\" >0.2500</td>\n",
       "      <td id=\"T_bf635_row3_col2\" class=\"data row3 col2\" >0.3750</td>\n",
       "    </tr>\n",
       "    <tr>\n",
       "      <th id=\"T_bf635_level0_row4\" class=\"row_heading level0 row4\" >Average</th>\n",
       "      <td id=\"T_bf635_row4_col0\" class=\"data row4 col0\" >0.2986</td>\n",
       "      <td id=\"T_bf635_row4_col1\" class=\"data row4 col1\" >0.2986</td>\n",
       "      <td id=\"T_bf635_row4_col2\" class=\"data row4 col2\" >0.3924</td>\n",
       "    </tr>\n",
       "  </tbody>\n",
       "</table>\n"
      ],
      "text/plain": [
       "<pandas.io.formats.style.Styler at 0x1f95e29d810>"
      ]
     },
     "metadata": {},
     "output_type": "display_data"
    },
    {
     "name": "stdout",
     "output_type": "stream",
     "text": [
      "\n",
      "New data  Collapse\n",
      "Memory Size : {'Flood': 0, 'Storms': 5, 'Collapse': 0, 'Hurricane': 0}\n",
      "\n"
     ]
    },
    {
     "name": "stderr",
     "output_type": "stream",
     "text": [
      "Collapse | 2/4 | Epoch 1: 100%|██████████| 1/1 [00:07<00:00,  7.38s/it, humanitarian=1, urgency=1, utility=1]\n"
     ]
    },
    {
     "name": "stdout",
     "output_type": "stream",
     "text": [
      "\n"
     ]
    },
    {
     "name": "stderr",
     "output_type": "stream",
     "text": [
      "Adding Collapse in memory...: 100%|██████████| 1/1 [00:00<00:00, 499.38it/s]\n"
     ]
    },
    {
     "name": "stdout",
     "output_type": "stream",
     "text": [
      "\n",
      "\n",
      "Model Testing...\n",
      "\n",
      "Scores during training on Collapse\n",
      "\n"
     ]
    },
    {
     "data": {
      "text/html": [
       "<style type=\"text/css\">\n",
       "#T_84861_row0_col0, #T_84861_row0_col1, #T_84861_row0_col2, #T_84861_row1_col0, #T_84861_row1_col1, #T_84861_row2_col0, #T_84861_row2_col1, #T_84861_row3_col0, #T_84861_row3_col1, #T_84861_row4_col0, #T_84861_row4_col1 {\n",
       "  background-color: #ffffff;\n",
       "  color: #000000;\n",
       "}\n",
       "#T_84861_row1_col2, #T_84861_row2_col2, #T_84861_row3_col2, #T_84861_row4_col2 {\n",
       "  background-color: #000000;\n",
       "  color: #f1f1f1;\n",
       "}\n",
       "</style>\n",
       "<table id=\"T_84861\">\n",
       "  <thead>\n",
       "    <tr>\n",
       "      <th class=\"blank level0\" >&nbsp;</th>\n",
       "      <th id=\"T_84861_level0_col0\" class=\"col_heading level0 col0\" >humanitarian</th>\n",
       "      <th id=\"T_84861_level0_col1\" class=\"col_heading level0 col1\" >urgency</th>\n",
       "      <th id=\"T_84861_level0_col2\" class=\"col_heading level0 col2\" >utility</th>\n",
       "    </tr>\n",
       "  </thead>\n",
       "  <tbody>\n",
       "    <tr>\n",
       "      <th id=\"T_84861_level0_row0\" class=\"row_heading level0 row0\" >Storms</th>\n",
       "      <td id=\"T_84861_row0_col0\" class=\"data row0 col0\" >0.4444</td>\n",
       "      <td id=\"T_84861_row0_col1\" class=\"data row0 col1\" >0.4444</td>\n",
       "      <td id=\"T_84861_row0_col2\" class=\"data row0 col2\" >0.4444</td>\n",
       "    </tr>\n",
       "    <tr>\n",
       "      <th id=\"T_84861_level0_row1\" class=\"row_heading level0 row1\" >Collapse</th>\n",
       "      <td id=\"T_84861_row1_col0\" class=\"data row1 col0\" >0.2500</td>\n",
       "      <td id=\"T_84861_row1_col1\" class=\"data row1 col1\" >0.2500</td>\n",
       "      <td id=\"T_84861_row1_col2\" class=\"data row1 col2\" >0.3750</td>\n",
       "    </tr>\n",
       "    <tr>\n",
       "      <th id=\"T_84861_level0_row2\" class=\"row_heading level0 row2\" >Hurricane</th>\n",
       "      <td id=\"T_84861_row2_col0\" class=\"data row2 col0\" >0.2500</td>\n",
       "      <td id=\"T_84861_row2_col1\" class=\"data row2 col1\" >0.2500</td>\n",
       "      <td id=\"T_84861_row2_col2\" class=\"data row2 col2\" >0.3750</td>\n",
       "    </tr>\n",
       "    <tr>\n",
       "      <th id=\"T_84861_level0_row3\" class=\"row_heading level0 row3\" >Flood</th>\n",
       "      <td id=\"T_84861_row3_col0\" class=\"data row3 col0\" >0.2500</td>\n",
       "      <td id=\"T_84861_row3_col1\" class=\"data row3 col1\" >0.2500</td>\n",
       "      <td id=\"T_84861_row3_col2\" class=\"data row3 col2\" >0.3750</td>\n",
       "    </tr>\n",
       "    <tr>\n",
       "      <th id=\"T_84861_level0_row4\" class=\"row_heading level0 row4\" >Average</th>\n",
       "      <td id=\"T_84861_row4_col0\" class=\"data row4 col0\" >0.2986</td>\n",
       "      <td id=\"T_84861_row4_col1\" class=\"data row4 col1\" >0.2986</td>\n",
       "      <td id=\"T_84861_row4_col2\" class=\"data row4 col2\" >0.3924</td>\n",
       "    </tr>\n",
       "  </tbody>\n",
       "</table>\n"
      ],
      "text/plain": [
       "<pandas.io.formats.style.Styler at 0x1f95e29d810>"
      ]
     },
     "metadata": {},
     "output_type": "display_data"
    },
    {
     "name": "stdout",
     "output_type": "stream",
     "text": [
      "\n",
      "New data  Hurricane\n",
      "Memory Size : {'Flood': 0, 'Storms': 5, 'Collapse': 5, 'Hurricane': 0}\n",
      "\n"
     ]
    },
    {
     "name": "stderr",
     "output_type": "stream",
     "text": [
      "Hurricane | 3/4 | Epoch 1: 100%|██████████| 1/1 [00:12<00:00, 12.06s/it, humanitarian=0.444, urgency=0.444, utility=0.444]\n"
     ]
    },
    {
     "name": "stdout",
     "output_type": "stream",
     "text": [
      "\n"
     ]
    },
    {
     "name": "stderr",
     "output_type": "stream",
     "text": [
      "Adding Hurricane in memory...: 100%|██████████| 1/1 [00:00<00:00, 712.23it/s]\n"
     ]
    },
    {
     "name": "stdout",
     "output_type": "stream",
     "text": [
      "\n",
      "\n",
      "Model Testing...\n",
      "\n",
      "Scores during training on Hurricane\n",
      "\n"
     ]
    },
    {
     "data": {
      "text/html": [
       "<style type=\"text/css\">\n",
       "#T_6b5fb_row0_col0, #T_6b5fb_row0_col1, #T_6b5fb_row0_col2, #T_6b5fb_row1_col0, #T_6b5fb_row1_col1, #T_6b5fb_row2_col0, #T_6b5fb_row2_col1, #T_6b5fb_row3_col0, #T_6b5fb_row3_col1, #T_6b5fb_row4_col0, #T_6b5fb_row4_col1 {\n",
       "  background-color: #ffffff;\n",
       "  color: #000000;\n",
       "}\n",
       "#T_6b5fb_row1_col2, #T_6b5fb_row2_col2, #T_6b5fb_row3_col2, #T_6b5fb_row4_col2 {\n",
       "  background-color: #000000;\n",
       "  color: #f1f1f1;\n",
       "}\n",
       "</style>\n",
       "<table id=\"T_6b5fb\">\n",
       "  <thead>\n",
       "    <tr>\n",
       "      <th class=\"blank level0\" >&nbsp;</th>\n",
       "      <th id=\"T_6b5fb_level0_col0\" class=\"col_heading level0 col0\" >humanitarian</th>\n",
       "      <th id=\"T_6b5fb_level0_col1\" class=\"col_heading level0 col1\" >urgency</th>\n",
       "      <th id=\"T_6b5fb_level0_col2\" class=\"col_heading level0 col2\" >utility</th>\n",
       "    </tr>\n",
       "  </thead>\n",
       "  <tbody>\n",
       "    <tr>\n",
       "      <th id=\"T_6b5fb_level0_row0\" class=\"row_heading level0 row0\" >Storms</th>\n",
       "      <td id=\"T_6b5fb_row0_col0\" class=\"data row0 col0\" >0.4444</td>\n",
       "      <td id=\"T_6b5fb_row0_col1\" class=\"data row0 col1\" >0.4444</td>\n",
       "      <td id=\"T_6b5fb_row0_col2\" class=\"data row0 col2\" >0.4444</td>\n",
       "    </tr>\n",
       "    <tr>\n",
       "      <th id=\"T_6b5fb_level0_row1\" class=\"row_heading level0 row1\" >Collapse</th>\n",
       "      <td id=\"T_6b5fb_row1_col0\" class=\"data row1 col0\" >0.2500</td>\n",
       "      <td id=\"T_6b5fb_row1_col1\" class=\"data row1 col1\" >0.2500</td>\n",
       "      <td id=\"T_6b5fb_row1_col2\" class=\"data row1 col2\" >0.3750</td>\n",
       "    </tr>\n",
       "    <tr>\n",
       "      <th id=\"T_6b5fb_level0_row2\" class=\"row_heading level0 row2\" >Hurricane</th>\n",
       "      <td id=\"T_6b5fb_row2_col0\" class=\"data row2 col0\" >0.2500</td>\n",
       "      <td id=\"T_6b5fb_row2_col1\" class=\"data row2 col1\" >0.2500</td>\n",
       "      <td id=\"T_6b5fb_row2_col2\" class=\"data row2 col2\" >0.3750</td>\n",
       "    </tr>\n",
       "    <tr>\n",
       "      <th id=\"T_6b5fb_level0_row3\" class=\"row_heading level0 row3\" >Flood</th>\n",
       "      <td id=\"T_6b5fb_row3_col0\" class=\"data row3 col0\" >0.2500</td>\n",
       "      <td id=\"T_6b5fb_row3_col1\" class=\"data row3 col1\" >0.2500</td>\n",
       "      <td id=\"T_6b5fb_row3_col2\" class=\"data row3 col2\" >0.3750</td>\n",
       "    </tr>\n",
       "    <tr>\n",
       "      <th id=\"T_6b5fb_level0_row4\" class=\"row_heading level0 row4\" >Average</th>\n",
       "      <td id=\"T_6b5fb_row4_col0\" class=\"data row4 col0\" >0.2986</td>\n",
       "      <td id=\"T_6b5fb_row4_col1\" class=\"data row4 col1\" >0.2986</td>\n",
       "      <td id=\"T_6b5fb_row4_col2\" class=\"data row4 col2\" >0.3924</td>\n",
       "    </tr>\n",
       "  </tbody>\n",
       "</table>\n"
      ],
      "text/plain": [
       "<pandas.io.formats.style.Styler at 0x1f95e29d810>"
      ]
     },
     "metadata": {},
     "output_type": "display_data"
    },
    {
     "name": "stdout",
     "output_type": "stream",
     "text": [
      "\n",
      "New data  Flood\n",
      "Memory Size : {'Flood': 0, 'Storms': 5, 'Collapse': 5, 'Hurricane': 5}\n",
      "\n"
     ]
    },
    {
     "name": "stderr",
     "output_type": "stream",
     "text": [
      "Flood | 4/4 | Epoch 1: 100%|██████████| 1/1 [00:17<00:00, 17.06s/it, humanitarian=0.15, urgency=0.25, utility=0.375]\n"
     ]
    },
    {
     "name": "stdout",
     "output_type": "stream",
     "text": [
      "\n"
     ]
    },
    {
     "name": "stderr",
     "output_type": "stream",
     "text": [
      "Adding Flood in memory...: 100%|██████████| 1/1 [00:00<00:00, 734.43it/s]\n"
     ]
    },
    {
     "name": "stdout",
     "output_type": "stream",
     "text": [
      "\n",
      "\n",
      "Model Testing...\n",
      "\n",
      "Scores during training on Flood\n",
      "\n"
     ]
    },
    {
     "data": {
      "text/html": [
       "<style type=\"text/css\">\n",
       "#T_218bf_row0_col0, #T_218bf_row0_col1, #T_218bf_row0_col2, #T_218bf_row1_col0, #T_218bf_row1_col1, #T_218bf_row2_col0, #T_218bf_row2_col1, #T_218bf_row3_col0, #T_218bf_row3_col1, #T_218bf_row4_col0, #T_218bf_row4_col1 {\n",
       "  background-color: #ffffff;\n",
       "  color: #000000;\n",
       "}\n",
       "#T_218bf_row1_col2, #T_218bf_row2_col2, #T_218bf_row3_col2, #T_218bf_row4_col2 {\n",
       "  background-color: #000000;\n",
       "  color: #f1f1f1;\n",
       "}\n",
       "</style>\n",
       "<table id=\"T_218bf\">\n",
       "  <thead>\n",
       "    <tr>\n",
       "      <th class=\"blank level0\" >&nbsp;</th>\n",
       "      <th id=\"T_218bf_level0_col0\" class=\"col_heading level0 col0\" >humanitarian</th>\n",
       "      <th id=\"T_218bf_level0_col1\" class=\"col_heading level0 col1\" >urgency</th>\n",
       "      <th id=\"T_218bf_level0_col2\" class=\"col_heading level0 col2\" >utility</th>\n",
       "    </tr>\n",
       "  </thead>\n",
       "  <tbody>\n",
       "    <tr>\n",
       "      <th id=\"T_218bf_level0_row0\" class=\"row_heading level0 row0\" >Storms</th>\n",
       "      <td id=\"T_218bf_row0_col0\" class=\"data row0 col0\" >0.4444</td>\n",
       "      <td id=\"T_218bf_row0_col1\" class=\"data row0 col1\" >0.4444</td>\n",
       "      <td id=\"T_218bf_row0_col2\" class=\"data row0 col2\" >0.4444</td>\n",
       "    </tr>\n",
       "    <tr>\n",
       "      <th id=\"T_218bf_level0_row1\" class=\"row_heading level0 row1\" >Collapse</th>\n",
       "      <td id=\"T_218bf_row1_col0\" class=\"data row1 col0\" >0.2500</td>\n",
       "      <td id=\"T_218bf_row1_col1\" class=\"data row1 col1\" >0.2500</td>\n",
       "      <td id=\"T_218bf_row1_col2\" class=\"data row1 col2\" >0.3750</td>\n",
       "    </tr>\n",
       "    <tr>\n",
       "      <th id=\"T_218bf_level0_row2\" class=\"row_heading level0 row2\" >Hurricane</th>\n",
       "      <td id=\"T_218bf_row2_col0\" class=\"data row2 col0\" >0.2500</td>\n",
       "      <td id=\"T_218bf_row2_col1\" class=\"data row2 col1\" >0.2500</td>\n",
       "      <td id=\"T_218bf_row2_col2\" class=\"data row2 col2\" >0.3750</td>\n",
       "    </tr>\n",
       "    <tr>\n",
       "      <th id=\"T_218bf_level0_row3\" class=\"row_heading level0 row3\" >Flood</th>\n",
       "      <td id=\"T_218bf_row3_col0\" class=\"data row3 col0\" >0.2500</td>\n",
       "      <td id=\"T_218bf_row3_col1\" class=\"data row3 col1\" >0.2500</td>\n",
       "      <td id=\"T_218bf_row3_col2\" class=\"data row3 col2\" >0.3750</td>\n",
       "    </tr>\n",
       "    <tr>\n",
       "      <th id=\"T_218bf_level0_row4\" class=\"row_heading level0 row4\" >Average</th>\n",
       "      <td id=\"T_218bf_row4_col0\" class=\"data row4 col0\" >0.2986</td>\n",
       "      <td id=\"T_218bf_row4_col1\" class=\"data row4 col1\" >0.2986</td>\n",
       "      <td id=\"T_218bf_row4_col2\" class=\"data row4 col2\" >0.3924</td>\n",
       "    </tr>\n",
       "  </tbody>\n",
       "</table>\n"
      ],
      "text/plain": [
       "<pandas.io.formats.style.Styler at 0x1f95e29d810>"
      ]
     },
     "metadata": {},
     "output_type": "display_data"
    },
    {
     "name": "stdout",
     "output_type": "stream",
     "text": [
      "Score for order Storms, Collapse, Hurricane, Flood\n",
      "\n"
     ]
    },
    {
     "name": "stderr",
     "output_type": "stream",
     "text": [
      "p:\\Programmes\\Python\\Python313\\Lib\\site-packages\\pandas\\io\\formats\\style.py:3807: RuntimeWarning: All-NaN slice encountered\n",
      "  smin = np.nanmin(gmap) if vmin is None else vmin\n",
      "p:\\Programmes\\Python\\Python313\\Lib\\site-packages\\pandas\\io\\formats\\style.py:3808: RuntimeWarning: All-NaN slice encountered\n",
      "  smax = np.nanmax(gmap) if vmax is None else vmax\n"
     ]
    },
    {
     "data": {
      "text/html": [
       "<style type=\"text/css\">\n",
       "#T_a60ce_row0_col0, #T_a60ce_row0_col1, #T_a60ce_row1_col0, #T_a60ce_row1_col1, #T_a60ce_row1_col2, #T_a60ce_row2_col0, #T_a60ce_row2_col1, #T_a60ce_row2_col2, #T_a60ce_row3_col0, #T_a60ce_row3_col1, #T_a60ce_row3_col2, #T_a60ce_row4_col0, #T_a60ce_row4_col1, #T_a60ce_row4_col2, #T_a60ce_row6_col0, #T_a60ce_row6_col1, #T_a60ce_row6_col2, #T_a60ce_row7_col0, #T_a60ce_row7_col1, #T_a60ce_row7_col2, #T_a60ce_row8_col0, #T_a60ce_row8_col1, #T_a60ce_row8_col2, #T_a60ce_row9_col0, #T_a60ce_row9_col1, #T_a60ce_row9_col2 {\n",
       "  background-color: #ffffff;\n",
       "  color: #000000;\n",
       "}\n",
       "#T_a60ce_row0_col2, #T_a60ce_row5_col0, #T_a60ce_row5_col1, #T_a60ce_row5_col2, #T_a60ce_row10_col0, #T_a60ce_row10_col1, #T_a60ce_row10_col2 {\n",
       "  background-color: #000000;\n",
       "  color: #f1f1f1;\n",
       "}\n",
       "</style>\n",
       "<table id=\"T_a60ce\">\n",
       "  <thead>\n",
       "    <tr>\n",
       "      <th class=\"blank level0\" >&nbsp;</th>\n",
       "      <th id=\"T_a60ce_level0_col0\" class=\"col_heading level0 col0\" >humanitarian</th>\n",
       "      <th id=\"T_a60ce_level0_col1\" class=\"col_heading level0 col1\" >urgency</th>\n",
       "      <th id=\"T_a60ce_level0_col2\" class=\"col_heading level0 col2\" >utility</th>\n",
       "    </tr>\n",
       "  </thead>\n",
       "  <tbody>\n",
       "    <tr>\n",
       "      <th id=\"T_a60ce_level0_row0\" class=\"row_heading level0 row0\" >AIA</th>\n",
       "      <td id=\"T_a60ce_row0_col0\" class=\"data row0 col0\" >0.4379</td>\n",
       "      <td id=\"T_a60ce_row0_col1\" class=\"data row0 col1\" >0.4379</td>\n",
       "      <td id=\"T_a60ce_row0_col2\" class=\"data row0 col2\" >0.4743</td>\n",
       "    </tr>\n",
       "    <tr>\n",
       "      <th id=\"T_a60ce_level0_row1\" class=\"row_heading level0 row1\" >BWT</th>\n",
       "      <td id=\"T_a60ce_row1_col0\" class=\"data row1 col0\" >0.0000</td>\n",
       "      <td id=\"T_a60ce_row1_col1\" class=\"data row1 col1\" >0.0000</td>\n",
       "      <td id=\"T_a60ce_row1_col2\" class=\"data row1 col2\" >0.0000</td>\n",
       "    </tr>\n",
       "    <tr>\n",
       "      <th id=\"T_a60ce_level0_row2\" class=\"row_heading level0 row2\" >BWT_Storms</th>\n",
       "      <td id=\"T_a60ce_row2_col0\" class=\"data row2 col0\" >0.0000</td>\n",
       "      <td id=\"T_a60ce_row2_col1\" class=\"data row2 col1\" >0.0000</td>\n",
       "      <td id=\"T_a60ce_row2_col2\" class=\"data row2 col2\" >0.0000</td>\n",
       "    </tr>\n",
       "    <tr>\n",
       "      <th id=\"T_a60ce_level0_row3\" class=\"row_heading level0 row3\" >BWT_Collapse</th>\n",
       "      <td id=\"T_a60ce_row3_col0\" class=\"data row3 col0\" >0.0000</td>\n",
       "      <td id=\"T_a60ce_row3_col1\" class=\"data row3 col1\" >0.0000</td>\n",
       "      <td id=\"T_a60ce_row3_col2\" class=\"data row3 col2\" >0.0000</td>\n",
       "    </tr>\n",
       "    <tr>\n",
       "      <th id=\"T_a60ce_level0_row4\" class=\"row_heading level0 row4\" >BWT_Hurricane</th>\n",
       "      <td id=\"T_a60ce_row4_col0\" class=\"data row4 col0\" >0.0000</td>\n",
       "      <td id=\"T_a60ce_row4_col1\" class=\"data row4 col1\" >0.0000</td>\n",
       "      <td id=\"T_a60ce_row4_col2\" class=\"data row4 col2\" >0.0000</td>\n",
       "    </tr>\n",
       "    <tr>\n",
       "      <th id=\"T_a60ce_level0_row5\" class=\"row_heading level0 row5\" >BWT_Flood</th>\n",
       "      <td id=\"T_a60ce_row5_col0\" class=\"data row5 col0\" >nan</td>\n",
       "      <td id=\"T_a60ce_row5_col1\" class=\"data row5 col1\" >nan</td>\n",
       "      <td id=\"T_a60ce_row5_col2\" class=\"data row5 col2\" >nan</td>\n",
       "    </tr>\n",
       "    <tr>\n",
       "      <th id=\"T_a60ce_level0_row6\" class=\"row_heading level0 row6\" >FM</th>\n",
       "      <td id=\"T_a60ce_row6_col0\" class=\"data row6 col0\" >0.0000</td>\n",
       "      <td id=\"T_a60ce_row6_col1\" class=\"data row6 col1\" >0.0000</td>\n",
       "      <td id=\"T_a60ce_row6_col2\" class=\"data row6 col2\" >0.0000</td>\n",
       "    </tr>\n",
       "    <tr>\n",
       "      <th id=\"T_a60ce_level0_row7\" class=\"row_heading level0 row7\" >FM_Storms</th>\n",
       "      <td id=\"T_a60ce_row7_col0\" class=\"data row7 col0\" >0.0000</td>\n",
       "      <td id=\"T_a60ce_row7_col1\" class=\"data row7 col1\" >0.0000</td>\n",
       "      <td id=\"T_a60ce_row7_col2\" class=\"data row7 col2\" >0.0000</td>\n",
       "    </tr>\n",
       "    <tr>\n",
       "      <th id=\"T_a60ce_level0_row8\" class=\"row_heading level0 row8\" >FM_Collapse</th>\n",
       "      <td id=\"T_a60ce_row8_col0\" class=\"data row8 col0\" >0.0000</td>\n",
       "      <td id=\"T_a60ce_row8_col1\" class=\"data row8 col1\" >0.0000</td>\n",
       "      <td id=\"T_a60ce_row8_col2\" class=\"data row8 col2\" >0.0000</td>\n",
       "    </tr>\n",
       "    <tr>\n",
       "      <th id=\"T_a60ce_level0_row9\" class=\"row_heading level0 row9\" >FM_Hurricane</th>\n",
       "      <td id=\"T_a60ce_row9_col0\" class=\"data row9 col0\" >0.0000</td>\n",
       "      <td id=\"T_a60ce_row9_col1\" class=\"data row9 col1\" >0.0000</td>\n",
       "      <td id=\"T_a60ce_row9_col2\" class=\"data row9 col2\" >0.0000</td>\n",
       "    </tr>\n",
       "    <tr>\n",
       "      <th id=\"T_a60ce_level0_row10\" class=\"row_heading level0 row10\" >FM_Flood</th>\n",
       "      <td id=\"T_a60ce_row10_col0\" class=\"data row10 col0\" >nan</td>\n",
       "      <td id=\"T_a60ce_row10_col1\" class=\"data row10 col1\" >nan</td>\n",
       "      <td id=\"T_a60ce_row10_col2\" class=\"data row10 col2\" >nan</td>\n",
       "    </tr>\n",
       "  </tbody>\n",
       "</table>\n"
      ],
      "text/plain": [
       "<pandas.io.formats.style.Styler at 0x1f95e29d310>"
      ]
     },
     "metadata": {},
     "output_type": "display_data"
    },
    {
     "name": "stdout",
     "output_type": "stream",
     "text": [
      "\n",
      "Training on order Collapse, Hurricane, Flood, Storms | 3/4\n",
      "\n",
      "Training on split 1/3\n",
      "\n",
      "\n",
      "New data  Collapse\n",
      "Memory Size : {'Flood': 0, 'Storms': 0, 'Collapse': 0, 'Hurricane': 0}\n",
      "\n"
     ]
    },
    {
     "name": "stderr",
     "output_type": "stream",
     "text": [
      "Collapse | 1/4 | Epoch 1: 100%|██████████| 1/1 [00:05<00:00,  5.96s/it, humanitarian=0, urgency=0.444, utility=0]\n"
     ]
    },
    {
     "name": "stdout",
     "output_type": "stream",
     "text": [
      "\n"
     ]
    },
    {
     "name": "stderr",
     "output_type": "stream",
     "text": [
      "Adding Collapse in memory...: 100%|██████████| 1/1 [00:00<00:00, 650.89it/s]\n"
     ]
    },
    {
     "name": "stdout",
     "output_type": "stream",
     "text": [
      "\n",
      "\n",
      "Model Testing...\n",
      "\n",
      "Scores during training on Collapse\n",
      "\n"
     ]
    },
    {
     "data": {
      "text/html": [
       "<style type=\"text/css\">\n",
       "#T_d2fba_row0_col0, #T_d2fba_row0_col1, #T_d2fba_row1_col0, #T_d2fba_row1_col1, #T_d2fba_row1_col2, #T_d2fba_row2_col0, #T_d2fba_row2_col1, #T_d2fba_row3_col0, #T_d2fba_row3_col1, #T_d2fba_row3_col2, #T_d2fba_row4_col0, #T_d2fba_row4_col1 {\n",
       "  background-color: #ffffff;\n",
       "  color: #000000;\n",
       "}\n",
       "#T_d2fba_row0_col2, #T_d2fba_row2_col2, #T_d2fba_row4_col2 {\n",
       "  background-color: #000000;\n",
       "  color: #f1f1f1;\n",
       "}\n",
       "</style>\n",
       "<table id=\"T_d2fba\">\n",
       "  <thead>\n",
       "    <tr>\n",
       "      <th class=\"blank level0\" >&nbsp;</th>\n",
       "      <th id=\"T_d2fba_level0_col0\" class=\"col_heading level0 col0\" >humanitarian</th>\n",
       "      <th id=\"T_d2fba_level0_col1\" class=\"col_heading level0 col1\" >urgency</th>\n",
       "      <th id=\"T_d2fba_level0_col2\" class=\"col_heading level0 col2\" >utility</th>\n",
       "    </tr>\n",
       "  </thead>\n",
       "  <tbody>\n",
       "    <tr>\n",
       "      <th id=\"T_d2fba_level0_row0\" class=\"row_heading level0 row0\" >Collapse</th>\n",
       "      <td id=\"T_d2fba_row0_col0\" class=\"data row0 col0\" >0.2500</td>\n",
       "      <td id=\"T_d2fba_row0_col1\" class=\"data row0 col1\" >0.2500</td>\n",
       "      <td id=\"T_d2fba_row0_col2\" class=\"data row0 col2\" >0.3750</td>\n",
       "    </tr>\n",
       "    <tr>\n",
       "      <th id=\"T_d2fba_level0_row1\" class=\"row_heading level0 row1\" >Hurricane</th>\n",
       "      <td id=\"T_d2fba_row1_col0\" class=\"data row1 col0\" >0.4444</td>\n",
       "      <td id=\"T_d2fba_row1_col1\" class=\"data row1 col1\" >0.4444</td>\n",
       "      <td id=\"T_d2fba_row1_col2\" class=\"data row1 col2\" >0.4444</td>\n",
       "    </tr>\n",
       "    <tr>\n",
       "      <th id=\"T_d2fba_level0_row2\" class=\"row_heading level0 row2\" >Flood</th>\n",
       "      <td id=\"T_d2fba_row2_col0\" class=\"data row2 col0\" >0.2500</td>\n",
       "      <td id=\"T_d2fba_row2_col1\" class=\"data row2 col1\" >0.2500</td>\n",
       "      <td id=\"T_d2fba_row2_col2\" class=\"data row2 col2\" >0.3750</td>\n",
       "    </tr>\n",
       "    <tr>\n",
       "      <th id=\"T_d2fba_level0_row3\" class=\"row_heading level0 row3\" >Storms</th>\n",
       "      <td id=\"T_d2fba_row3_col0\" class=\"data row3 col0\" >0.4444</td>\n",
       "      <td id=\"T_d2fba_row3_col1\" class=\"data row3 col1\" >0.4444</td>\n",
       "      <td id=\"T_d2fba_row3_col2\" class=\"data row3 col2\" >0.4444</td>\n",
       "    </tr>\n",
       "    <tr>\n",
       "      <th id=\"T_d2fba_level0_row4\" class=\"row_heading level0 row4\" >Average</th>\n",
       "      <td id=\"T_d2fba_row4_col0\" class=\"data row4 col0\" >0.3472</td>\n",
       "      <td id=\"T_d2fba_row4_col1\" class=\"data row4 col1\" >0.3472</td>\n",
       "      <td id=\"T_d2fba_row4_col2\" class=\"data row4 col2\" >0.4097</td>\n",
       "    </tr>\n",
       "  </tbody>\n",
       "</table>\n"
      ],
      "text/plain": [
       "<pandas.io.formats.style.Styler at 0x1f95e29d6d0>"
      ]
     },
     "metadata": {},
     "output_type": "display_data"
    },
    {
     "name": "stdout",
     "output_type": "stream",
     "text": [
      "\n",
      "New data  Hurricane\n",
      "Memory Size : {'Flood': 0, 'Storms': 0, 'Collapse': 5, 'Hurricane': 0}\n",
      "\n"
     ]
    },
    {
     "name": "stderr",
     "output_type": "stream",
     "text": [
      "Hurricane | 2/4 | Epoch 1: 100%|██████████| 1/1 [00:08<00:00,  8.95s/it, humanitarian=0.25, urgency=0.25, utility=0.375]\n"
     ]
    },
    {
     "name": "stdout",
     "output_type": "stream",
     "text": [
      "\n"
     ]
    },
    {
     "name": "stderr",
     "output_type": "stream",
     "text": [
      "Adding Hurricane in memory...: 100%|██████████| 1/1 [00:00<00:00, 453.63it/s]\n"
     ]
    },
    {
     "name": "stdout",
     "output_type": "stream",
     "text": [
      "\n",
      "\n",
      "Model Testing...\n",
      "\n",
      "Scores during training on Hurricane\n",
      "\n"
     ]
    },
    {
     "data": {
      "text/html": [
       "<style type=\"text/css\">\n",
       "#T_24a2c_row0_col0, #T_24a2c_row0_col1, #T_24a2c_row1_col0, #T_24a2c_row1_col1, #T_24a2c_row1_col2, #T_24a2c_row2_col0, #T_24a2c_row2_col1, #T_24a2c_row3_col0, #T_24a2c_row3_col1, #T_24a2c_row3_col2, #T_24a2c_row4_col0, #T_24a2c_row4_col1 {\n",
       "  background-color: #ffffff;\n",
       "  color: #000000;\n",
       "}\n",
       "#T_24a2c_row0_col2, #T_24a2c_row2_col2, #T_24a2c_row4_col2 {\n",
       "  background-color: #000000;\n",
       "  color: #f1f1f1;\n",
       "}\n",
       "</style>\n",
       "<table id=\"T_24a2c\">\n",
       "  <thead>\n",
       "    <tr>\n",
       "      <th class=\"blank level0\" >&nbsp;</th>\n",
       "      <th id=\"T_24a2c_level0_col0\" class=\"col_heading level0 col0\" >humanitarian</th>\n",
       "      <th id=\"T_24a2c_level0_col1\" class=\"col_heading level0 col1\" >urgency</th>\n",
       "      <th id=\"T_24a2c_level0_col2\" class=\"col_heading level0 col2\" >utility</th>\n",
       "    </tr>\n",
       "  </thead>\n",
       "  <tbody>\n",
       "    <tr>\n",
       "      <th id=\"T_24a2c_level0_row0\" class=\"row_heading level0 row0\" >Collapse</th>\n",
       "      <td id=\"T_24a2c_row0_col0\" class=\"data row0 col0\" >0.2500</td>\n",
       "      <td id=\"T_24a2c_row0_col1\" class=\"data row0 col1\" >0.2500</td>\n",
       "      <td id=\"T_24a2c_row0_col2\" class=\"data row0 col2\" >0.3750</td>\n",
       "    </tr>\n",
       "    <tr>\n",
       "      <th id=\"T_24a2c_level0_row1\" class=\"row_heading level0 row1\" >Hurricane</th>\n",
       "      <td id=\"T_24a2c_row1_col0\" class=\"data row1 col0\" >0.4444</td>\n",
       "      <td id=\"T_24a2c_row1_col1\" class=\"data row1 col1\" >0.4444</td>\n",
       "      <td id=\"T_24a2c_row1_col2\" class=\"data row1 col2\" >0.4444</td>\n",
       "    </tr>\n",
       "    <tr>\n",
       "      <th id=\"T_24a2c_level0_row2\" class=\"row_heading level0 row2\" >Flood</th>\n",
       "      <td id=\"T_24a2c_row2_col0\" class=\"data row2 col0\" >0.2500</td>\n",
       "      <td id=\"T_24a2c_row2_col1\" class=\"data row2 col1\" >0.2500</td>\n",
       "      <td id=\"T_24a2c_row2_col2\" class=\"data row2 col2\" >0.3750</td>\n",
       "    </tr>\n",
       "    <tr>\n",
       "      <th id=\"T_24a2c_level0_row3\" class=\"row_heading level0 row3\" >Storms</th>\n",
       "      <td id=\"T_24a2c_row3_col0\" class=\"data row3 col0\" >0.4444</td>\n",
       "      <td id=\"T_24a2c_row3_col1\" class=\"data row3 col1\" >0.4444</td>\n",
       "      <td id=\"T_24a2c_row3_col2\" class=\"data row3 col2\" >0.4444</td>\n",
       "    </tr>\n",
       "    <tr>\n",
       "      <th id=\"T_24a2c_level0_row4\" class=\"row_heading level0 row4\" >Average</th>\n",
       "      <td id=\"T_24a2c_row4_col0\" class=\"data row4 col0\" >0.3472</td>\n",
       "      <td id=\"T_24a2c_row4_col1\" class=\"data row4 col1\" >0.3472</td>\n",
       "      <td id=\"T_24a2c_row4_col2\" class=\"data row4 col2\" >0.4097</td>\n",
       "    </tr>\n",
       "  </tbody>\n",
       "</table>\n"
      ],
      "text/plain": [
       "<pandas.io.formats.style.Styler at 0x1f95e29d6d0>"
      ]
     },
     "metadata": {},
     "output_type": "display_data"
    },
    {
     "name": "stdout",
     "output_type": "stream",
     "text": [
      "\n",
      "New data  Flood\n",
      "Memory Size : {'Flood': 0, 'Storms': 0, 'Collapse': 5, 'Hurricane': 5}\n",
      "\n"
     ]
    },
    {
     "name": "stderr",
     "output_type": "stream",
     "text": [
      "Flood | 3/4 | Epoch 1: 100%|██████████| 1/1 [00:21<00:00, 21.05s/it, humanitarian=0.25, urgency=0.25, utility=0.375]\n"
     ]
    },
    {
     "name": "stdout",
     "output_type": "stream",
     "text": [
      "\n"
     ]
    },
    {
     "name": "stderr",
     "output_type": "stream",
     "text": [
      "Adding Flood in memory...: 100%|██████████| 1/1 [00:00<00:00, 517.37it/s]\n"
     ]
    },
    {
     "name": "stdout",
     "output_type": "stream",
     "text": [
      "\n",
      "\n",
      "Model Testing...\n",
      "\n",
      "Scores during training on Flood\n",
      "\n"
     ]
    },
    {
     "data": {
      "text/html": [
       "<style type=\"text/css\">\n",
       "#T_f2da4_row0_col0, #T_f2da4_row0_col1, #T_f2da4_row1_col0, #T_f2da4_row1_col1, #T_f2da4_row1_col2, #T_f2da4_row2_col0, #T_f2da4_row2_col1, #T_f2da4_row3_col0, #T_f2da4_row3_col1, #T_f2da4_row3_col2, #T_f2da4_row4_col0, #T_f2da4_row4_col1 {\n",
       "  background-color: #ffffff;\n",
       "  color: #000000;\n",
       "}\n",
       "#T_f2da4_row0_col2, #T_f2da4_row2_col2, #T_f2da4_row4_col2 {\n",
       "  background-color: #000000;\n",
       "  color: #f1f1f1;\n",
       "}\n",
       "</style>\n",
       "<table id=\"T_f2da4\">\n",
       "  <thead>\n",
       "    <tr>\n",
       "      <th class=\"blank level0\" >&nbsp;</th>\n",
       "      <th id=\"T_f2da4_level0_col0\" class=\"col_heading level0 col0\" >humanitarian</th>\n",
       "      <th id=\"T_f2da4_level0_col1\" class=\"col_heading level0 col1\" >urgency</th>\n",
       "      <th id=\"T_f2da4_level0_col2\" class=\"col_heading level0 col2\" >utility</th>\n",
       "    </tr>\n",
       "  </thead>\n",
       "  <tbody>\n",
       "    <tr>\n",
       "      <th id=\"T_f2da4_level0_row0\" class=\"row_heading level0 row0\" >Collapse</th>\n",
       "      <td id=\"T_f2da4_row0_col0\" class=\"data row0 col0\" >0.2500</td>\n",
       "      <td id=\"T_f2da4_row0_col1\" class=\"data row0 col1\" >0.2500</td>\n",
       "      <td id=\"T_f2da4_row0_col2\" class=\"data row0 col2\" >0.3750</td>\n",
       "    </tr>\n",
       "    <tr>\n",
       "      <th id=\"T_f2da4_level0_row1\" class=\"row_heading level0 row1\" >Hurricane</th>\n",
       "      <td id=\"T_f2da4_row1_col0\" class=\"data row1 col0\" >0.4444</td>\n",
       "      <td id=\"T_f2da4_row1_col1\" class=\"data row1 col1\" >0.4444</td>\n",
       "      <td id=\"T_f2da4_row1_col2\" class=\"data row1 col2\" >0.4444</td>\n",
       "    </tr>\n",
       "    <tr>\n",
       "      <th id=\"T_f2da4_level0_row2\" class=\"row_heading level0 row2\" >Flood</th>\n",
       "      <td id=\"T_f2da4_row2_col0\" class=\"data row2 col0\" >0.2500</td>\n",
       "      <td id=\"T_f2da4_row2_col1\" class=\"data row2 col1\" >0.2500</td>\n",
       "      <td id=\"T_f2da4_row2_col2\" class=\"data row2 col2\" >0.3750</td>\n",
       "    </tr>\n",
       "    <tr>\n",
       "      <th id=\"T_f2da4_level0_row3\" class=\"row_heading level0 row3\" >Storms</th>\n",
       "      <td id=\"T_f2da4_row3_col0\" class=\"data row3 col0\" >0.4444</td>\n",
       "      <td id=\"T_f2da4_row3_col1\" class=\"data row3 col1\" >0.4444</td>\n",
       "      <td id=\"T_f2da4_row3_col2\" class=\"data row3 col2\" >0.4444</td>\n",
       "    </tr>\n",
       "    <tr>\n",
       "      <th id=\"T_f2da4_level0_row4\" class=\"row_heading level0 row4\" >Average</th>\n",
       "      <td id=\"T_f2da4_row4_col0\" class=\"data row4 col0\" >0.3472</td>\n",
       "      <td id=\"T_f2da4_row4_col1\" class=\"data row4 col1\" >0.3472</td>\n",
       "      <td id=\"T_f2da4_row4_col2\" class=\"data row4 col2\" >0.4097</td>\n",
       "    </tr>\n",
       "  </tbody>\n",
       "</table>\n"
      ],
      "text/plain": [
       "<pandas.io.formats.style.Styler at 0x1f95e29d6d0>"
      ]
     },
     "metadata": {},
     "output_type": "display_data"
    },
    {
     "name": "stdout",
     "output_type": "stream",
     "text": [
      "\n",
      "New data  Storms\n",
      "Memory Size : {'Flood': 5, 'Storms': 0, 'Collapse': 5, 'Hurricane': 5}\n",
      "\n"
     ]
    },
    {
     "name": "stderr",
     "output_type": "stream",
     "text": [
      "Storms | 4/4 | Epoch 1: 100%|██████████| 1/1 [01:02<00:00, 62.05s/it, humanitarian=0.296, urgency=0.296, utility=0.444]\n"
     ]
    },
    {
     "name": "stdout",
     "output_type": "stream",
     "text": [
      "\n"
     ]
    },
    {
     "name": "stderr",
     "output_type": "stream",
     "text": [
      "Adding Storms in memory...: 100%|██████████| 1/1 [00:00<00:00, 41.06it/s]\n"
     ]
    },
    {
     "name": "stdout",
     "output_type": "stream",
     "text": [
      "\n",
      "\n",
      "Model Testing...\n",
      "\n",
      "Scores during training on Storms\n",
      "\n"
     ]
    },
    {
     "data": {
      "text/html": [
       "<style type=\"text/css\">\n",
       "#T_7d47d_row0_col0, #T_7d47d_row0_col1, #T_7d47d_row1_col0, #T_7d47d_row1_col1, #T_7d47d_row1_col2, #T_7d47d_row2_col0, #T_7d47d_row2_col1, #T_7d47d_row3_col0, #T_7d47d_row3_col1, #T_7d47d_row3_col2, #T_7d47d_row4_col0, #T_7d47d_row4_col1 {\n",
       "  background-color: #ffffff;\n",
       "  color: #000000;\n",
       "}\n",
       "#T_7d47d_row0_col2, #T_7d47d_row2_col2, #T_7d47d_row4_col2 {\n",
       "  background-color: #000000;\n",
       "  color: #f1f1f1;\n",
       "}\n",
       "</style>\n",
       "<table id=\"T_7d47d\">\n",
       "  <thead>\n",
       "    <tr>\n",
       "      <th class=\"blank level0\" >&nbsp;</th>\n",
       "      <th id=\"T_7d47d_level0_col0\" class=\"col_heading level0 col0\" >humanitarian</th>\n",
       "      <th id=\"T_7d47d_level0_col1\" class=\"col_heading level0 col1\" >urgency</th>\n",
       "      <th id=\"T_7d47d_level0_col2\" class=\"col_heading level0 col2\" >utility</th>\n",
       "    </tr>\n",
       "  </thead>\n",
       "  <tbody>\n",
       "    <tr>\n",
       "      <th id=\"T_7d47d_level0_row0\" class=\"row_heading level0 row0\" >Collapse</th>\n",
       "      <td id=\"T_7d47d_row0_col0\" class=\"data row0 col0\" >0.2500</td>\n",
       "      <td id=\"T_7d47d_row0_col1\" class=\"data row0 col1\" >0.2500</td>\n",
       "      <td id=\"T_7d47d_row0_col2\" class=\"data row0 col2\" >0.3750</td>\n",
       "    </tr>\n",
       "    <tr>\n",
       "      <th id=\"T_7d47d_level0_row1\" class=\"row_heading level0 row1\" >Hurricane</th>\n",
       "      <td id=\"T_7d47d_row1_col0\" class=\"data row1 col0\" >0.4444</td>\n",
       "      <td id=\"T_7d47d_row1_col1\" class=\"data row1 col1\" >0.4444</td>\n",
       "      <td id=\"T_7d47d_row1_col2\" class=\"data row1 col2\" >0.4444</td>\n",
       "    </tr>\n",
       "    <tr>\n",
       "      <th id=\"T_7d47d_level0_row2\" class=\"row_heading level0 row2\" >Flood</th>\n",
       "      <td id=\"T_7d47d_row2_col0\" class=\"data row2 col0\" >0.2500</td>\n",
       "      <td id=\"T_7d47d_row2_col1\" class=\"data row2 col1\" >0.2500</td>\n",
       "      <td id=\"T_7d47d_row2_col2\" class=\"data row2 col2\" >0.3750</td>\n",
       "    </tr>\n",
       "    <tr>\n",
       "      <th id=\"T_7d47d_level0_row3\" class=\"row_heading level0 row3\" >Storms</th>\n",
       "      <td id=\"T_7d47d_row3_col0\" class=\"data row3 col0\" >0.4444</td>\n",
       "      <td id=\"T_7d47d_row3_col1\" class=\"data row3 col1\" >0.4444</td>\n",
       "      <td id=\"T_7d47d_row3_col2\" class=\"data row3 col2\" >0.4444</td>\n",
       "    </tr>\n",
       "    <tr>\n",
       "      <th id=\"T_7d47d_level0_row4\" class=\"row_heading level0 row4\" >Average</th>\n",
       "      <td id=\"T_7d47d_row4_col0\" class=\"data row4 col0\" >0.3472</td>\n",
       "      <td id=\"T_7d47d_row4_col1\" class=\"data row4 col1\" >0.3472</td>\n",
       "      <td id=\"T_7d47d_row4_col2\" class=\"data row4 col2\" >0.4097</td>\n",
       "    </tr>\n",
       "  </tbody>\n",
       "</table>\n"
      ],
      "text/plain": [
       "<pandas.io.formats.style.Styler at 0x1f95e29d6d0>"
      ]
     },
     "metadata": {},
     "output_type": "display_data"
    },
    {
     "name": "stdout",
     "output_type": "stream",
     "text": [
      "Training on split 2/3\n",
      "\n",
      "\n",
      "New data  Collapse\n",
      "Memory Size : {'Flood': 0, 'Storms': 0, 'Collapse': 0, 'Hurricane': 0}\n",
      "\n"
     ]
    },
    {
     "name": "stderr",
     "output_type": "stream",
     "text": [
      "Collapse | 1/4 | Epoch 1: 100%|██████████| 1/1 [00:05<00:00,  5.79s/it, humanitarian=0.133, urgency=0.286, utility=0.375]\n"
     ]
    },
    {
     "name": "stdout",
     "output_type": "stream",
     "text": [
      "\n"
     ]
    },
    {
     "name": "stderr",
     "output_type": "stream",
     "text": [
      "Adding Collapse in memory...: 100%|██████████| 1/1 [00:00<00:00, 501.11it/s]\n"
     ]
    },
    {
     "name": "stdout",
     "output_type": "stream",
     "text": [
      "\n",
      "\n",
      "Model Testing...\n",
      "\n",
      "Scores during training on Collapse\n",
      "\n"
     ]
    },
    {
     "data": {
      "text/html": [
       "<style type=\"text/css\">\n",
       "#T_e88a8_row0_col0, #T_e88a8_row0_col1, #T_e88a8_row0_col2, #T_e88a8_row1_col0, #T_e88a8_row1_col1, #T_e88a8_row1_col2, #T_e88a8_row2_col0, #T_e88a8_row2_col1, #T_e88a8_row3_col0, #T_e88a8_row3_col1, #T_e88a8_row3_col2, #T_e88a8_row4_col0, #T_e88a8_row4_col1 {\n",
       "  background-color: #ffffff;\n",
       "  color: #000000;\n",
       "}\n",
       "#T_e88a8_row2_col2, #T_e88a8_row4_col2 {\n",
       "  background-color: #000000;\n",
       "  color: #f1f1f1;\n",
       "}\n",
       "</style>\n",
       "<table id=\"T_e88a8\">\n",
       "  <thead>\n",
       "    <tr>\n",
       "      <th class=\"blank level0\" >&nbsp;</th>\n",
       "      <th id=\"T_e88a8_level0_col0\" class=\"col_heading level0 col0\" >humanitarian</th>\n",
       "      <th id=\"T_e88a8_level0_col1\" class=\"col_heading level0 col1\" >urgency</th>\n",
       "      <th id=\"T_e88a8_level0_col2\" class=\"col_heading level0 col2\" >utility</th>\n",
       "    </tr>\n",
       "  </thead>\n",
       "  <tbody>\n",
       "    <tr>\n",
       "      <th id=\"T_e88a8_level0_row0\" class=\"row_heading level0 row0\" >Collapse</th>\n",
       "      <td id=\"T_e88a8_row0_col0\" class=\"data row0 col0\" >1.0000</td>\n",
       "      <td id=\"T_e88a8_row0_col1\" class=\"data row0 col1\" >1.0000</td>\n",
       "      <td id=\"T_e88a8_row0_col2\" class=\"data row0 col2\" >1.0000</td>\n",
       "    </tr>\n",
       "    <tr>\n",
       "      <th id=\"T_e88a8_level0_row1\" class=\"row_heading level0 row1\" >Hurricane</th>\n",
       "      <td id=\"T_e88a8_row1_col0\" class=\"data row1 col0\" >0.4444</td>\n",
       "      <td id=\"T_e88a8_row1_col1\" class=\"data row1 col1\" >0.4444</td>\n",
       "      <td id=\"T_e88a8_row1_col2\" class=\"data row1 col2\" >0.4444</td>\n",
       "    </tr>\n",
       "    <tr>\n",
       "      <th id=\"T_e88a8_level0_row2\" class=\"row_heading level0 row2\" >Flood</th>\n",
       "      <td id=\"T_e88a8_row2_col0\" class=\"data row2 col0\" >0.2500</td>\n",
       "      <td id=\"T_e88a8_row2_col1\" class=\"data row2 col1\" >0.2500</td>\n",
       "      <td id=\"T_e88a8_row2_col2\" class=\"data row2 col2\" >0.3750</td>\n",
       "    </tr>\n",
       "    <tr>\n",
       "      <th id=\"T_e88a8_level0_row3\" class=\"row_heading level0 row3\" >Storms</th>\n",
       "      <td id=\"T_e88a8_row3_col0\" class=\"data row3 col0\" >0.4444</td>\n",
       "      <td id=\"T_e88a8_row3_col1\" class=\"data row3 col1\" >0.4444</td>\n",
       "      <td id=\"T_e88a8_row3_col2\" class=\"data row3 col2\" >0.4444</td>\n",
       "    </tr>\n",
       "    <tr>\n",
       "      <th id=\"T_e88a8_level0_row4\" class=\"row_heading level0 row4\" >Average</th>\n",
       "      <td id=\"T_e88a8_row4_col0\" class=\"data row4 col0\" >0.5347</td>\n",
       "      <td id=\"T_e88a8_row4_col1\" class=\"data row4 col1\" >0.5347</td>\n",
       "      <td id=\"T_e88a8_row4_col2\" class=\"data row4 col2\" >0.5660</td>\n",
       "    </tr>\n",
       "  </tbody>\n",
       "</table>\n"
      ],
      "text/plain": [
       "<pandas.io.formats.style.Styler at 0x1f95e29d810>"
      ]
     },
     "metadata": {},
     "output_type": "display_data"
    },
    {
     "name": "stdout",
     "output_type": "stream",
     "text": [
      "\n",
      "New data  Hurricane\n",
      "Memory Size : {'Flood': 0, 'Storms': 0, 'Collapse': 5, 'Hurricane': 0}\n",
      "\n"
     ]
    },
    {
     "name": "stderr",
     "output_type": "stream",
     "text": [
      "Hurricane | 2/4 | Epoch 1: 100%|██████████| 1/1 [00:08<00:00,  8.13s/it, humanitarian=0.25, urgency=0.25, utility=0.375]\n"
     ]
    },
    {
     "name": "stdout",
     "output_type": "stream",
     "text": [
      "\n"
     ]
    },
    {
     "name": "stderr",
     "output_type": "stream",
     "text": [
      "Adding Hurricane in memory...: 100%|██████████| 1/1 [00:00<00:00, 498.85it/s]\n"
     ]
    },
    {
     "name": "stdout",
     "output_type": "stream",
     "text": [
      "\n",
      "\n",
      "Model Testing...\n",
      "\n",
      "Scores during training on Hurricane\n",
      "\n"
     ]
    },
    {
     "data": {
      "text/html": [
       "<style type=\"text/css\">\n",
       "#T_ebb21_row0_col0, #T_ebb21_row0_col1, #T_ebb21_row0_col2, #T_ebb21_row1_col2, #T_ebb21_row2_col0, #T_ebb21_row2_col1, #T_ebb21_row3_col0, #T_ebb21_row3_col1, #T_ebb21_row3_col2, #T_ebb21_row4_col0, #T_ebb21_row4_col1 {\n",
       "  background-color: #ffffff;\n",
       "  color: #000000;\n",
       "}\n",
       "#T_ebb21_row1_col0, #T_ebb21_row1_col1, #T_ebb21_row2_col2, #T_ebb21_row4_col2 {\n",
       "  background-color: #000000;\n",
       "  color: #f1f1f1;\n",
       "}\n",
       "</style>\n",
       "<table id=\"T_ebb21\">\n",
       "  <thead>\n",
       "    <tr>\n",
       "      <th class=\"blank level0\" >&nbsp;</th>\n",
       "      <th id=\"T_ebb21_level0_col0\" class=\"col_heading level0 col0\" >humanitarian</th>\n",
       "      <th id=\"T_ebb21_level0_col1\" class=\"col_heading level0 col1\" >urgency</th>\n",
       "      <th id=\"T_ebb21_level0_col2\" class=\"col_heading level0 col2\" >utility</th>\n",
       "    </tr>\n",
       "  </thead>\n",
       "  <tbody>\n",
       "    <tr>\n",
       "      <th id=\"T_ebb21_level0_row0\" class=\"row_heading level0 row0\" >Collapse</th>\n",
       "      <td id=\"T_ebb21_row0_col0\" class=\"data row0 col0\" >1.0000</td>\n",
       "      <td id=\"T_ebb21_row0_col1\" class=\"data row0 col1\" >1.0000</td>\n",
       "      <td id=\"T_ebb21_row0_col2\" class=\"data row0 col2\" >1.0000</td>\n",
       "    </tr>\n",
       "    <tr>\n",
       "      <th id=\"T_ebb21_level0_row1\" class=\"row_heading level0 row1\" >Hurricane</th>\n",
       "      <td id=\"T_ebb21_row1_col0\" class=\"data row1 col0\" >0.4444</td>\n",
       "      <td id=\"T_ebb21_row1_col1\" class=\"data row1 col1\" >0.4444</td>\n",
       "      <td id=\"T_ebb21_row1_col2\" class=\"data row1 col2\" >0.3750</td>\n",
       "    </tr>\n",
       "    <tr>\n",
       "      <th id=\"T_ebb21_level0_row2\" class=\"row_heading level0 row2\" >Flood</th>\n",
       "      <td id=\"T_ebb21_row2_col0\" class=\"data row2 col0\" >0.2500</td>\n",
       "      <td id=\"T_ebb21_row2_col1\" class=\"data row2 col1\" >0.2500</td>\n",
       "      <td id=\"T_ebb21_row2_col2\" class=\"data row2 col2\" >0.3750</td>\n",
       "    </tr>\n",
       "    <tr>\n",
       "      <th id=\"T_ebb21_level0_row3\" class=\"row_heading level0 row3\" >Storms</th>\n",
       "      <td id=\"T_ebb21_row3_col0\" class=\"data row3 col0\" >0.4444</td>\n",
       "      <td id=\"T_ebb21_row3_col1\" class=\"data row3 col1\" >0.4444</td>\n",
       "      <td id=\"T_ebb21_row3_col2\" class=\"data row3 col2\" >0.4444</td>\n",
       "    </tr>\n",
       "    <tr>\n",
       "      <th id=\"T_ebb21_level0_row4\" class=\"row_heading level0 row4\" >Average</th>\n",
       "      <td id=\"T_ebb21_row4_col0\" class=\"data row4 col0\" >0.5347</td>\n",
       "      <td id=\"T_ebb21_row4_col1\" class=\"data row4 col1\" >0.5347</td>\n",
       "      <td id=\"T_ebb21_row4_col2\" class=\"data row4 col2\" >0.5486</td>\n",
       "    </tr>\n",
       "  </tbody>\n",
       "</table>\n"
      ],
      "text/plain": [
       "<pandas.io.formats.style.Styler at 0x1f95e29d810>"
      ]
     },
     "metadata": {},
     "output_type": "display_data"
    },
    {
     "name": "stdout",
     "output_type": "stream",
     "text": [
      "\n",
      "New data  Flood\n",
      "Memory Size : {'Flood': 0, 'Storms': 0, 'Collapse': 5, 'Hurricane': 5}\n",
      "\n"
     ]
    },
    {
     "name": "stderr",
     "output_type": "stream",
     "text": [
      "Flood | 3/4 | Epoch 1: 100%|██████████| 1/1 [00:17<00:00, 17.39s/it, humanitarian=0.15, urgency=0.25, utility=0.375]\n"
     ]
    },
    {
     "name": "stdout",
     "output_type": "stream",
     "text": [
      "\n"
     ]
    },
    {
     "name": "stderr",
     "output_type": "stream",
     "text": [
      "Adding Flood in memory...: 100%|██████████| 1/1 [00:00<00:00, 397.45it/s]\n"
     ]
    },
    {
     "name": "stdout",
     "output_type": "stream",
     "text": [
      "\n",
      "\n",
      "Model Testing...\n",
      "\n",
      "Scores during training on Flood\n",
      "\n"
     ]
    },
    {
     "data": {
      "text/html": [
       "<style type=\"text/css\">\n",
       "#T_6741d_row0_col0, #T_6741d_row0_col1, #T_6741d_row0_col2, #T_6741d_row1_col2, #T_6741d_row2_col0, #T_6741d_row2_col1, #T_6741d_row3_col2, #T_6741d_row4_col2 {\n",
       "  background-color: #ffffff;\n",
       "  color: #000000;\n",
       "}\n",
       "#T_6741d_row1_col0, #T_6741d_row1_col1, #T_6741d_row2_col2, #T_6741d_row3_col0, #T_6741d_row3_col1, #T_6741d_row4_col0, #T_6741d_row4_col1 {\n",
       "  background-color: #000000;\n",
       "  color: #f1f1f1;\n",
       "}\n",
       "</style>\n",
       "<table id=\"T_6741d\">\n",
       "  <thead>\n",
       "    <tr>\n",
       "      <th class=\"blank level0\" >&nbsp;</th>\n",
       "      <th id=\"T_6741d_level0_col0\" class=\"col_heading level0 col0\" >humanitarian</th>\n",
       "      <th id=\"T_6741d_level0_col1\" class=\"col_heading level0 col1\" >urgency</th>\n",
       "      <th id=\"T_6741d_level0_col2\" class=\"col_heading level0 col2\" >utility</th>\n",
       "    </tr>\n",
       "  </thead>\n",
       "  <tbody>\n",
       "    <tr>\n",
       "      <th id=\"T_6741d_level0_row0\" class=\"row_heading level0 row0\" >Collapse</th>\n",
       "      <td id=\"T_6741d_row0_col0\" class=\"data row0 col0\" >1.0000</td>\n",
       "      <td id=\"T_6741d_row0_col1\" class=\"data row0 col1\" >1.0000</td>\n",
       "      <td id=\"T_6741d_row0_col2\" class=\"data row0 col2\" >1.0000</td>\n",
       "    </tr>\n",
       "    <tr>\n",
       "      <th id=\"T_6741d_level0_row1\" class=\"row_heading level0 row1\" >Hurricane</th>\n",
       "      <td id=\"T_6741d_row1_col0\" class=\"data row1 col0\" >0.4444</td>\n",
       "      <td id=\"T_6741d_row1_col1\" class=\"data row1 col1\" >0.4444</td>\n",
       "      <td id=\"T_6741d_row1_col2\" class=\"data row1 col2\" >0.2857</td>\n",
       "    </tr>\n",
       "    <tr>\n",
       "      <th id=\"T_6741d_level0_row2\" class=\"row_heading level0 row2\" >Flood</th>\n",
       "      <td id=\"T_6741d_row2_col0\" class=\"data row2 col0\" >0.2500</td>\n",
       "      <td id=\"T_6741d_row2_col1\" class=\"data row2 col1\" >0.2500</td>\n",
       "      <td id=\"T_6741d_row2_col2\" class=\"data row2 col2\" >0.3750</td>\n",
       "    </tr>\n",
       "    <tr>\n",
       "      <th id=\"T_6741d_level0_row3\" class=\"row_heading level0 row3\" >Storms</th>\n",
       "      <td id=\"T_6741d_row3_col0\" class=\"data row3 col0\" >0.4444</td>\n",
       "      <td id=\"T_6741d_row3_col1\" class=\"data row3 col1\" >0.4444</td>\n",
       "      <td id=\"T_6741d_row3_col2\" class=\"data row3 col2\" >0.3750</td>\n",
       "    </tr>\n",
       "    <tr>\n",
       "      <th id=\"T_6741d_level0_row4\" class=\"row_heading level0 row4\" >Average</th>\n",
       "      <td id=\"T_6741d_row4_col0\" class=\"data row4 col0\" >0.5347</td>\n",
       "      <td id=\"T_6741d_row4_col1\" class=\"data row4 col1\" >0.5347</td>\n",
       "      <td id=\"T_6741d_row4_col2\" class=\"data row4 col2\" >0.5089</td>\n",
       "    </tr>\n",
       "  </tbody>\n",
       "</table>\n"
      ],
      "text/plain": [
       "<pandas.io.formats.style.Styler at 0x1f95e29d810>"
      ]
     },
     "metadata": {},
     "output_type": "display_data"
    },
    {
     "name": "stdout",
     "output_type": "stream",
     "text": [
      "\n",
      "New data  Storms\n",
      "Memory Size : {'Flood': 5, 'Storms': 0, 'Collapse': 5, 'Hurricane': 5}\n",
      "\n"
     ]
    },
    {
     "name": "stderr",
     "output_type": "stream",
     "text": [
      "Storms | 4/4 | Epoch 1: 100%|██████████| 1/1 [00:54<00:00, 54.19s/it, humanitarian=0.222, urgency=0.296, utility=0.386]\n"
     ]
    },
    {
     "name": "stdout",
     "output_type": "stream",
     "text": [
      "\n"
     ]
    },
    {
     "name": "stderr",
     "output_type": "stream",
     "text": [
      "Adding Storms in memory...: 100%|██████████| 1/1 [00:00<00:00, 40.67it/s]\n"
     ]
    },
    {
     "name": "stdout",
     "output_type": "stream",
     "text": [
      "\n",
      "\n",
      "Model Testing...\n",
      "\n",
      "Scores during training on Storms\n",
      "\n"
     ]
    },
    {
     "data": {
      "text/html": [
       "<style type=\"text/css\">\n",
       "#T_46808_row0_col0, #T_46808_row0_col1, #T_46808_row0_col2, #T_46808_row1_col0, #T_46808_row1_col1, #T_46808_row1_col2, #T_46808_row2_col0, #T_46808_row2_col1, #T_46808_row3_col0, #T_46808_row3_col1, #T_46808_row3_col2, #T_46808_row4_col0, #T_46808_row4_col1 {\n",
       "  background-color: #ffffff;\n",
       "  color: #000000;\n",
       "}\n",
       "#T_46808_row2_col2, #T_46808_row4_col2 {\n",
       "  background-color: #000000;\n",
       "  color: #f1f1f1;\n",
       "}\n",
       "</style>\n",
       "<table id=\"T_46808\">\n",
       "  <thead>\n",
       "    <tr>\n",
       "      <th class=\"blank level0\" >&nbsp;</th>\n",
       "      <th id=\"T_46808_level0_col0\" class=\"col_heading level0 col0\" >humanitarian</th>\n",
       "      <th id=\"T_46808_level0_col1\" class=\"col_heading level0 col1\" >urgency</th>\n",
       "      <th id=\"T_46808_level0_col2\" class=\"col_heading level0 col2\" >utility</th>\n",
       "    </tr>\n",
       "  </thead>\n",
       "  <tbody>\n",
       "    <tr>\n",
       "      <th id=\"T_46808_level0_row0\" class=\"row_heading level0 row0\" >Collapse</th>\n",
       "      <td id=\"T_46808_row0_col0\" class=\"data row0 col0\" >1.0000</td>\n",
       "      <td id=\"T_46808_row0_col1\" class=\"data row0 col1\" >1.0000</td>\n",
       "      <td id=\"T_46808_row0_col2\" class=\"data row0 col2\" >1.0000</td>\n",
       "    </tr>\n",
       "    <tr>\n",
       "      <th id=\"T_46808_level0_row1\" class=\"row_heading level0 row1\" >Hurricane</th>\n",
       "      <td id=\"T_46808_row1_col0\" class=\"data row1 col0\" >0.4444</td>\n",
       "      <td id=\"T_46808_row1_col1\" class=\"data row1 col1\" >0.4444</td>\n",
       "      <td id=\"T_46808_row1_col2\" class=\"data row1 col2\" >0.4444</td>\n",
       "    </tr>\n",
       "    <tr>\n",
       "      <th id=\"T_46808_level0_row2\" class=\"row_heading level0 row2\" >Flood</th>\n",
       "      <td id=\"T_46808_row2_col0\" class=\"data row2 col0\" >0.2500</td>\n",
       "      <td id=\"T_46808_row2_col1\" class=\"data row2 col1\" >0.2500</td>\n",
       "      <td id=\"T_46808_row2_col2\" class=\"data row2 col2\" >0.3750</td>\n",
       "    </tr>\n",
       "    <tr>\n",
       "      <th id=\"T_46808_level0_row3\" class=\"row_heading level0 row3\" >Storms</th>\n",
       "      <td id=\"T_46808_row3_col0\" class=\"data row3 col0\" >0.4444</td>\n",
       "      <td id=\"T_46808_row3_col1\" class=\"data row3 col1\" >0.4444</td>\n",
       "      <td id=\"T_46808_row3_col2\" class=\"data row3 col2\" >0.4444</td>\n",
       "    </tr>\n",
       "    <tr>\n",
       "      <th id=\"T_46808_level0_row4\" class=\"row_heading level0 row4\" >Average</th>\n",
       "      <td id=\"T_46808_row4_col0\" class=\"data row4 col0\" >0.5347</td>\n",
       "      <td id=\"T_46808_row4_col1\" class=\"data row4 col1\" >0.5347</td>\n",
       "      <td id=\"T_46808_row4_col2\" class=\"data row4 col2\" >0.5660</td>\n",
       "    </tr>\n",
       "  </tbody>\n",
       "</table>\n"
      ],
      "text/plain": [
       "<pandas.io.formats.style.Styler at 0x1f95e29d810>"
      ]
     },
     "metadata": {},
     "output_type": "display_data"
    },
    {
     "name": "stdout",
     "output_type": "stream",
     "text": [
      "Training on split 3/3\n",
      "\n",
      "\n",
      "New data  Collapse\n",
      "Memory Size : {'Flood': 0, 'Storms': 0, 'Collapse': 0, 'Hurricane': 0}\n",
      "\n"
     ]
    },
    {
     "name": "stderr",
     "output_type": "stream",
     "text": [
      "Collapse | 1/4 | Epoch 1: 100%|██████████| 1/1 [00:06<00:00,  6.47s/it, humanitarian=0.286, urgency=0, utility=0.444]\n"
     ]
    },
    {
     "name": "stdout",
     "output_type": "stream",
     "text": [
      "\n"
     ]
    },
    {
     "name": "stderr",
     "output_type": "stream",
     "text": [
      "Adding Collapse in memory...: 100%|██████████| 1/1 [00:00<00:00, 507.66it/s]\n"
     ]
    },
    {
     "name": "stdout",
     "output_type": "stream",
     "text": [
      "\n",
      "\n",
      "Model Testing...\n",
      "\n",
      "Scores during training on Collapse\n",
      "\n"
     ]
    },
    {
     "data": {
      "text/html": [
       "<style type=\"text/css\">\n",
       "#T_bc7c8_row0_col0, #T_bc7c8_row0_col1, #T_bc7c8_row1_col0, #T_bc7c8_row1_col1, #T_bc7c8_row2_col0, #T_bc7c8_row2_col1, #T_bc7c8_row3_col0, #T_bc7c8_row3_col1, #T_bc7c8_row3_col2, #T_bc7c8_row4_col0, #T_bc7c8_row4_col1 {\n",
       "  background-color: #ffffff;\n",
       "  color: #000000;\n",
       "}\n",
       "#T_bc7c8_row0_col2, #T_bc7c8_row1_col2, #T_bc7c8_row2_col2, #T_bc7c8_row4_col2 {\n",
       "  background-color: #000000;\n",
       "  color: #f1f1f1;\n",
       "}\n",
       "</style>\n",
       "<table id=\"T_bc7c8\">\n",
       "  <thead>\n",
       "    <tr>\n",
       "      <th class=\"blank level0\" >&nbsp;</th>\n",
       "      <th id=\"T_bc7c8_level0_col0\" class=\"col_heading level0 col0\" >humanitarian</th>\n",
       "      <th id=\"T_bc7c8_level0_col1\" class=\"col_heading level0 col1\" >urgency</th>\n",
       "      <th id=\"T_bc7c8_level0_col2\" class=\"col_heading level0 col2\" >utility</th>\n",
       "    </tr>\n",
       "  </thead>\n",
       "  <tbody>\n",
       "    <tr>\n",
       "      <th id=\"T_bc7c8_level0_row0\" class=\"row_heading level0 row0\" >Collapse</th>\n",
       "      <td id=\"T_bc7c8_row0_col0\" class=\"data row0 col0\" >0.2500</td>\n",
       "      <td id=\"T_bc7c8_row0_col1\" class=\"data row0 col1\" >0.2500</td>\n",
       "      <td id=\"T_bc7c8_row0_col2\" class=\"data row0 col2\" >0.3750</td>\n",
       "    </tr>\n",
       "    <tr>\n",
       "      <th id=\"T_bc7c8_level0_row1\" class=\"row_heading level0 row1\" >Hurricane</th>\n",
       "      <td id=\"T_bc7c8_row1_col0\" class=\"data row1 col0\" >0.2500</td>\n",
       "      <td id=\"T_bc7c8_row1_col1\" class=\"data row1 col1\" >0.2500</td>\n",
       "      <td id=\"T_bc7c8_row1_col2\" class=\"data row1 col2\" >0.3750</td>\n",
       "    </tr>\n",
       "    <tr>\n",
       "      <th id=\"T_bc7c8_level0_row2\" class=\"row_heading level0 row2\" >Flood</th>\n",
       "      <td id=\"T_bc7c8_row2_col0\" class=\"data row2 col0\" >0.2500</td>\n",
       "      <td id=\"T_bc7c8_row2_col1\" class=\"data row2 col1\" >0.2500</td>\n",
       "      <td id=\"T_bc7c8_row2_col2\" class=\"data row2 col2\" >0.3750</td>\n",
       "    </tr>\n",
       "    <tr>\n",
       "      <th id=\"T_bc7c8_level0_row3\" class=\"row_heading level0 row3\" >Storms</th>\n",
       "      <td id=\"T_bc7c8_row3_col0\" class=\"data row3 col0\" >0.4444</td>\n",
       "      <td id=\"T_bc7c8_row3_col1\" class=\"data row3 col1\" >0.4444</td>\n",
       "      <td id=\"T_bc7c8_row3_col2\" class=\"data row3 col2\" >0.4444</td>\n",
       "    </tr>\n",
       "    <tr>\n",
       "      <th id=\"T_bc7c8_level0_row4\" class=\"row_heading level0 row4\" >Average</th>\n",
       "      <td id=\"T_bc7c8_row4_col0\" class=\"data row4 col0\" >0.2986</td>\n",
       "      <td id=\"T_bc7c8_row4_col1\" class=\"data row4 col1\" >0.2986</td>\n",
       "      <td id=\"T_bc7c8_row4_col2\" class=\"data row4 col2\" >0.3924</td>\n",
       "    </tr>\n",
       "  </tbody>\n",
       "</table>\n"
      ],
      "text/plain": [
       "<pandas.io.formats.style.Styler at 0x1f95e29d6d0>"
      ]
     },
     "metadata": {},
     "output_type": "display_data"
    },
    {
     "name": "stdout",
     "output_type": "stream",
     "text": [
      "\n",
      "New data  Hurricane\n",
      "Memory Size : {'Flood': 0, 'Storms': 0, 'Collapse': 5, 'Hurricane': 0}\n",
      "\n"
     ]
    },
    {
     "name": "stderr",
     "output_type": "stream",
     "text": [
      "Hurricane | 2/4 | Epoch 1: 100%|██████████| 1/1 [00:12<00:00, 12.35s/it, humanitarian=0.444, urgency=0.444, utility=0.444]\n"
     ]
    },
    {
     "name": "stdout",
     "output_type": "stream",
     "text": [
      "\n"
     ]
    },
    {
     "name": "stderr",
     "output_type": "stream",
     "text": [
      "Adding Hurricane in memory...: 100%|██████████| 1/1 [00:00<00:00, 724.91it/s]\n"
     ]
    },
    {
     "name": "stdout",
     "output_type": "stream",
     "text": [
      "\n",
      "\n",
      "Model Testing...\n",
      "\n",
      "Scores during training on Hurricane\n",
      "\n"
     ]
    },
    {
     "data": {
      "text/html": [
       "<style type=\"text/css\">\n",
       "#T_feeed_row0_col0, #T_feeed_row0_col1, #T_feeed_row1_col0, #T_feeed_row1_col1, #T_feeed_row2_col0, #T_feeed_row2_col1, #T_feeed_row3_col0, #T_feeed_row3_col1, #T_feeed_row3_col2, #T_feeed_row4_col0, #T_feeed_row4_col1 {\n",
       "  background-color: #ffffff;\n",
       "  color: #000000;\n",
       "}\n",
       "#T_feeed_row0_col2, #T_feeed_row1_col2, #T_feeed_row2_col2, #T_feeed_row4_col2 {\n",
       "  background-color: #000000;\n",
       "  color: #f1f1f1;\n",
       "}\n",
       "</style>\n",
       "<table id=\"T_feeed\">\n",
       "  <thead>\n",
       "    <tr>\n",
       "      <th class=\"blank level0\" >&nbsp;</th>\n",
       "      <th id=\"T_feeed_level0_col0\" class=\"col_heading level0 col0\" >humanitarian</th>\n",
       "      <th id=\"T_feeed_level0_col1\" class=\"col_heading level0 col1\" >urgency</th>\n",
       "      <th id=\"T_feeed_level0_col2\" class=\"col_heading level0 col2\" >utility</th>\n",
       "    </tr>\n",
       "  </thead>\n",
       "  <tbody>\n",
       "    <tr>\n",
       "      <th id=\"T_feeed_level0_row0\" class=\"row_heading level0 row0\" >Collapse</th>\n",
       "      <td id=\"T_feeed_row0_col0\" class=\"data row0 col0\" >0.2500</td>\n",
       "      <td id=\"T_feeed_row0_col1\" class=\"data row0 col1\" >0.2500</td>\n",
       "      <td id=\"T_feeed_row0_col2\" class=\"data row0 col2\" >0.3750</td>\n",
       "    </tr>\n",
       "    <tr>\n",
       "      <th id=\"T_feeed_level0_row1\" class=\"row_heading level0 row1\" >Hurricane</th>\n",
       "      <td id=\"T_feeed_row1_col0\" class=\"data row1 col0\" >0.2500</td>\n",
       "      <td id=\"T_feeed_row1_col1\" class=\"data row1 col1\" >0.2500</td>\n",
       "      <td id=\"T_feeed_row1_col2\" class=\"data row1 col2\" >0.3750</td>\n",
       "    </tr>\n",
       "    <tr>\n",
       "      <th id=\"T_feeed_level0_row2\" class=\"row_heading level0 row2\" >Flood</th>\n",
       "      <td id=\"T_feeed_row2_col0\" class=\"data row2 col0\" >0.2500</td>\n",
       "      <td id=\"T_feeed_row2_col1\" class=\"data row2 col1\" >0.2500</td>\n",
       "      <td id=\"T_feeed_row2_col2\" class=\"data row2 col2\" >0.3750</td>\n",
       "    </tr>\n",
       "    <tr>\n",
       "      <th id=\"T_feeed_level0_row3\" class=\"row_heading level0 row3\" >Storms</th>\n",
       "      <td id=\"T_feeed_row3_col0\" class=\"data row3 col0\" >0.4444</td>\n",
       "      <td id=\"T_feeed_row3_col1\" class=\"data row3 col1\" >0.4444</td>\n",
       "      <td id=\"T_feeed_row3_col2\" class=\"data row3 col2\" >0.4444</td>\n",
       "    </tr>\n",
       "    <tr>\n",
       "      <th id=\"T_feeed_level0_row4\" class=\"row_heading level0 row4\" >Average</th>\n",
       "      <td id=\"T_feeed_row4_col0\" class=\"data row4 col0\" >0.2986</td>\n",
       "      <td id=\"T_feeed_row4_col1\" class=\"data row4 col1\" >0.2986</td>\n",
       "      <td id=\"T_feeed_row4_col2\" class=\"data row4 col2\" >0.3924</td>\n",
       "    </tr>\n",
       "  </tbody>\n",
       "</table>\n"
      ],
      "text/plain": [
       "<pandas.io.formats.style.Styler at 0x1f95e29d6d0>"
      ]
     },
     "metadata": {},
     "output_type": "display_data"
    },
    {
     "name": "stdout",
     "output_type": "stream",
     "text": [
      "\n",
      "New data  Flood\n",
      "Memory Size : {'Flood': 0, 'Storms': 0, 'Collapse': 5, 'Hurricane': 5}\n",
      "\n"
     ]
    },
    {
     "name": "stderr",
     "output_type": "stream",
     "text": [
      "Flood | 3/4 | Epoch 1: 100%|██████████| 1/1 [00:14<00:00, 14.62s/it, humanitarian=0.15, urgency=0.25, utility=0.375]\n"
     ]
    },
    {
     "name": "stdout",
     "output_type": "stream",
     "text": [
      "\n"
     ]
    },
    {
     "name": "stderr",
     "output_type": "stream",
     "text": [
      "Adding Flood in memory...: 100%|██████████| 1/1 [00:00<00:00, 419.43it/s]\n"
     ]
    },
    {
     "name": "stdout",
     "output_type": "stream",
     "text": [
      "\n",
      "\n",
      "Model Testing...\n",
      "\n",
      "Scores during training on Flood\n",
      "\n"
     ]
    },
    {
     "data": {
      "text/html": [
       "<style type=\"text/css\">\n",
       "#T_6b7c9_row0_col0, #T_6b7c9_row0_col1, #T_6b7c9_row1_col0, #T_6b7c9_row1_col1, #T_6b7c9_row2_col0, #T_6b7c9_row2_col1, #T_6b7c9_row3_col0, #T_6b7c9_row3_col1, #T_6b7c9_row3_col2, #T_6b7c9_row4_col0, #T_6b7c9_row4_col1 {\n",
       "  background-color: #ffffff;\n",
       "  color: #000000;\n",
       "}\n",
       "#T_6b7c9_row0_col2, #T_6b7c9_row1_col2, #T_6b7c9_row2_col2, #T_6b7c9_row4_col2 {\n",
       "  background-color: #000000;\n",
       "  color: #f1f1f1;\n",
       "}\n",
       "</style>\n",
       "<table id=\"T_6b7c9\">\n",
       "  <thead>\n",
       "    <tr>\n",
       "      <th class=\"blank level0\" >&nbsp;</th>\n",
       "      <th id=\"T_6b7c9_level0_col0\" class=\"col_heading level0 col0\" >humanitarian</th>\n",
       "      <th id=\"T_6b7c9_level0_col1\" class=\"col_heading level0 col1\" >urgency</th>\n",
       "      <th id=\"T_6b7c9_level0_col2\" class=\"col_heading level0 col2\" >utility</th>\n",
       "    </tr>\n",
       "  </thead>\n",
       "  <tbody>\n",
       "    <tr>\n",
       "      <th id=\"T_6b7c9_level0_row0\" class=\"row_heading level0 row0\" >Collapse</th>\n",
       "      <td id=\"T_6b7c9_row0_col0\" class=\"data row0 col0\" >0.2500</td>\n",
       "      <td id=\"T_6b7c9_row0_col1\" class=\"data row0 col1\" >0.2500</td>\n",
       "      <td id=\"T_6b7c9_row0_col2\" class=\"data row0 col2\" >0.3750</td>\n",
       "    </tr>\n",
       "    <tr>\n",
       "      <th id=\"T_6b7c9_level0_row1\" class=\"row_heading level0 row1\" >Hurricane</th>\n",
       "      <td id=\"T_6b7c9_row1_col0\" class=\"data row1 col0\" >0.2500</td>\n",
       "      <td id=\"T_6b7c9_row1_col1\" class=\"data row1 col1\" >0.2500</td>\n",
       "      <td id=\"T_6b7c9_row1_col2\" class=\"data row1 col2\" >0.3750</td>\n",
       "    </tr>\n",
       "    <tr>\n",
       "      <th id=\"T_6b7c9_level0_row2\" class=\"row_heading level0 row2\" >Flood</th>\n",
       "      <td id=\"T_6b7c9_row2_col0\" class=\"data row2 col0\" >0.2500</td>\n",
       "      <td id=\"T_6b7c9_row2_col1\" class=\"data row2 col1\" >0.2500</td>\n",
       "      <td id=\"T_6b7c9_row2_col2\" class=\"data row2 col2\" >0.3750</td>\n",
       "    </tr>\n",
       "    <tr>\n",
       "      <th id=\"T_6b7c9_level0_row3\" class=\"row_heading level0 row3\" >Storms</th>\n",
       "      <td id=\"T_6b7c9_row3_col0\" class=\"data row3 col0\" >0.4444</td>\n",
       "      <td id=\"T_6b7c9_row3_col1\" class=\"data row3 col1\" >0.4444</td>\n",
       "      <td id=\"T_6b7c9_row3_col2\" class=\"data row3 col2\" >0.4444</td>\n",
       "    </tr>\n",
       "    <tr>\n",
       "      <th id=\"T_6b7c9_level0_row4\" class=\"row_heading level0 row4\" >Average</th>\n",
       "      <td id=\"T_6b7c9_row4_col0\" class=\"data row4 col0\" >0.2986</td>\n",
       "      <td id=\"T_6b7c9_row4_col1\" class=\"data row4 col1\" >0.2986</td>\n",
       "      <td id=\"T_6b7c9_row4_col2\" class=\"data row4 col2\" >0.3924</td>\n",
       "    </tr>\n",
       "  </tbody>\n",
       "</table>\n"
      ],
      "text/plain": [
       "<pandas.io.formats.style.Styler at 0x1f95e29d6d0>"
      ]
     },
     "metadata": {},
     "output_type": "display_data"
    },
    {
     "name": "stdout",
     "output_type": "stream",
     "text": [
      "\n",
      "New data  Storms\n",
      "Memory Size : {'Flood': 5, 'Storms': 0, 'Collapse': 5, 'Hurricane': 5}\n",
      "\n"
     ]
    },
    {
     "name": "stderr",
     "output_type": "stream",
     "text": [
      "Storms | 4/4 | Epoch 1: 100%|██████████| 1/1 [01:00<00:00, 60.12s/it, humanitarian=0.222, urgency=0.296, utility=0.444]\n"
     ]
    },
    {
     "name": "stdout",
     "output_type": "stream",
     "text": [
      "\n"
     ]
    },
    {
     "name": "stderr",
     "output_type": "stream",
     "text": [
      "Adding Storms in memory...: 100%|██████████| 1/1 [00:00<00:00, 187.00it/s]\n"
     ]
    },
    {
     "name": "stdout",
     "output_type": "stream",
     "text": [
      "\n",
      "\n",
      "Model Testing...\n",
      "\n",
      "Scores during training on Storms\n",
      "\n"
     ]
    },
    {
     "data": {
      "text/html": [
       "<style type=\"text/css\">\n",
       "#T_9a6f5_row0_col0, #T_9a6f5_row0_col1, #T_9a6f5_row1_col0, #T_9a6f5_row1_col1, #T_9a6f5_row2_col0, #T_9a6f5_row2_col1, #T_9a6f5_row3_col0, #T_9a6f5_row3_col1, #T_9a6f5_row3_col2, #T_9a6f5_row4_col0, #T_9a6f5_row4_col1 {\n",
       "  background-color: #ffffff;\n",
       "  color: #000000;\n",
       "}\n",
       "#T_9a6f5_row0_col2, #T_9a6f5_row1_col2, #T_9a6f5_row2_col2, #T_9a6f5_row4_col2 {\n",
       "  background-color: #000000;\n",
       "  color: #f1f1f1;\n",
       "}\n",
       "</style>\n",
       "<table id=\"T_9a6f5\">\n",
       "  <thead>\n",
       "    <tr>\n",
       "      <th class=\"blank level0\" >&nbsp;</th>\n",
       "      <th id=\"T_9a6f5_level0_col0\" class=\"col_heading level0 col0\" >humanitarian</th>\n",
       "      <th id=\"T_9a6f5_level0_col1\" class=\"col_heading level0 col1\" >urgency</th>\n",
       "      <th id=\"T_9a6f5_level0_col2\" class=\"col_heading level0 col2\" >utility</th>\n",
       "    </tr>\n",
       "  </thead>\n",
       "  <tbody>\n",
       "    <tr>\n",
       "      <th id=\"T_9a6f5_level0_row0\" class=\"row_heading level0 row0\" >Collapse</th>\n",
       "      <td id=\"T_9a6f5_row0_col0\" class=\"data row0 col0\" >0.2500</td>\n",
       "      <td id=\"T_9a6f5_row0_col1\" class=\"data row0 col1\" >0.2500</td>\n",
       "      <td id=\"T_9a6f5_row0_col2\" class=\"data row0 col2\" >0.3750</td>\n",
       "    </tr>\n",
       "    <tr>\n",
       "      <th id=\"T_9a6f5_level0_row1\" class=\"row_heading level0 row1\" >Hurricane</th>\n",
       "      <td id=\"T_9a6f5_row1_col0\" class=\"data row1 col0\" >0.2500</td>\n",
       "      <td id=\"T_9a6f5_row1_col1\" class=\"data row1 col1\" >0.2500</td>\n",
       "      <td id=\"T_9a6f5_row1_col2\" class=\"data row1 col2\" >0.3750</td>\n",
       "    </tr>\n",
       "    <tr>\n",
       "      <th id=\"T_9a6f5_level0_row2\" class=\"row_heading level0 row2\" >Flood</th>\n",
       "      <td id=\"T_9a6f5_row2_col0\" class=\"data row2 col0\" >0.2500</td>\n",
       "      <td id=\"T_9a6f5_row2_col1\" class=\"data row2 col1\" >0.2500</td>\n",
       "      <td id=\"T_9a6f5_row2_col2\" class=\"data row2 col2\" >0.3750</td>\n",
       "    </tr>\n",
       "    <tr>\n",
       "      <th id=\"T_9a6f5_level0_row3\" class=\"row_heading level0 row3\" >Storms</th>\n",
       "      <td id=\"T_9a6f5_row3_col0\" class=\"data row3 col0\" >0.4444</td>\n",
       "      <td id=\"T_9a6f5_row3_col1\" class=\"data row3 col1\" >0.4444</td>\n",
       "      <td id=\"T_9a6f5_row3_col2\" class=\"data row3 col2\" >0.4444</td>\n",
       "    </tr>\n",
       "    <tr>\n",
       "      <th id=\"T_9a6f5_level0_row4\" class=\"row_heading level0 row4\" >Average</th>\n",
       "      <td id=\"T_9a6f5_row4_col0\" class=\"data row4 col0\" >0.2986</td>\n",
       "      <td id=\"T_9a6f5_row4_col1\" class=\"data row4 col1\" >0.2986</td>\n",
       "      <td id=\"T_9a6f5_row4_col2\" class=\"data row4 col2\" >0.3924</td>\n",
       "    </tr>\n",
       "  </tbody>\n",
       "</table>\n"
      ],
      "text/plain": [
       "<pandas.io.formats.style.Styler at 0x1f95e29d6d0>"
      ]
     },
     "metadata": {},
     "output_type": "display_data"
    },
    {
     "name": "stdout",
     "output_type": "stream",
     "text": [
      "Score for order Collapse, Hurricane, Flood, Storms\n",
      "\n"
     ]
    },
    {
     "name": "stderr",
     "output_type": "stream",
     "text": [
      "p:\\Programmes\\Python\\Python313\\Lib\\site-packages\\pandas\\io\\formats\\style.py:3807: RuntimeWarning: All-NaN slice encountered\n",
      "  smin = np.nanmin(gmap) if vmin is None else vmin\n",
      "p:\\Programmes\\Python\\Python313\\Lib\\site-packages\\pandas\\io\\formats\\style.py:3808: RuntimeWarning: All-NaN slice encountered\n",
      "  smax = np.nanmax(gmap) if vmax is None else vmax\n"
     ]
    },
    {
     "data": {
      "text/html": [
       "<style type=\"text/css\">\n",
       "#T_a9a70_row0_col0, #T_a9a70_row0_col1, #T_a9a70_row1_col2, #T_a9a70_row2_col0, #T_a9a70_row2_col1, #T_a9a70_row2_col2, #T_a9a70_row3_col2, #T_a9a70_row4_col0, #T_a9a70_row4_col1, #T_a9a70_row4_col2, #T_a9a70_row6_col0, #T_a9a70_row6_col1, #T_a9a70_row6_col2, #T_a9a70_row7_col0, #T_a9a70_row7_col1, #T_a9a70_row7_col2, #T_a9a70_row8_col0, #T_a9a70_row8_col1, #T_a9a70_row8_col2, #T_a9a70_row9_col0, #T_a9a70_row9_col1, #T_a9a70_row9_col2 {\n",
       "  background-color: #ffffff;\n",
       "  color: #000000;\n",
       "}\n",
       "#T_a9a70_row0_col2, #T_a9a70_row1_col0, #T_a9a70_row1_col1, #T_a9a70_row3_col0, #T_a9a70_row3_col1, #T_a9a70_row5_col0, #T_a9a70_row5_col1, #T_a9a70_row5_col2, #T_a9a70_row10_col0, #T_a9a70_row10_col1, #T_a9a70_row10_col2 {\n",
       "  background-color: #000000;\n",
       "  color: #f1f1f1;\n",
       "}\n",
       "</style>\n",
       "<table id=\"T_a9a70\">\n",
       "  <thead>\n",
       "    <tr>\n",
       "      <th class=\"blank level0\" >&nbsp;</th>\n",
       "      <th id=\"T_a9a70_level0_col0\" class=\"col_heading level0 col0\" >humanitarian</th>\n",
       "      <th id=\"T_a9a70_level0_col1\" class=\"col_heading level0 col1\" >urgency</th>\n",
       "      <th id=\"T_a9a70_level0_col2\" class=\"col_heading level0 col2\" >utility</th>\n",
       "    </tr>\n",
       "  </thead>\n",
       "  <tbody>\n",
       "    <tr>\n",
       "      <th id=\"T_a9a70_level0_row0\" class=\"row_heading level0 row0\" >AIA</th>\n",
       "      <td id=\"T_a9a70_row0_col0\" class=\"data row0 col0\" >0.4275</td>\n",
       "      <td id=\"T_a9a70_row0_col1\" class=\"data row0 col1\" >0.4275</td>\n",
       "      <td id=\"T_a9a70_row0_col2\" class=\"data row0 col2\" >0.4931</td>\n",
       "    </tr>\n",
       "    <tr>\n",
       "      <th id=\"T_a9a70_level0_row1\" class=\"row_heading level0 row1\" >BWT</th>\n",
       "      <td id=\"T_a9a70_row1_col0\" class=\"data row1 col0\" >0.0000</td>\n",
       "      <td id=\"T_a9a70_row1_col1\" class=\"data row1 col1\" >0.0000</td>\n",
       "      <td id=\"T_a9a70_row1_col2\" class=\"data row1 col2\" >-0.0077</td>\n",
       "    </tr>\n",
       "    <tr>\n",
       "      <th id=\"T_a9a70_level0_row2\" class=\"row_heading level0 row2\" >BWT_Collapse</th>\n",
       "      <td id=\"T_a9a70_row2_col0\" class=\"data row2 col0\" >0.0000</td>\n",
       "      <td id=\"T_a9a70_row2_col1\" class=\"data row2 col1\" >0.0000</td>\n",
       "      <td id=\"T_a9a70_row2_col2\" class=\"data row2 col2\" >0.0000</td>\n",
       "    </tr>\n",
       "    <tr>\n",
       "      <th id=\"T_a9a70_level0_row3\" class=\"row_heading level0 row3\" >BWT_Hurricane</th>\n",
       "      <td id=\"T_a9a70_row3_col0\" class=\"data row3 col0\" >0.0000</td>\n",
       "      <td id=\"T_a9a70_row3_col1\" class=\"data row3 col1\" >0.0000</td>\n",
       "      <td id=\"T_a9a70_row3_col2\" class=\"data row3 col2\" >-0.0231</td>\n",
       "    </tr>\n",
       "    <tr>\n",
       "      <th id=\"T_a9a70_level0_row4\" class=\"row_heading level0 row4\" >BWT_Flood</th>\n",
       "      <td id=\"T_a9a70_row4_col0\" class=\"data row4 col0\" >0.0000</td>\n",
       "      <td id=\"T_a9a70_row4_col1\" class=\"data row4 col1\" >0.0000</td>\n",
       "      <td id=\"T_a9a70_row4_col2\" class=\"data row4 col2\" >0.0000</td>\n",
       "    </tr>\n",
       "    <tr>\n",
       "      <th id=\"T_a9a70_level0_row5\" class=\"row_heading level0 row5\" >BWT_Storms</th>\n",
       "      <td id=\"T_a9a70_row5_col0\" class=\"data row5 col0\" >nan</td>\n",
       "      <td id=\"T_a9a70_row5_col1\" class=\"data row5 col1\" >nan</td>\n",
       "      <td id=\"T_a9a70_row5_col2\" class=\"data row5 col2\" >nan</td>\n",
       "    </tr>\n",
       "    <tr>\n",
       "      <th id=\"T_a9a70_level0_row6\" class=\"row_heading level0 row6\" >FM</th>\n",
       "      <td id=\"T_a9a70_row6_col0\" class=\"data row6 col0\" >0.0000</td>\n",
       "      <td id=\"T_a9a70_row6_col1\" class=\"data row6 col1\" >0.0000</td>\n",
       "      <td id=\"T_a9a70_row6_col2\" class=\"data row6 col2\" >0.0000</td>\n",
       "    </tr>\n",
       "    <tr>\n",
       "      <th id=\"T_a9a70_level0_row7\" class=\"row_heading level0 row7\" >FM_Collapse</th>\n",
       "      <td id=\"T_a9a70_row7_col0\" class=\"data row7 col0\" >0.0000</td>\n",
       "      <td id=\"T_a9a70_row7_col1\" class=\"data row7 col1\" >0.0000</td>\n",
       "      <td id=\"T_a9a70_row7_col2\" class=\"data row7 col2\" >0.0000</td>\n",
       "    </tr>\n",
       "    <tr>\n",
       "      <th id=\"T_a9a70_level0_row8\" class=\"row_heading level0 row8\" >FM_Hurricane</th>\n",
       "      <td id=\"T_a9a70_row8_col0\" class=\"data row8 col0\" >0.0000</td>\n",
       "      <td id=\"T_a9a70_row8_col1\" class=\"data row8 col1\" >0.0000</td>\n",
       "      <td id=\"T_a9a70_row8_col2\" class=\"data row8 col2\" >0.0000</td>\n",
       "    </tr>\n",
       "    <tr>\n",
       "      <th id=\"T_a9a70_level0_row9\" class=\"row_heading level0 row9\" >FM_Flood</th>\n",
       "      <td id=\"T_a9a70_row9_col0\" class=\"data row9 col0\" >0.0000</td>\n",
       "      <td id=\"T_a9a70_row9_col1\" class=\"data row9 col1\" >0.0000</td>\n",
       "      <td id=\"T_a9a70_row9_col2\" class=\"data row9 col2\" >0.0000</td>\n",
       "    </tr>\n",
       "    <tr>\n",
       "      <th id=\"T_a9a70_level0_row10\" class=\"row_heading level0 row10\" >FM_Storms</th>\n",
       "      <td id=\"T_a9a70_row10_col0\" class=\"data row10 col0\" >nan</td>\n",
       "      <td id=\"T_a9a70_row10_col1\" class=\"data row10 col1\" >nan</td>\n",
       "      <td id=\"T_a9a70_row10_col2\" class=\"data row10 col2\" >nan</td>\n",
       "    </tr>\n",
       "  </tbody>\n",
       "</table>\n"
      ],
      "text/plain": [
       "<pandas.io.formats.style.Styler at 0x1f95e29d1d0>"
      ]
     },
     "metadata": {},
     "output_type": "display_data"
    },
    {
     "name": "stdout",
     "output_type": "stream",
     "text": [
      "\n",
      "Training on order Hurricane, Flood, Storms, Collapse | 4/4\n",
      "\n",
      "Training on split 1/3\n",
      "\n",
      "\n",
      "New data  Hurricane\n",
      "Memory Size : {'Flood': 0, 'Storms': 0, 'Collapse': 0, 'Hurricane': 0}\n",
      "\n"
     ]
    },
    {
     "name": "stderr",
     "output_type": "stream",
     "text": [
      "Hurricane | 1/4 | Epoch 1: 100%|██████████| 1/1 [00:06<00:00,  6.06s/it, humanitarian=0.367, urgency=0.133, utility=0.286]\n"
     ]
    },
    {
     "name": "stdout",
     "output_type": "stream",
     "text": [
      "\n"
     ]
    },
    {
     "name": "stderr",
     "output_type": "stream",
     "text": [
      "Adding Hurricane in memory...: 100%|██████████| 1/1 [00:00<00:00, 794.68it/s]\n"
     ]
    },
    {
     "name": "stdout",
     "output_type": "stream",
     "text": [
      "\n",
      "\n",
      "Model Testing...\n",
      "\n",
      "Scores during training on Hurricane\n",
      "\n"
     ]
    },
    {
     "data": {
      "text/html": [
       "<style type=\"text/css\">\n",
       "#T_12859_row0_col0, #T_12859_row1_col0, #T_12859_row1_col1, #T_12859_row2_col0, #T_12859_row3_col0, #T_12859_row3_col1, #T_12859_row4_col0 {\n",
       "  background-color: #ffffff;\n",
       "  color: #000000;\n",
       "}\n",
       "#T_12859_row0_col1, #T_12859_row1_col2, #T_12859_row2_col1, #T_12859_row2_col2, #T_12859_row3_col2, #T_12859_row4_col2 {\n",
       "  background-color: #000000;\n",
       "  color: #f1f1f1;\n",
       "}\n",
       "#T_12859_row0_col2 {\n",
       "  background-color: #5b5b5b;\n",
       "  color: #f1f1f1;\n",
       "}\n",
       "#T_12859_row4_col1 {\n",
       "  background-color: #515151;\n",
       "  color: #f1f1f1;\n",
       "}\n",
       "</style>\n",
       "<table id=\"T_12859\">\n",
       "  <thead>\n",
       "    <tr>\n",
       "      <th class=\"blank level0\" >&nbsp;</th>\n",
       "      <th id=\"T_12859_level0_col0\" class=\"col_heading level0 col0\" >humanitarian</th>\n",
       "      <th id=\"T_12859_level0_col1\" class=\"col_heading level0 col1\" >urgency</th>\n",
       "      <th id=\"T_12859_level0_col2\" class=\"col_heading level0 col2\" >utility</th>\n",
       "    </tr>\n",
       "  </thead>\n",
       "  <tbody>\n",
       "    <tr>\n",
       "      <th id=\"T_12859_level0_row0\" class=\"row_heading level0 row0\" >Hurricane</th>\n",
       "      <td id=\"T_12859_row0_col0\" class=\"data row0 col0\" >0.2500</td>\n",
       "      <td id=\"T_12859_row0_col1\" class=\"data row0 col1\" >0.4444</td>\n",
       "      <td id=\"T_12859_row0_col2\" class=\"data row0 col2\" >0.3750</td>\n",
       "    </tr>\n",
       "    <tr>\n",
       "      <th id=\"T_12859_level0_row1\" class=\"row_heading level0 row1\" >Flood</th>\n",
       "      <td id=\"T_12859_row1_col0\" class=\"data row1 col0\" >0.2500</td>\n",
       "      <td id=\"T_12859_row1_col1\" class=\"data row1 col1\" >0.2500</td>\n",
       "      <td id=\"T_12859_row1_col2\" class=\"data row1 col2\" >0.3750</td>\n",
       "    </tr>\n",
       "    <tr>\n",
       "      <th id=\"T_12859_level0_row2\" class=\"row_heading level0 row2\" >Storms</th>\n",
       "      <td id=\"T_12859_row2_col0\" class=\"data row2 col0\" >0.2500</td>\n",
       "      <td id=\"T_12859_row2_col1\" class=\"data row2 col1\" >0.4444</td>\n",
       "      <td id=\"T_12859_row2_col2\" class=\"data row2 col2\" >0.4444</td>\n",
       "    </tr>\n",
       "    <tr>\n",
       "      <th id=\"T_12859_level0_row3\" class=\"row_heading level0 row3\" >Collapse</th>\n",
       "      <td id=\"T_12859_row3_col0\" class=\"data row3 col0\" >0.2500</td>\n",
       "      <td id=\"T_12859_row3_col1\" class=\"data row3 col1\" >0.2500</td>\n",
       "      <td id=\"T_12859_row3_col2\" class=\"data row3 col2\" >0.3750</td>\n",
       "    </tr>\n",
       "    <tr>\n",
       "      <th id=\"T_12859_level0_row4\" class=\"row_heading level0 row4\" >Average</th>\n",
       "      <td id=\"T_12859_row4_col0\" class=\"data row4 col0\" >0.2500</td>\n",
       "      <td id=\"T_12859_row4_col1\" class=\"data row4 col1\" >0.3472</td>\n",
       "      <td id=\"T_12859_row4_col2\" class=\"data row4 col2\" >0.3924</td>\n",
       "    </tr>\n",
       "  </tbody>\n",
       "</table>\n"
      ],
      "text/plain": [
       "<pandas.io.formats.style.Styler at 0x1f95e29d810>"
      ]
     },
     "metadata": {},
     "output_type": "display_data"
    },
    {
     "name": "stdout",
     "output_type": "stream",
     "text": [
      "\n",
      "New data  Flood\n",
      "Memory Size : {'Flood': 0, 'Storms': 0, 'Collapse': 0, 'Hurricane': 5}\n",
      "\n"
     ]
    },
    {
     "name": "stderr",
     "output_type": "stream",
     "text": [
      "Flood | 2/4 | Epoch 1: 100%|██████████| 1/1 [00:12<00:00, 12.16s/it, humanitarian=0.25, urgency=0.25, utility=0.375]\n"
     ]
    },
    {
     "name": "stdout",
     "output_type": "stream",
     "text": [
      "\n"
     ]
    },
    {
     "name": "stderr",
     "output_type": "stream",
     "text": [
      "Adding Flood in memory...: 100%|██████████| 1/1 [00:00<00:00, 648.47it/s]\n"
     ]
    },
    {
     "name": "stdout",
     "output_type": "stream",
     "text": [
      "\n",
      "\n",
      "Model Testing...\n",
      "\n",
      "Scores during training on Flood\n",
      "\n"
     ]
    },
    {
     "data": {
      "text/html": [
       "<style type=\"text/css\">\n",
       "#T_9afdf_row0_col0, #T_9afdf_row0_col1, #T_9afdf_row1_col2, #T_9afdf_row2_col0, #T_9afdf_row2_col1, #T_9afdf_row3_col2, #T_9afdf_row4_col2 {\n",
       "  background-color: #000000;\n",
       "  color: #f1f1f1;\n",
       "}\n",
       "#T_9afdf_row0_col2, #T_9afdf_row1_col0, #T_9afdf_row1_col1, #T_9afdf_row2_col2, #T_9afdf_row3_col0, #T_9afdf_row3_col1, #T_9afdf_row4_col0, #T_9afdf_row4_col1 {\n",
       "  background-color: #ffffff;\n",
       "  color: #000000;\n",
       "}\n",
       "</style>\n",
       "<table id=\"T_9afdf\">\n",
       "  <thead>\n",
       "    <tr>\n",
       "      <th class=\"blank level0\" >&nbsp;</th>\n",
       "      <th id=\"T_9afdf_level0_col0\" class=\"col_heading level0 col0\" >humanitarian</th>\n",
       "      <th id=\"T_9afdf_level0_col1\" class=\"col_heading level0 col1\" >urgency</th>\n",
       "      <th id=\"T_9afdf_level0_col2\" class=\"col_heading level0 col2\" >utility</th>\n",
       "    </tr>\n",
       "  </thead>\n",
       "  <tbody>\n",
       "    <tr>\n",
       "      <th id=\"T_9afdf_level0_row0\" class=\"row_heading level0 row0\" >Hurricane</th>\n",
       "      <td id=\"T_9afdf_row0_col0\" class=\"data row0 col0\" >0.4444</td>\n",
       "      <td id=\"T_9afdf_row0_col1\" class=\"data row0 col1\" >0.4444</td>\n",
       "      <td id=\"T_9afdf_row0_col2\" class=\"data row0 col2\" >0.3750</td>\n",
       "    </tr>\n",
       "    <tr>\n",
       "      <th id=\"T_9afdf_level0_row1\" class=\"row_heading level0 row1\" >Flood</th>\n",
       "      <td id=\"T_9afdf_row1_col0\" class=\"data row1 col0\" >0.2500</td>\n",
       "      <td id=\"T_9afdf_row1_col1\" class=\"data row1 col1\" >0.2500</td>\n",
       "      <td id=\"T_9afdf_row1_col2\" class=\"data row1 col2\" >0.2857</td>\n",
       "    </tr>\n",
       "    <tr>\n",
       "      <th id=\"T_9afdf_level0_row2\" class=\"row_heading level0 row2\" >Storms</th>\n",
       "      <td id=\"T_9afdf_row2_col0\" class=\"data row2 col0\" >0.4444</td>\n",
       "      <td id=\"T_9afdf_row2_col1\" class=\"data row2 col1\" >0.4444</td>\n",
       "      <td id=\"T_9afdf_row2_col2\" class=\"data row2 col2\" >0.3750</td>\n",
       "    </tr>\n",
       "    <tr>\n",
       "      <th id=\"T_9afdf_level0_row3\" class=\"row_heading level0 row3\" >Collapse</th>\n",
       "      <td id=\"T_9afdf_row3_col0\" class=\"data row3 col0\" >0.2500</td>\n",
       "      <td id=\"T_9afdf_row3_col1\" class=\"data row3 col1\" >0.2500</td>\n",
       "      <td id=\"T_9afdf_row3_col2\" class=\"data row3 col2\" >0.3750</td>\n",
       "    </tr>\n",
       "    <tr>\n",
       "      <th id=\"T_9afdf_level0_row4\" class=\"row_heading level0 row4\" >Average</th>\n",
       "      <td id=\"T_9afdf_row4_col0\" class=\"data row4 col0\" >0.3472</td>\n",
       "      <td id=\"T_9afdf_row4_col1\" class=\"data row4 col1\" >0.3472</td>\n",
       "      <td id=\"T_9afdf_row4_col2\" class=\"data row4 col2\" >0.3527</td>\n",
       "    </tr>\n",
       "  </tbody>\n",
       "</table>\n"
      ],
      "text/plain": [
       "<pandas.io.formats.style.Styler at 0x1f95e29d810>"
      ]
     },
     "metadata": {},
     "output_type": "display_data"
    },
    {
     "name": "stdout",
     "output_type": "stream",
     "text": [
      "\n",
      "New data  Storms\n",
      "Memory Size : {'Flood': 5, 'Storms': 0, 'Collapse': 0, 'Hurricane': 5}\n",
      "\n"
     ]
    },
    {
     "name": "stderr",
     "output_type": "stream",
     "text": [
      "Storms | 3/4 | Epoch 1: 100%|██████████| 1/1 [00:35<00:00, 35.14s/it, humanitarian=0.296, urgency=0.296, utility=0.577]\n"
     ]
    },
    {
     "name": "stdout",
     "output_type": "stream",
     "text": [
      "\n"
     ]
    },
    {
     "name": "stderr",
     "output_type": "stream",
     "text": [
      "Adding Storms in memory...: 100%|██████████| 1/1 [00:00<00:00, 252.32it/s]\n"
     ]
    },
    {
     "name": "stdout",
     "output_type": "stream",
     "text": [
      "\n",
      "\n",
      "Model Testing...\n",
      "\n",
      "Scores during training on Storms\n",
      "\n"
     ]
    },
    {
     "data": {
      "text/html": [
       "<style type=\"text/css\">\n",
       "#T_27130_row0_col0, #T_27130_row0_col1, #T_27130_row0_col2, #T_27130_row1_col0, #T_27130_row1_col1, #T_27130_row2_col0, #T_27130_row2_col1, #T_27130_row2_col2, #T_27130_row3_col0, #T_27130_row3_col1, #T_27130_row4_col0, #T_27130_row4_col1 {\n",
       "  background-color: #ffffff;\n",
       "  color: #000000;\n",
       "}\n",
       "#T_27130_row1_col2, #T_27130_row3_col2, #T_27130_row4_col2 {\n",
       "  background-color: #000000;\n",
       "  color: #f1f1f1;\n",
       "}\n",
       "</style>\n",
       "<table id=\"T_27130\">\n",
       "  <thead>\n",
       "    <tr>\n",
       "      <th class=\"blank level0\" >&nbsp;</th>\n",
       "      <th id=\"T_27130_level0_col0\" class=\"col_heading level0 col0\" >humanitarian</th>\n",
       "      <th id=\"T_27130_level0_col1\" class=\"col_heading level0 col1\" >urgency</th>\n",
       "      <th id=\"T_27130_level0_col2\" class=\"col_heading level0 col2\" >utility</th>\n",
       "    </tr>\n",
       "  </thead>\n",
       "  <tbody>\n",
       "    <tr>\n",
       "      <th id=\"T_27130_level0_row0\" class=\"row_heading level0 row0\" >Hurricane</th>\n",
       "      <td id=\"T_27130_row0_col0\" class=\"data row0 col0\" >0.4444</td>\n",
       "      <td id=\"T_27130_row0_col1\" class=\"data row0 col1\" >0.4444</td>\n",
       "      <td id=\"T_27130_row0_col2\" class=\"data row0 col2\" >0.4444</td>\n",
       "    </tr>\n",
       "    <tr>\n",
       "      <th id=\"T_27130_level0_row1\" class=\"row_heading level0 row1\" >Flood</th>\n",
       "      <td id=\"T_27130_row1_col0\" class=\"data row1 col0\" >0.2500</td>\n",
       "      <td id=\"T_27130_row1_col1\" class=\"data row1 col1\" >0.2500</td>\n",
       "      <td id=\"T_27130_row1_col2\" class=\"data row1 col2\" >0.3750</td>\n",
       "    </tr>\n",
       "    <tr>\n",
       "      <th id=\"T_27130_level0_row2\" class=\"row_heading level0 row2\" >Storms</th>\n",
       "      <td id=\"T_27130_row2_col0\" class=\"data row2 col0\" >0.4444</td>\n",
       "      <td id=\"T_27130_row2_col1\" class=\"data row2 col1\" >0.4444</td>\n",
       "      <td id=\"T_27130_row2_col2\" class=\"data row2 col2\" >0.4444</td>\n",
       "    </tr>\n",
       "    <tr>\n",
       "      <th id=\"T_27130_level0_row3\" class=\"row_heading level0 row3\" >Collapse</th>\n",
       "      <td id=\"T_27130_row3_col0\" class=\"data row3 col0\" >0.2500</td>\n",
       "      <td id=\"T_27130_row3_col1\" class=\"data row3 col1\" >0.2500</td>\n",
       "      <td id=\"T_27130_row3_col2\" class=\"data row3 col2\" >0.3750</td>\n",
       "    </tr>\n",
       "    <tr>\n",
       "      <th id=\"T_27130_level0_row4\" class=\"row_heading level0 row4\" >Average</th>\n",
       "      <td id=\"T_27130_row4_col0\" class=\"data row4 col0\" >0.3472</td>\n",
       "      <td id=\"T_27130_row4_col1\" class=\"data row4 col1\" >0.3472</td>\n",
       "      <td id=\"T_27130_row4_col2\" class=\"data row4 col2\" >0.4097</td>\n",
       "    </tr>\n",
       "  </tbody>\n",
       "</table>\n"
      ],
      "text/plain": [
       "<pandas.io.formats.style.Styler at 0x1f95e29d810>"
      ]
     },
     "metadata": {},
     "output_type": "display_data"
    },
    {
     "name": "stdout",
     "output_type": "stream",
     "text": [
      "\n",
      "New data  Collapse\n",
      "Memory Size : {'Flood': 5, 'Storms': 5, 'Collapse': 0, 'Hurricane': 5}\n",
      "\n"
     ]
    },
    {
     "name": "stderr",
     "output_type": "stream",
     "text": [
      "Collapse | 4/4 | Epoch 1: 100%|██████████| 1/1 [00:17<00:00, 17.32s/it, humanitarian=1, urgency=1, utility=1]\n"
     ]
    },
    {
     "name": "stdout",
     "output_type": "stream",
     "text": [
      "\n"
     ]
    },
    {
     "name": "stderr",
     "output_type": "stream",
     "text": [
      "Adding Collapse in memory...: 100%|██████████| 1/1 [00:00<00:00, 482.55it/s]\n"
     ]
    },
    {
     "name": "stdout",
     "output_type": "stream",
     "text": [
      "\n",
      "\n",
      "Model Testing...\n",
      "\n",
      "Scores during training on Collapse\n",
      "\n"
     ]
    },
    {
     "data": {
      "text/html": [
       "<style type=\"text/css\">\n",
       "#T_c9305_row0_col0, #T_c9305_row0_col1, #T_c9305_row0_col2, #T_c9305_row1_col0, #T_c9305_row1_col1, #T_c9305_row2_col0, #T_c9305_row2_col1, #T_c9305_row2_col2, #T_c9305_row3_col0, #T_c9305_row3_col1, #T_c9305_row4_col0, #T_c9305_row4_col1 {\n",
       "  background-color: #ffffff;\n",
       "  color: #000000;\n",
       "}\n",
       "#T_c9305_row1_col2, #T_c9305_row3_col2, #T_c9305_row4_col2 {\n",
       "  background-color: #000000;\n",
       "  color: #f1f1f1;\n",
       "}\n",
       "</style>\n",
       "<table id=\"T_c9305\">\n",
       "  <thead>\n",
       "    <tr>\n",
       "      <th class=\"blank level0\" >&nbsp;</th>\n",
       "      <th id=\"T_c9305_level0_col0\" class=\"col_heading level0 col0\" >humanitarian</th>\n",
       "      <th id=\"T_c9305_level0_col1\" class=\"col_heading level0 col1\" >urgency</th>\n",
       "      <th id=\"T_c9305_level0_col2\" class=\"col_heading level0 col2\" >utility</th>\n",
       "    </tr>\n",
       "  </thead>\n",
       "  <tbody>\n",
       "    <tr>\n",
       "      <th id=\"T_c9305_level0_row0\" class=\"row_heading level0 row0\" >Hurricane</th>\n",
       "      <td id=\"T_c9305_row0_col0\" class=\"data row0 col0\" >0.4444</td>\n",
       "      <td id=\"T_c9305_row0_col1\" class=\"data row0 col1\" >0.4444</td>\n",
       "      <td id=\"T_c9305_row0_col2\" class=\"data row0 col2\" >0.4444</td>\n",
       "    </tr>\n",
       "    <tr>\n",
       "      <th id=\"T_c9305_level0_row1\" class=\"row_heading level0 row1\" >Flood</th>\n",
       "      <td id=\"T_c9305_row1_col0\" class=\"data row1 col0\" >0.2500</td>\n",
       "      <td id=\"T_c9305_row1_col1\" class=\"data row1 col1\" >0.2500</td>\n",
       "      <td id=\"T_c9305_row1_col2\" class=\"data row1 col2\" >0.3750</td>\n",
       "    </tr>\n",
       "    <tr>\n",
       "      <th id=\"T_c9305_level0_row2\" class=\"row_heading level0 row2\" >Storms</th>\n",
       "      <td id=\"T_c9305_row2_col0\" class=\"data row2 col0\" >0.4444</td>\n",
       "      <td id=\"T_c9305_row2_col1\" class=\"data row2 col1\" >0.4444</td>\n",
       "      <td id=\"T_c9305_row2_col2\" class=\"data row2 col2\" >0.4444</td>\n",
       "    </tr>\n",
       "    <tr>\n",
       "      <th id=\"T_c9305_level0_row3\" class=\"row_heading level0 row3\" >Collapse</th>\n",
       "      <td id=\"T_c9305_row3_col0\" class=\"data row3 col0\" >0.2500</td>\n",
       "      <td id=\"T_c9305_row3_col1\" class=\"data row3 col1\" >0.2500</td>\n",
       "      <td id=\"T_c9305_row3_col2\" class=\"data row3 col2\" >0.3750</td>\n",
       "    </tr>\n",
       "    <tr>\n",
       "      <th id=\"T_c9305_level0_row4\" class=\"row_heading level0 row4\" >Average</th>\n",
       "      <td id=\"T_c9305_row4_col0\" class=\"data row4 col0\" >0.3472</td>\n",
       "      <td id=\"T_c9305_row4_col1\" class=\"data row4 col1\" >0.3472</td>\n",
       "      <td id=\"T_c9305_row4_col2\" class=\"data row4 col2\" >0.4097</td>\n",
       "    </tr>\n",
       "  </tbody>\n",
       "</table>\n"
      ],
      "text/plain": [
       "<pandas.io.formats.style.Styler at 0x1f95e29d810>"
      ]
     },
     "metadata": {},
     "output_type": "display_data"
    },
    {
     "name": "stdout",
     "output_type": "stream",
     "text": [
      "Training on split 2/3\n",
      "\n",
      "\n",
      "New data  Hurricane\n",
      "Memory Size : {'Flood': 0, 'Storms': 0, 'Collapse': 0, 'Hurricane': 0}\n",
      "\n"
     ]
    },
    {
     "name": "stderr",
     "output_type": "stream",
     "text": [
      "Hurricane | 1/4 | Epoch 1: 100%|██████████| 1/1 [00:05<00:00,  5.85s/it, humanitarian=0.111, urgency=0.25, utility=0.375]\n"
     ]
    },
    {
     "name": "stdout",
     "output_type": "stream",
     "text": [
      "\n"
     ]
    },
    {
     "name": "stderr",
     "output_type": "stream",
     "text": [
      "Adding Hurricane in memory...: 100%|██████████| 1/1 [00:00<00:00, 649.98it/s]\n"
     ]
    },
    {
     "name": "stdout",
     "output_type": "stream",
     "text": [
      "\n",
      "\n",
      "Model Testing...\n",
      "\n",
      "Scores during training on Hurricane\n",
      "\n"
     ]
    },
    {
     "data": {
      "text/html": [
       "<style type=\"text/css\">\n",
       "#T_827dd_row0_col0, #T_827dd_row0_col1, #T_827dd_row1_col2, #T_827dd_row2_col0, #T_827dd_row2_col1, #T_827dd_row3_col1, #T_827dd_row4_col1 {\n",
       "  background-color: #000000;\n",
       "  color: #f1f1f1;\n",
       "}\n",
       "#T_827dd_row0_col2, #T_827dd_row1_col0, #T_827dd_row1_col1, #T_827dd_row2_col2, #T_827dd_row3_col0, #T_827dd_row4_col2 {\n",
       "  background-color: #ffffff;\n",
       "  color: #000000;\n",
       "}\n",
       "#T_827dd_row3_col2 {\n",
       "  background-color: #f3f3f3;\n",
       "  color: #000000;\n",
       "}\n",
       "#T_827dd_row4_col0 {\n",
       "  background-color: #ababab;\n",
       "  color: #f1f1f1;\n",
       "}\n",
       "</style>\n",
       "<table id=\"T_827dd\">\n",
       "  <thead>\n",
       "    <tr>\n",
       "      <th class=\"blank level0\" >&nbsp;</th>\n",
       "      <th id=\"T_827dd_level0_col0\" class=\"col_heading level0 col0\" >humanitarian</th>\n",
       "      <th id=\"T_827dd_level0_col1\" class=\"col_heading level0 col1\" >urgency</th>\n",
       "      <th id=\"T_827dd_level0_col2\" class=\"col_heading level0 col2\" >utility</th>\n",
       "    </tr>\n",
       "  </thead>\n",
       "  <tbody>\n",
       "    <tr>\n",
       "      <th id=\"T_827dd_level0_row0\" class=\"row_heading level0 row0\" >Hurricane</th>\n",
       "      <td id=\"T_827dd_row0_col0\" class=\"data row0 col0\" >0.4444</td>\n",
       "      <td id=\"T_827dd_row0_col1\" class=\"data row0 col1\" >0.4444</td>\n",
       "      <td id=\"T_827dd_row0_col2\" class=\"data row0 col2\" >0.1667</td>\n",
       "    </tr>\n",
       "    <tr>\n",
       "      <th id=\"T_827dd_level0_row1\" class=\"row_heading level0 row1\" >Flood</th>\n",
       "      <td id=\"T_827dd_row1_col0\" class=\"data row1 col0\" >0.2500</td>\n",
       "      <td id=\"T_827dd_row1_col1\" class=\"data row1 col1\" >0.2500</td>\n",
       "      <td id=\"T_827dd_row1_col2\" class=\"data row1 col2\" >0.4000</td>\n",
       "    </tr>\n",
       "    <tr>\n",
       "      <th id=\"T_827dd_level0_row2\" class=\"row_heading level0 row2\" >Storms</th>\n",
       "      <td id=\"T_827dd_row2_col0\" class=\"data row2 col0\" >0.4444</td>\n",
       "      <td id=\"T_827dd_row2_col1\" class=\"data row2 col1\" >0.4444</td>\n",
       "      <td id=\"T_827dd_row2_col2\" class=\"data row2 col2\" >0.1667</td>\n",
       "    </tr>\n",
       "    <tr>\n",
       "      <th id=\"T_827dd_level0_row3\" class=\"row_heading level0 row3\" >Collapse</th>\n",
       "      <td id=\"T_827dd_row3_col0\" class=\"data row3 col0\" >0.2500</td>\n",
       "      <td id=\"T_827dd_row3_col1\" class=\"data row3 col1\" >1.0000</td>\n",
       "      <td id=\"T_827dd_row3_col2\" class=\"data row3 col2\" >0.2857</td>\n",
       "    </tr>\n",
       "    <tr>\n",
       "      <th id=\"T_827dd_level0_row4\" class=\"row_heading level0 row4\" >Average</th>\n",
       "      <td id=\"T_827dd_row4_col0\" class=\"data row4 col0\" >0.3472</td>\n",
       "      <td id=\"T_827dd_row4_col1\" class=\"data row4 col1\" >0.5347</td>\n",
       "      <td id=\"T_827dd_row4_col2\" class=\"data row4 col2\" >0.2548</td>\n",
       "    </tr>\n",
       "  </tbody>\n",
       "</table>\n"
      ],
      "text/plain": [
       "<pandas.io.formats.style.Styler at 0x1f95e29d6d0>"
      ]
     },
     "metadata": {},
     "output_type": "display_data"
    },
    {
     "name": "stdout",
     "output_type": "stream",
     "text": [
      "\n",
      "New data  Flood\n",
      "Memory Size : {'Flood': 0, 'Storms': 0, 'Collapse': 0, 'Hurricane': 5}\n",
      "\n"
     ]
    },
    {
     "name": "stderr",
     "output_type": "stream",
     "text": [
      "Flood | 2/4 | Epoch 1: 100%|██████████| 1/1 [00:12<00:00, 12.49s/it, humanitarian=0.15, urgency=0.25, utility=0.293]\n"
     ]
    },
    {
     "name": "stdout",
     "output_type": "stream",
     "text": [
      "\n"
     ]
    },
    {
     "name": "stderr",
     "output_type": "stream",
     "text": [
      "Adding Flood in memory...: 100%|██████████| 1/1 [00:00<00:00, 391.00it/s]\n"
     ]
    },
    {
     "name": "stdout",
     "output_type": "stream",
     "text": [
      "\n",
      "\n",
      "Model Testing...\n",
      "\n",
      "Scores during training on Flood\n",
      "\n"
     ]
    },
    {
     "data": {
      "text/html": [
       "<style type=\"text/css\">\n",
       "#T_cefa0_row0_col0, #T_cefa0_row0_col1, #T_cefa0_row1_col2, #T_cefa0_row4_col2 {\n",
       "  background-color: #000000;\n",
       "  color: #f1f1f1;\n",
       "}\n",
       "#T_cefa0_row0_col2, #T_cefa0_row1_col0, #T_cefa0_row1_col1, #T_cefa0_row2_col0, #T_cefa0_row2_col1, #T_cefa0_row2_col2, #T_cefa0_row3_col0, #T_cefa0_row3_col1, #T_cefa0_row3_col2, #T_cefa0_row4_col0, #T_cefa0_row4_col1 {\n",
       "  background-color: #ffffff;\n",
       "  color: #000000;\n",
       "}\n",
       "</style>\n",
       "<table id=\"T_cefa0\">\n",
       "  <thead>\n",
       "    <tr>\n",
       "      <th class=\"blank level0\" >&nbsp;</th>\n",
       "      <th id=\"T_cefa0_level0_col0\" class=\"col_heading level0 col0\" >humanitarian</th>\n",
       "      <th id=\"T_cefa0_level0_col1\" class=\"col_heading level0 col1\" >urgency</th>\n",
       "      <th id=\"T_cefa0_level0_col2\" class=\"col_heading level0 col2\" >utility</th>\n",
       "    </tr>\n",
       "  </thead>\n",
       "  <tbody>\n",
       "    <tr>\n",
       "      <th id=\"T_cefa0_level0_row0\" class=\"row_heading level0 row0\" >Hurricane</th>\n",
       "      <td id=\"T_cefa0_row0_col0\" class=\"data row0 col0\" >0.4444</td>\n",
       "      <td id=\"T_cefa0_row0_col1\" class=\"data row0 col1\" >0.4444</td>\n",
       "      <td id=\"T_cefa0_row0_col2\" class=\"data row0 col2\" >0.3750</td>\n",
       "    </tr>\n",
       "    <tr>\n",
       "      <th id=\"T_cefa0_level0_row1\" class=\"row_heading level0 row1\" >Flood</th>\n",
       "      <td id=\"T_cefa0_row1_col0\" class=\"data row1 col0\" >0.2500</td>\n",
       "      <td id=\"T_cefa0_row1_col1\" class=\"data row1 col1\" >0.2500</td>\n",
       "      <td id=\"T_cefa0_row1_col2\" class=\"data row1 col2\" >0.3750</td>\n",
       "    </tr>\n",
       "    <tr>\n",
       "      <th id=\"T_cefa0_level0_row2\" class=\"row_heading level0 row2\" >Storms</th>\n",
       "      <td id=\"T_cefa0_row2_col0\" class=\"data row2 col0\" >0.4444</td>\n",
       "      <td id=\"T_cefa0_row2_col1\" class=\"data row2 col1\" >0.4444</td>\n",
       "      <td id=\"T_cefa0_row2_col2\" class=\"data row2 col2\" >0.4444</td>\n",
       "    </tr>\n",
       "    <tr>\n",
       "      <th id=\"T_cefa0_level0_row3\" class=\"row_heading level0 row3\" >Collapse</th>\n",
       "      <td id=\"T_cefa0_row3_col0\" class=\"data row3 col0\" >1.0000</td>\n",
       "      <td id=\"T_cefa0_row3_col1\" class=\"data row3 col1\" >1.0000</td>\n",
       "      <td id=\"T_cefa0_row3_col2\" class=\"data row3 col2\" >1.0000</td>\n",
       "    </tr>\n",
       "    <tr>\n",
       "      <th id=\"T_cefa0_level0_row4\" class=\"row_heading level0 row4\" >Average</th>\n",
       "      <td id=\"T_cefa0_row4_col0\" class=\"data row4 col0\" >0.5347</td>\n",
       "      <td id=\"T_cefa0_row4_col1\" class=\"data row4 col1\" >0.5347</td>\n",
       "      <td id=\"T_cefa0_row4_col2\" class=\"data row4 col2\" >0.5486</td>\n",
       "    </tr>\n",
       "  </tbody>\n",
       "</table>\n"
      ],
      "text/plain": [
       "<pandas.io.formats.style.Styler at 0x1f95e29d6d0>"
      ]
     },
     "metadata": {},
     "output_type": "display_data"
    },
    {
     "name": "stdout",
     "output_type": "stream",
     "text": [
      "\n",
      "New data  Storms\n",
      "Memory Size : {'Flood': 5, 'Storms': 0, 'Collapse': 0, 'Hurricane': 5}\n",
      "\n"
     ]
    },
    {
     "name": "stderr",
     "output_type": "stream",
     "text": [
      "Storms | 3/4 | Epoch 1: 100%|██████████| 1/1 [00:36<00:00, 36.53s/it, humanitarian=0.222, urgency=0.296, utility=0.515]\n"
     ]
    },
    {
     "name": "stdout",
     "output_type": "stream",
     "text": [
      "\n"
     ]
    },
    {
     "name": "stderr",
     "output_type": "stream",
     "text": [
      "Adding Storms in memory...: 100%|██████████| 1/1 [00:00<00:00, 321.85it/s]\n"
     ]
    },
    {
     "name": "stdout",
     "output_type": "stream",
     "text": [
      "\n",
      "\n",
      "Model Testing...\n",
      "\n",
      "Scores during training on Storms\n",
      "\n"
     ]
    },
    {
     "data": {
      "text/html": [
       "<style type=\"text/css\">\n",
       "#T_13e0c_row0_col0, #T_13e0c_row0_col1, #T_13e0c_row0_col2, #T_13e0c_row1_col0, #T_13e0c_row1_col1, #T_13e0c_row2_col0, #T_13e0c_row2_col1, #T_13e0c_row2_col2, #T_13e0c_row3_col0, #T_13e0c_row3_col1, #T_13e0c_row3_col2, #T_13e0c_row4_col0, #T_13e0c_row4_col1 {\n",
       "  background-color: #ffffff;\n",
       "  color: #000000;\n",
       "}\n",
       "#T_13e0c_row1_col2, #T_13e0c_row4_col2 {\n",
       "  background-color: #000000;\n",
       "  color: #f1f1f1;\n",
       "}\n",
       "</style>\n",
       "<table id=\"T_13e0c\">\n",
       "  <thead>\n",
       "    <tr>\n",
       "      <th class=\"blank level0\" >&nbsp;</th>\n",
       "      <th id=\"T_13e0c_level0_col0\" class=\"col_heading level0 col0\" >humanitarian</th>\n",
       "      <th id=\"T_13e0c_level0_col1\" class=\"col_heading level0 col1\" >urgency</th>\n",
       "      <th id=\"T_13e0c_level0_col2\" class=\"col_heading level0 col2\" >utility</th>\n",
       "    </tr>\n",
       "  </thead>\n",
       "  <tbody>\n",
       "    <tr>\n",
       "      <th id=\"T_13e0c_level0_row0\" class=\"row_heading level0 row0\" >Hurricane</th>\n",
       "      <td id=\"T_13e0c_row0_col0\" class=\"data row0 col0\" >0.4444</td>\n",
       "      <td id=\"T_13e0c_row0_col1\" class=\"data row0 col1\" >0.4444</td>\n",
       "      <td id=\"T_13e0c_row0_col2\" class=\"data row0 col2\" >0.4444</td>\n",
       "    </tr>\n",
       "    <tr>\n",
       "      <th id=\"T_13e0c_level0_row1\" class=\"row_heading level0 row1\" >Flood</th>\n",
       "      <td id=\"T_13e0c_row1_col0\" class=\"data row1 col0\" >0.2500</td>\n",
       "      <td id=\"T_13e0c_row1_col1\" class=\"data row1 col1\" >0.2500</td>\n",
       "      <td id=\"T_13e0c_row1_col2\" class=\"data row1 col2\" >0.3750</td>\n",
       "    </tr>\n",
       "    <tr>\n",
       "      <th id=\"T_13e0c_level0_row2\" class=\"row_heading level0 row2\" >Storms</th>\n",
       "      <td id=\"T_13e0c_row2_col0\" class=\"data row2 col0\" >0.4444</td>\n",
       "      <td id=\"T_13e0c_row2_col1\" class=\"data row2 col1\" >0.4444</td>\n",
       "      <td id=\"T_13e0c_row2_col2\" class=\"data row2 col2\" >0.4444</td>\n",
       "    </tr>\n",
       "    <tr>\n",
       "      <th id=\"T_13e0c_level0_row3\" class=\"row_heading level0 row3\" >Collapse</th>\n",
       "      <td id=\"T_13e0c_row3_col0\" class=\"data row3 col0\" >1.0000</td>\n",
       "      <td id=\"T_13e0c_row3_col1\" class=\"data row3 col1\" >1.0000</td>\n",
       "      <td id=\"T_13e0c_row3_col2\" class=\"data row3 col2\" >1.0000</td>\n",
       "    </tr>\n",
       "    <tr>\n",
       "      <th id=\"T_13e0c_level0_row4\" class=\"row_heading level0 row4\" >Average</th>\n",
       "      <td id=\"T_13e0c_row4_col0\" class=\"data row4 col0\" >0.5347</td>\n",
       "      <td id=\"T_13e0c_row4_col1\" class=\"data row4 col1\" >0.5347</td>\n",
       "      <td id=\"T_13e0c_row4_col2\" class=\"data row4 col2\" >0.5660</td>\n",
       "    </tr>\n",
       "  </tbody>\n",
       "</table>\n"
      ],
      "text/plain": [
       "<pandas.io.formats.style.Styler at 0x1f95e29d6d0>"
      ]
     },
     "metadata": {},
     "output_type": "display_data"
    },
    {
     "name": "stdout",
     "output_type": "stream",
     "text": [
      "\n",
      "New data  Collapse\n",
      "Memory Size : {'Flood': 5, 'Storms': 5, 'Collapse': 0, 'Hurricane': 5}\n",
      "\n"
     ]
    },
    {
     "name": "stderr",
     "output_type": "stream",
     "text": [
      "Collapse | 4/4 | Epoch 1: 100%|██████████| 1/1 [00:16<00:00, 16.50s/it, humanitarian=0.25, urgency=0.25, utility=0.375]\n"
     ]
    },
    {
     "name": "stdout",
     "output_type": "stream",
     "text": [
      "\n"
     ]
    },
    {
     "name": "stderr",
     "output_type": "stream",
     "text": [
      "Adding Collapse in memory...: 100%|██████████| 1/1 [00:00<00:00, 545.57it/s]\n"
     ]
    },
    {
     "name": "stdout",
     "output_type": "stream",
     "text": [
      "\n",
      "\n",
      "Model Testing...\n",
      "\n",
      "Scores during training on Collapse\n",
      "\n"
     ]
    },
    {
     "data": {
      "text/html": [
       "<style type=\"text/css\">\n",
       "#T_0a8f8_row0_col0, #T_0a8f8_row0_col1, #T_0a8f8_row0_col2, #T_0a8f8_row1_col0, #T_0a8f8_row1_col1, #T_0a8f8_row2_col0, #T_0a8f8_row2_col1, #T_0a8f8_row2_col2, #T_0a8f8_row3_col0, #T_0a8f8_row3_col1, #T_0a8f8_row3_col2, #T_0a8f8_row4_col0, #T_0a8f8_row4_col1 {\n",
       "  background-color: #ffffff;\n",
       "  color: #000000;\n",
       "}\n",
       "#T_0a8f8_row1_col2, #T_0a8f8_row4_col2 {\n",
       "  background-color: #000000;\n",
       "  color: #f1f1f1;\n",
       "}\n",
       "</style>\n",
       "<table id=\"T_0a8f8\">\n",
       "  <thead>\n",
       "    <tr>\n",
       "      <th class=\"blank level0\" >&nbsp;</th>\n",
       "      <th id=\"T_0a8f8_level0_col0\" class=\"col_heading level0 col0\" >humanitarian</th>\n",
       "      <th id=\"T_0a8f8_level0_col1\" class=\"col_heading level0 col1\" >urgency</th>\n",
       "      <th id=\"T_0a8f8_level0_col2\" class=\"col_heading level0 col2\" >utility</th>\n",
       "    </tr>\n",
       "  </thead>\n",
       "  <tbody>\n",
       "    <tr>\n",
       "      <th id=\"T_0a8f8_level0_row0\" class=\"row_heading level0 row0\" >Hurricane</th>\n",
       "      <td id=\"T_0a8f8_row0_col0\" class=\"data row0 col0\" >0.4444</td>\n",
       "      <td id=\"T_0a8f8_row0_col1\" class=\"data row0 col1\" >0.4444</td>\n",
       "      <td id=\"T_0a8f8_row0_col2\" class=\"data row0 col2\" >0.4444</td>\n",
       "    </tr>\n",
       "    <tr>\n",
       "      <th id=\"T_0a8f8_level0_row1\" class=\"row_heading level0 row1\" >Flood</th>\n",
       "      <td id=\"T_0a8f8_row1_col0\" class=\"data row1 col0\" >0.2500</td>\n",
       "      <td id=\"T_0a8f8_row1_col1\" class=\"data row1 col1\" >0.2500</td>\n",
       "      <td id=\"T_0a8f8_row1_col2\" class=\"data row1 col2\" >0.3750</td>\n",
       "    </tr>\n",
       "    <tr>\n",
       "      <th id=\"T_0a8f8_level0_row2\" class=\"row_heading level0 row2\" >Storms</th>\n",
       "      <td id=\"T_0a8f8_row2_col0\" class=\"data row2 col0\" >0.4444</td>\n",
       "      <td id=\"T_0a8f8_row2_col1\" class=\"data row2 col1\" >0.4444</td>\n",
       "      <td id=\"T_0a8f8_row2_col2\" class=\"data row2 col2\" >0.4444</td>\n",
       "    </tr>\n",
       "    <tr>\n",
       "      <th id=\"T_0a8f8_level0_row3\" class=\"row_heading level0 row3\" >Collapse</th>\n",
       "      <td id=\"T_0a8f8_row3_col0\" class=\"data row3 col0\" >1.0000</td>\n",
       "      <td id=\"T_0a8f8_row3_col1\" class=\"data row3 col1\" >1.0000</td>\n",
       "      <td id=\"T_0a8f8_row3_col2\" class=\"data row3 col2\" >1.0000</td>\n",
       "    </tr>\n",
       "    <tr>\n",
       "      <th id=\"T_0a8f8_level0_row4\" class=\"row_heading level0 row4\" >Average</th>\n",
       "      <td id=\"T_0a8f8_row4_col0\" class=\"data row4 col0\" >0.5347</td>\n",
       "      <td id=\"T_0a8f8_row4_col1\" class=\"data row4 col1\" >0.5347</td>\n",
       "      <td id=\"T_0a8f8_row4_col2\" class=\"data row4 col2\" >0.5660</td>\n",
       "    </tr>\n",
       "  </tbody>\n",
       "</table>\n"
      ],
      "text/plain": [
       "<pandas.io.formats.style.Styler at 0x1f95e29d6d0>"
      ]
     },
     "metadata": {},
     "output_type": "display_data"
    },
    {
     "name": "stdout",
     "output_type": "stream",
     "text": [
      "Training on split 3/3\n",
      "\n",
      "\n",
      "New data  Hurricane\n",
      "Memory Size : {'Flood': 0, 'Storms': 0, 'Collapse': 0, 'Hurricane': 0}\n",
      "\n"
     ]
    },
    {
     "name": "stderr",
     "output_type": "stream",
     "text": [
      "Hurricane | 1/4 | Epoch 1: 100%|██████████| 1/1 [00:07<00:00,  7.38s/it, humanitarian=0.19, urgency=0.133, utility=0.375]\n"
     ]
    },
    {
     "name": "stdout",
     "output_type": "stream",
     "text": [
      "\n"
     ]
    },
    {
     "name": "stderr",
     "output_type": "stream",
     "text": [
      "Adding Hurricane in memory...: 100%|██████████| 1/1 [00:00<00:00, 715.02it/s]\n"
     ]
    },
    {
     "name": "stdout",
     "output_type": "stream",
     "text": [
      "\n",
      "\n",
      "Model Testing...\n",
      "\n",
      "Scores during training on Hurricane\n",
      "\n"
     ]
    },
    {
     "data": {
      "text/html": [
       "<style type=\"text/css\">\n",
       "#T_e8605_row0_col0, #T_e8605_row0_col1, #T_e8605_row1_col0, #T_e8605_row1_col1, #T_e8605_row2_col0, #T_e8605_row2_col1, #T_e8605_row2_col2, #T_e8605_row3_col0, #T_e8605_row3_col1, #T_e8605_row4_col0, #T_e8605_row4_col1 {\n",
       "  background-color: #ffffff;\n",
       "  color: #000000;\n",
       "}\n",
       "#T_e8605_row0_col2, #T_e8605_row1_col2, #T_e8605_row3_col2, #T_e8605_row4_col2 {\n",
       "  background-color: #000000;\n",
       "  color: #f1f1f1;\n",
       "}\n",
       "</style>\n",
       "<table id=\"T_e8605\">\n",
       "  <thead>\n",
       "    <tr>\n",
       "      <th class=\"blank level0\" >&nbsp;</th>\n",
       "      <th id=\"T_e8605_level0_col0\" class=\"col_heading level0 col0\" >humanitarian</th>\n",
       "      <th id=\"T_e8605_level0_col1\" class=\"col_heading level0 col1\" >urgency</th>\n",
       "      <th id=\"T_e8605_level0_col2\" class=\"col_heading level0 col2\" >utility</th>\n",
       "    </tr>\n",
       "  </thead>\n",
       "  <tbody>\n",
       "    <tr>\n",
       "      <th id=\"T_e8605_level0_row0\" class=\"row_heading level0 row0\" >Hurricane</th>\n",
       "      <td id=\"T_e8605_row0_col0\" class=\"data row0 col0\" >0.2500</td>\n",
       "      <td id=\"T_e8605_row0_col1\" class=\"data row0 col1\" >0.2500</td>\n",
       "      <td id=\"T_e8605_row0_col2\" class=\"data row0 col2\" >0.3750</td>\n",
       "    </tr>\n",
       "    <tr>\n",
       "      <th id=\"T_e8605_level0_row1\" class=\"row_heading level0 row1\" >Flood</th>\n",
       "      <td id=\"T_e8605_row1_col0\" class=\"data row1 col0\" >0.2500</td>\n",
       "      <td id=\"T_e8605_row1_col1\" class=\"data row1 col1\" >0.2500</td>\n",
       "      <td id=\"T_e8605_row1_col2\" class=\"data row1 col2\" >0.3750</td>\n",
       "    </tr>\n",
       "    <tr>\n",
       "      <th id=\"T_e8605_level0_row2\" class=\"row_heading level0 row2\" >Storms</th>\n",
       "      <td id=\"T_e8605_row2_col0\" class=\"data row2 col0\" >0.4444</td>\n",
       "      <td id=\"T_e8605_row2_col1\" class=\"data row2 col1\" >0.4444</td>\n",
       "      <td id=\"T_e8605_row2_col2\" class=\"data row2 col2\" >0.4444</td>\n",
       "    </tr>\n",
       "    <tr>\n",
       "      <th id=\"T_e8605_level0_row3\" class=\"row_heading level0 row3\" >Collapse</th>\n",
       "      <td id=\"T_e8605_row3_col0\" class=\"data row3 col0\" >0.2500</td>\n",
       "      <td id=\"T_e8605_row3_col1\" class=\"data row3 col1\" >0.2500</td>\n",
       "      <td id=\"T_e8605_row3_col2\" class=\"data row3 col2\" >0.3750</td>\n",
       "    </tr>\n",
       "    <tr>\n",
       "      <th id=\"T_e8605_level0_row4\" class=\"row_heading level0 row4\" >Average</th>\n",
       "      <td id=\"T_e8605_row4_col0\" class=\"data row4 col0\" >0.2986</td>\n",
       "      <td id=\"T_e8605_row4_col1\" class=\"data row4 col1\" >0.2986</td>\n",
       "      <td id=\"T_e8605_row4_col2\" class=\"data row4 col2\" >0.3924</td>\n",
       "    </tr>\n",
       "  </tbody>\n",
       "</table>\n"
      ],
      "text/plain": [
       "<pandas.io.formats.style.Styler at 0x1f95e29d810>"
      ]
     },
     "metadata": {},
     "output_type": "display_data"
    },
    {
     "name": "stdout",
     "output_type": "stream",
     "text": [
      "\n",
      "New data  Flood\n",
      "Memory Size : {'Flood': 0, 'Storms': 0, 'Collapse': 0, 'Hurricane': 5}\n",
      "\n"
     ]
    },
    {
     "name": "stderr",
     "output_type": "stream",
     "text": [
      "Flood | 2/4 | Epoch 1: 100%|██████████| 1/1 [00:11<00:00, 11.49s/it, humanitarian=0.15, urgency=0.25, utility=0.6]\n"
     ]
    },
    {
     "name": "stdout",
     "output_type": "stream",
     "text": [
      "\n"
     ]
    },
    {
     "name": "stderr",
     "output_type": "stream",
     "text": [
      "Adding Flood in memory...: 100%|██████████| 1/1 [00:00<00:00, 635.79it/s]\n"
     ]
    },
    {
     "name": "stdout",
     "output_type": "stream",
     "text": [
      "\n",
      "\n",
      "Model Testing...\n",
      "\n",
      "Scores during training on Flood\n",
      "\n"
     ]
    },
    {
     "data": {
      "text/html": [
       "<style type=\"text/css\">\n",
       "#T_1f17d_row0_col0, #T_1f17d_row0_col1, #T_1f17d_row1_col0, #T_1f17d_row1_col1, #T_1f17d_row2_col0, #T_1f17d_row2_col1, #T_1f17d_row2_col2, #T_1f17d_row3_col0, #T_1f17d_row3_col1, #T_1f17d_row4_col0, #T_1f17d_row4_col1 {\n",
       "  background-color: #ffffff;\n",
       "  color: #000000;\n",
       "}\n",
       "#T_1f17d_row0_col2, #T_1f17d_row1_col2, #T_1f17d_row3_col2, #T_1f17d_row4_col2 {\n",
       "  background-color: #000000;\n",
       "  color: #f1f1f1;\n",
       "}\n",
       "</style>\n",
       "<table id=\"T_1f17d\">\n",
       "  <thead>\n",
       "    <tr>\n",
       "      <th class=\"blank level0\" >&nbsp;</th>\n",
       "      <th id=\"T_1f17d_level0_col0\" class=\"col_heading level0 col0\" >humanitarian</th>\n",
       "      <th id=\"T_1f17d_level0_col1\" class=\"col_heading level0 col1\" >urgency</th>\n",
       "      <th id=\"T_1f17d_level0_col2\" class=\"col_heading level0 col2\" >utility</th>\n",
       "    </tr>\n",
       "  </thead>\n",
       "  <tbody>\n",
       "    <tr>\n",
       "      <th id=\"T_1f17d_level0_row0\" class=\"row_heading level0 row0\" >Hurricane</th>\n",
       "      <td id=\"T_1f17d_row0_col0\" class=\"data row0 col0\" >0.2500</td>\n",
       "      <td id=\"T_1f17d_row0_col1\" class=\"data row0 col1\" >0.2500</td>\n",
       "      <td id=\"T_1f17d_row0_col2\" class=\"data row0 col2\" >0.3750</td>\n",
       "    </tr>\n",
       "    <tr>\n",
       "      <th id=\"T_1f17d_level0_row1\" class=\"row_heading level0 row1\" >Flood</th>\n",
       "      <td id=\"T_1f17d_row1_col0\" class=\"data row1 col0\" >0.2500</td>\n",
       "      <td id=\"T_1f17d_row1_col1\" class=\"data row1 col1\" >0.2500</td>\n",
       "      <td id=\"T_1f17d_row1_col2\" class=\"data row1 col2\" >0.3750</td>\n",
       "    </tr>\n",
       "    <tr>\n",
       "      <th id=\"T_1f17d_level0_row2\" class=\"row_heading level0 row2\" >Storms</th>\n",
       "      <td id=\"T_1f17d_row2_col0\" class=\"data row2 col0\" >0.4444</td>\n",
       "      <td id=\"T_1f17d_row2_col1\" class=\"data row2 col1\" >0.4444</td>\n",
       "      <td id=\"T_1f17d_row2_col2\" class=\"data row2 col2\" >0.4444</td>\n",
       "    </tr>\n",
       "    <tr>\n",
       "      <th id=\"T_1f17d_level0_row3\" class=\"row_heading level0 row3\" >Collapse</th>\n",
       "      <td id=\"T_1f17d_row3_col0\" class=\"data row3 col0\" >0.2500</td>\n",
       "      <td id=\"T_1f17d_row3_col1\" class=\"data row3 col1\" >0.2500</td>\n",
       "      <td id=\"T_1f17d_row3_col2\" class=\"data row3 col2\" >0.3750</td>\n",
       "    </tr>\n",
       "    <tr>\n",
       "      <th id=\"T_1f17d_level0_row4\" class=\"row_heading level0 row4\" >Average</th>\n",
       "      <td id=\"T_1f17d_row4_col0\" class=\"data row4 col0\" >0.2986</td>\n",
       "      <td id=\"T_1f17d_row4_col1\" class=\"data row4 col1\" >0.2986</td>\n",
       "      <td id=\"T_1f17d_row4_col2\" class=\"data row4 col2\" >0.3924</td>\n",
       "    </tr>\n",
       "  </tbody>\n",
       "</table>\n"
      ],
      "text/plain": [
       "<pandas.io.formats.style.Styler at 0x1f95e29d810>"
      ]
     },
     "metadata": {},
     "output_type": "display_data"
    },
    {
     "name": "stdout",
     "output_type": "stream",
     "text": [
      "\n",
      "New data  Storms\n",
      "Memory Size : {'Flood': 5, 'Storms': 0, 'Collapse': 0, 'Hurricane': 5}\n",
      "\n"
     ]
    },
    {
     "name": "stderr",
     "output_type": "stream",
     "text": [
      "Storms | 3/4 | Epoch 1: 100%|██████████| 1/1 [00:34<00:00, 34.06s/it, humanitarian=0.222, urgency=0.296, utility=0.444]\n"
     ]
    },
    {
     "name": "stdout",
     "output_type": "stream",
     "text": [
      "\n"
     ]
    },
    {
     "name": "stderr",
     "output_type": "stream",
     "text": [
      "Adding Storms in memory...: 100%|██████████| 1/1 [00:00<00:00, 706.47it/s]\n"
     ]
    },
    {
     "name": "stdout",
     "output_type": "stream",
     "text": [
      "\n",
      "\n",
      "Model Testing...\n",
      "\n",
      "Scores during training on Storms\n",
      "\n"
     ]
    },
    {
     "data": {
      "text/html": [
       "<style type=\"text/css\">\n",
       "#T_67ee5_row0_col0, #T_67ee5_row0_col1, #T_67ee5_row1_col0, #T_67ee5_row1_col1, #T_67ee5_row2_col0, #T_67ee5_row2_col1, #T_67ee5_row2_col2, #T_67ee5_row3_col0, #T_67ee5_row3_col1, #T_67ee5_row4_col0, #T_67ee5_row4_col1 {\n",
       "  background-color: #ffffff;\n",
       "  color: #000000;\n",
       "}\n",
       "#T_67ee5_row0_col2, #T_67ee5_row1_col2, #T_67ee5_row3_col2, #T_67ee5_row4_col2 {\n",
       "  background-color: #000000;\n",
       "  color: #f1f1f1;\n",
       "}\n",
       "</style>\n",
       "<table id=\"T_67ee5\">\n",
       "  <thead>\n",
       "    <tr>\n",
       "      <th class=\"blank level0\" >&nbsp;</th>\n",
       "      <th id=\"T_67ee5_level0_col0\" class=\"col_heading level0 col0\" >humanitarian</th>\n",
       "      <th id=\"T_67ee5_level0_col1\" class=\"col_heading level0 col1\" >urgency</th>\n",
       "      <th id=\"T_67ee5_level0_col2\" class=\"col_heading level0 col2\" >utility</th>\n",
       "    </tr>\n",
       "  </thead>\n",
       "  <tbody>\n",
       "    <tr>\n",
       "      <th id=\"T_67ee5_level0_row0\" class=\"row_heading level0 row0\" >Hurricane</th>\n",
       "      <td id=\"T_67ee5_row0_col0\" class=\"data row0 col0\" >0.2500</td>\n",
       "      <td id=\"T_67ee5_row0_col1\" class=\"data row0 col1\" >0.2500</td>\n",
       "      <td id=\"T_67ee5_row0_col2\" class=\"data row0 col2\" >0.3750</td>\n",
       "    </tr>\n",
       "    <tr>\n",
       "      <th id=\"T_67ee5_level0_row1\" class=\"row_heading level0 row1\" >Flood</th>\n",
       "      <td id=\"T_67ee5_row1_col0\" class=\"data row1 col0\" >0.2500</td>\n",
       "      <td id=\"T_67ee5_row1_col1\" class=\"data row1 col1\" >0.2500</td>\n",
       "      <td id=\"T_67ee5_row1_col2\" class=\"data row1 col2\" >0.3750</td>\n",
       "    </tr>\n",
       "    <tr>\n",
       "      <th id=\"T_67ee5_level0_row2\" class=\"row_heading level0 row2\" >Storms</th>\n",
       "      <td id=\"T_67ee5_row2_col0\" class=\"data row2 col0\" >0.4444</td>\n",
       "      <td id=\"T_67ee5_row2_col1\" class=\"data row2 col1\" >0.4444</td>\n",
       "      <td id=\"T_67ee5_row2_col2\" class=\"data row2 col2\" >0.4444</td>\n",
       "    </tr>\n",
       "    <tr>\n",
       "      <th id=\"T_67ee5_level0_row3\" class=\"row_heading level0 row3\" >Collapse</th>\n",
       "      <td id=\"T_67ee5_row3_col0\" class=\"data row3 col0\" >0.2500</td>\n",
       "      <td id=\"T_67ee5_row3_col1\" class=\"data row3 col1\" >0.2500</td>\n",
       "      <td id=\"T_67ee5_row3_col2\" class=\"data row3 col2\" >0.3750</td>\n",
       "    </tr>\n",
       "    <tr>\n",
       "      <th id=\"T_67ee5_level0_row4\" class=\"row_heading level0 row4\" >Average</th>\n",
       "      <td id=\"T_67ee5_row4_col0\" class=\"data row4 col0\" >0.2986</td>\n",
       "      <td id=\"T_67ee5_row4_col1\" class=\"data row4 col1\" >0.2986</td>\n",
       "      <td id=\"T_67ee5_row4_col2\" class=\"data row4 col2\" >0.3924</td>\n",
       "    </tr>\n",
       "  </tbody>\n",
       "</table>\n"
      ],
      "text/plain": [
       "<pandas.io.formats.style.Styler at 0x1f95e29d810>"
      ]
     },
     "metadata": {},
     "output_type": "display_data"
    },
    {
     "name": "stdout",
     "output_type": "stream",
     "text": [
      "\n",
      "New data  Collapse\n",
      "Memory Size : {'Flood': 5, 'Storms': 5, 'Collapse': 0, 'Hurricane': 5}\n",
      "\n"
     ]
    },
    {
     "name": "stderr",
     "output_type": "stream",
     "text": [
      "Collapse | 4/4 | Epoch 1: 100%|██████████| 1/1 [00:13<00:00, 13.58s/it, humanitarian=1, urgency=1, utility=1]\n"
     ]
    },
    {
     "name": "stdout",
     "output_type": "stream",
     "text": [
      "\n"
     ]
    },
    {
     "name": "stderr",
     "output_type": "stream",
     "text": [
      "Adding Collapse in memory...: 100%|██████████| 1/1 [00:00<00:00, 721.41it/s]\n"
     ]
    },
    {
     "name": "stdout",
     "output_type": "stream",
     "text": [
      "\n",
      "\n",
      "Model Testing...\n",
      "\n",
      "Scores during training on Collapse\n",
      "\n"
     ]
    },
    {
     "data": {
      "text/html": [
       "<style type=\"text/css\">\n",
       "#T_bb151_row0_col0, #T_bb151_row0_col1, #T_bb151_row1_col0, #T_bb151_row1_col1, #T_bb151_row2_col0, #T_bb151_row2_col1, #T_bb151_row2_col2, #T_bb151_row3_col0, #T_bb151_row3_col1, #T_bb151_row4_col0, #T_bb151_row4_col1 {\n",
       "  background-color: #ffffff;\n",
       "  color: #000000;\n",
       "}\n",
       "#T_bb151_row0_col2, #T_bb151_row1_col2, #T_bb151_row3_col2, #T_bb151_row4_col2 {\n",
       "  background-color: #000000;\n",
       "  color: #f1f1f1;\n",
       "}\n",
       "</style>\n",
       "<table id=\"T_bb151\">\n",
       "  <thead>\n",
       "    <tr>\n",
       "      <th class=\"blank level0\" >&nbsp;</th>\n",
       "      <th id=\"T_bb151_level0_col0\" class=\"col_heading level0 col0\" >humanitarian</th>\n",
       "      <th id=\"T_bb151_level0_col1\" class=\"col_heading level0 col1\" >urgency</th>\n",
       "      <th id=\"T_bb151_level0_col2\" class=\"col_heading level0 col2\" >utility</th>\n",
       "    </tr>\n",
       "  </thead>\n",
       "  <tbody>\n",
       "    <tr>\n",
       "      <th id=\"T_bb151_level0_row0\" class=\"row_heading level0 row0\" >Hurricane</th>\n",
       "      <td id=\"T_bb151_row0_col0\" class=\"data row0 col0\" >0.2500</td>\n",
       "      <td id=\"T_bb151_row0_col1\" class=\"data row0 col1\" >0.2500</td>\n",
       "      <td id=\"T_bb151_row0_col2\" class=\"data row0 col2\" >0.3750</td>\n",
       "    </tr>\n",
       "    <tr>\n",
       "      <th id=\"T_bb151_level0_row1\" class=\"row_heading level0 row1\" >Flood</th>\n",
       "      <td id=\"T_bb151_row1_col0\" class=\"data row1 col0\" >0.2500</td>\n",
       "      <td id=\"T_bb151_row1_col1\" class=\"data row1 col1\" >0.2500</td>\n",
       "      <td id=\"T_bb151_row1_col2\" class=\"data row1 col2\" >0.3750</td>\n",
       "    </tr>\n",
       "    <tr>\n",
       "      <th id=\"T_bb151_level0_row2\" class=\"row_heading level0 row2\" >Storms</th>\n",
       "      <td id=\"T_bb151_row2_col0\" class=\"data row2 col0\" >0.4444</td>\n",
       "      <td id=\"T_bb151_row2_col1\" class=\"data row2 col1\" >0.4444</td>\n",
       "      <td id=\"T_bb151_row2_col2\" class=\"data row2 col2\" >0.4444</td>\n",
       "    </tr>\n",
       "    <tr>\n",
       "      <th id=\"T_bb151_level0_row3\" class=\"row_heading level0 row3\" >Collapse</th>\n",
       "      <td id=\"T_bb151_row3_col0\" class=\"data row3 col0\" >0.2500</td>\n",
       "      <td id=\"T_bb151_row3_col1\" class=\"data row3 col1\" >0.2500</td>\n",
       "      <td id=\"T_bb151_row3_col2\" class=\"data row3 col2\" >0.3750</td>\n",
       "    </tr>\n",
       "    <tr>\n",
       "      <th id=\"T_bb151_level0_row4\" class=\"row_heading level0 row4\" >Average</th>\n",
       "      <td id=\"T_bb151_row4_col0\" class=\"data row4 col0\" >0.2986</td>\n",
       "      <td id=\"T_bb151_row4_col1\" class=\"data row4 col1\" >0.2986</td>\n",
       "      <td id=\"T_bb151_row4_col2\" class=\"data row4 col2\" >0.3924</td>\n",
       "    </tr>\n",
       "  </tbody>\n",
       "</table>\n"
      ],
      "text/plain": [
       "<pandas.io.formats.style.Styler at 0x1f95e29d810>"
      ]
     },
     "metadata": {},
     "output_type": "display_data"
    },
    {
     "name": "stdout",
     "output_type": "stream",
     "text": [
      "Score for order Hurricane, Flood, Storms, Collapse\n",
      "\n"
     ]
    },
    {
     "name": "stderr",
     "output_type": "stream",
     "text": [
      "p:\\Programmes\\Python\\Python313\\Lib\\site-packages\\pandas\\io\\formats\\style.py:3807: RuntimeWarning: All-NaN slice encountered\n",
      "  smin = np.nanmin(gmap) if vmin is None else vmin\n",
      "p:\\Programmes\\Python\\Python313\\Lib\\site-packages\\pandas\\io\\formats\\style.py:3808: RuntimeWarning: All-NaN slice encountered\n",
      "  smax = np.nanmax(gmap) if vmax is None else vmax\n"
     ]
    },
    {
     "data": {
      "text/html": [
       "<style type=\"text/css\">\n",
       "#T_69af9_row0_col0, #T_69af9_row1_col2, #T_69af9_row2_col2, #T_69af9_row3_col2, #T_69af9_row4_col0, #T_69af9_row4_col1, #T_69af9_row4_col2, #T_69af9_row6_col0, #T_69af9_row6_col1, #T_69af9_row7_col0, #T_69af9_row7_col1, #T_69af9_row7_col2, #T_69af9_row8_col0, #T_69af9_row8_col1, #T_69af9_row9_col0, #T_69af9_row9_col1, #T_69af9_row9_col2 {\n",
       "  background-color: #ffffff;\n",
       "  color: #000000;\n",
       "}\n",
       "#T_69af9_row0_col1 {\n",
       "  background-color: #949494;\n",
       "  color: #f1f1f1;\n",
       "}\n",
       "#T_69af9_row0_col2, #T_69af9_row1_col1, #T_69af9_row2_col1, #T_69af9_row3_col0, #T_69af9_row3_col1, #T_69af9_row5_col0, #T_69af9_row5_col1, #T_69af9_row5_col2, #T_69af9_row6_col2, #T_69af9_row8_col2, #T_69af9_row10_col0, #T_69af9_row10_col1, #T_69af9_row10_col2 {\n",
       "  background-color: #000000;\n",
       "  color: #f1f1f1;\n",
       "}\n",
       "#T_69af9_row1_col0 {\n",
       "  background-color: #727272;\n",
       "  color: #f1f1f1;\n",
       "}\n",
       "#T_69af9_row2_col0 {\n",
       "  background-color: #8f8f8f;\n",
       "  color: #f1f1f1;\n",
       "}\n",
       "</style>\n",
       "<table id=\"T_69af9\">\n",
       "  <thead>\n",
       "    <tr>\n",
       "      <th class=\"blank level0\" >&nbsp;</th>\n",
       "      <th id=\"T_69af9_level0_col0\" class=\"col_heading level0 col0\" >humanitarian</th>\n",
       "      <th id=\"T_69af9_level0_col1\" class=\"col_heading level0 col1\" >urgency</th>\n",
       "      <th id=\"T_69af9_level0_col2\" class=\"col_heading level0 col2\" >utility</th>\n",
       "    </tr>\n",
       "  </thead>\n",
       "  <tbody>\n",
       "    <tr>\n",
       "      <th id=\"T_69af9_level0_row0\" class=\"row_heading level0 row0\" >AIA</th>\n",
       "      <td id=\"T_69af9_row0_col0\" class=\"data row0 col0\" >0.3453</td>\n",
       "      <td id=\"T_69af9_row0_col1\" class=\"data row0 col1\" >0.3615</td>\n",
       "      <td id=\"T_69af9_row0_col2\" class=\"data row0 col2\" >0.3838</td>\n",
       "    </tr>\n",
       "    <tr>\n",
       "      <th id=\"T_69af9_level0_row1\" class=\"row_heading level0 row1\" >BWT</th>\n",
       "      <td id=\"T_69af9_row1_col0\" class=\"data row1 col0\" >-0.0216</td>\n",
       "      <td id=\"T_69af9_row1_col1\" class=\"data row1 col1\" >0.0000</td>\n",
       "      <td id=\"T_69af9_row1_col2\" class=\"data row1 col2\" >-0.0485</td>\n",
       "    </tr>\n",
       "    <tr>\n",
       "      <th id=\"T_69af9_level0_row2\" class=\"row_heading level0 row2\" >BWT_Hurricane</th>\n",
       "      <td id=\"T_69af9_row2_col0\" class=\"data row2 col0\" >-0.0648</td>\n",
       "      <td id=\"T_69af9_row2_col1\" class=\"data row2 col1\" >0.0000</td>\n",
       "      <td id=\"T_69af9_row2_col2\" class=\"data row2 col2\" >-0.1157</td>\n",
       "    </tr>\n",
       "    <tr>\n",
       "      <th id=\"T_69af9_level0_row3\" class=\"row_heading level0 row3\" >BWT_Flood</th>\n",
       "      <td id=\"T_69af9_row3_col0\" class=\"data row3 col0\" >0.0000</td>\n",
       "      <td id=\"T_69af9_row3_col1\" class=\"data row3 col1\" >0.0000</td>\n",
       "      <td id=\"T_69af9_row3_col2\" class=\"data row3 col2\" >-0.0298</td>\n",
       "    </tr>\n",
       "    <tr>\n",
       "      <th id=\"T_69af9_level0_row4\" class=\"row_heading level0 row4\" >BWT_Storms</th>\n",
       "      <td id=\"T_69af9_row4_col0\" class=\"data row4 col0\" >0.0000</td>\n",
       "      <td id=\"T_69af9_row4_col1\" class=\"data row4 col1\" >0.0000</td>\n",
       "      <td id=\"T_69af9_row4_col2\" class=\"data row4 col2\" >0.0000</td>\n",
       "    </tr>\n",
       "    <tr>\n",
       "      <th id=\"T_69af9_level0_row5\" class=\"row_heading level0 row5\" >BWT_Collapse</th>\n",
       "      <td id=\"T_69af9_row5_col0\" class=\"data row5 col0\" >nan</td>\n",
       "      <td id=\"T_69af9_row5_col1\" class=\"data row5 col1\" >nan</td>\n",
       "      <td id=\"T_69af9_row5_col2\" class=\"data row5 col2\" >nan</td>\n",
       "    </tr>\n",
       "    <tr>\n",
       "      <th id=\"T_69af9_level0_row6\" class=\"row_heading level0 row6\" >FM</th>\n",
       "      <td id=\"T_69af9_row6_col0\" class=\"data row6 col0\" >0.0000</td>\n",
       "      <td id=\"T_69af9_row6_col1\" class=\"data row6 col1\" >0.0000</td>\n",
       "      <td id=\"T_69af9_row6_col2\" class=\"data row6 col2\" >0.0028</td>\n",
       "    </tr>\n",
       "    <tr>\n",
       "      <th id=\"T_69af9_level0_row7\" class=\"row_heading level0 row7\" >FM_Hurricane</th>\n",
       "      <td id=\"T_69af9_row7_col0\" class=\"data row7 col0\" >0.0000</td>\n",
       "      <td id=\"T_69af9_row7_col1\" class=\"data row7 col1\" >0.0000</td>\n",
       "      <td id=\"T_69af9_row7_col2\" class=\"data row7 col2\" >0.0000</td>\n",
       "    </tr>\n",
       "    <tr>\n",
       "      <th id=\"T_69af9_level0_row8\" class=\"row_heading level0 row8\" >FM_Flood</th>\n",
       "      <td id=\"T_69af9_row8_col0\" class=\"data row8 col0\" >0.0000</td>\n",
       "      <td id=\"T_69af9_row8_col1\" class=\"data row8 col1\" >0.0000</td>\n",
       "      <td id=\"T_69af9_row8_col2\" class=\"data row8 col2\" >0.0083</td>\n",
       "    </tr>\n",
       "    <tr>\n",
       "      <th id=\"T_69af9_level0_row9\" class=\"row_heading level0 row9\" >FM_Storms</th>\n",
       "      <td id=\"T_69af9_row9_col0\" class=\"data row9 col0\" >0.0000</td>\n",
       "      <td id=\"T_69af9_row9_col1\" class=\"data row9 col1\" >0.0000</td>\n",
       "      <td id=\"T_69af9_row9_col2\" class=\"data row9 col2\" >0.0000</td>\n",
       "    </tr>\n",
       "    <tr>\n",
       "      <th id=\"T_69af9_level0_row10\" class=\"row_heading level0 row10\" >FM_Collapse</th>\n",
       "      <td id=\"T_69af9_row10_col0\" class=\"data row10 col0\" >nan</td>\n",
       "      <td id=\"T_69af9_row10_col1\" class=\"data row10 col1\" >nan</td>\n",
       "      <td id=\"T_69af9_row10_col2\" class=\"data row10 col2\" >nan</td>\n",
       "    </tr>\n",
       "  </tbody>\n",
       "</table>\n"
      ],
      "text/plain": [
       "<pandas.io.formats.style.Styler at 0x1f95e29d1d0>"
      ]
     },
     "metadata": {},
     "output_type": "display_data"
    },
    {
     "name": "stdout",
     "output_type": "stream",
     "text": [
      "\n",
      "\n",
      "------------------------------------------------------\n",
      "\n",
      "Final Scores\n",
      "\n"
     ]
    },
    {
     "data": {
      "text/html": [
       "<style type=\"text/css\">\n",
       "#T_270c5_row0_col0, #T_270c5_row1_col2, #T_270c5_row2_col2, #T_270c5_row3_col0, #T_270c5_row3_col1, #T_270c5_row3_col2, #T_270c5_row4_col0, #T_270c5_row4_col1, #T_270c5_row4_col2, #T_270c5_row5_col2, #T_270c5_row6_col0, #T_270c5_row6_col1, #T_270c5_row7_col0, #T_270c5_row7_col1, #T_270c5_row8_col0, #T_270c5_row8_col1, #T_270c5_row8_col2, #T_270c5_row9_col0, #T_270c5_row9_col1, #T_270c5_row9_col2, #T_270c5_row10_col0, #T_270c5_row10_col1, #T_270c5_row10_col2 {\n",
       "  background-color: #ffffff;\n",
       "  color: #000000;\n",
       "}\n",
       "#T_270c5_row0_col1 {\n",
       "  background-color: #ededed;\n",
       "  color: #000000;\n",
       "}\n",
       "#T_270c5_row0_col2, #T_270c5_row1_col1, #T_270c5_row2_col0, #T_270c5_row2_col1, #T_270c5_row5_col1, #T_270c5_row6_col2, #T_270c5_row7_col2 {\n",
       "  background-color: #000000;\n",
       "  color: #f1f1f1;\n",
       "}\n",
       "#T_270c5_row1_col0 {\n",
       "  background-color: #626262;\n",
       "  color: #f1f1f1;\n",
       "}\n",
       "#T_270c5_row5_col0 {\n",
       "  background-color: #777777;\n",
       "  color: #f1f1f1;\n",
       "}\n",
       "</style>\n",
       "<table id=\"T_270c5\">\n",
       "  <thead>\n",
       "    <tr>\n",
       "      <th class=\"blank level0\" >&nbsp;</th>\n",
       "      <th id=\"T_270c5_level0_col0\" class=\"col_heading level0 col0\" >humanitarian</th>\n",
       "      <th id=\"T_270c5_level0_col1\" class=\"col_heading level0 col1\" >urgency</th>\n",
       "      <th id=\"T_270c5_level0_col2\" class=\"col_heading level0 col2\" >utility</th>\n",
       "    </tr>\n",
       "  </thead>\n",
       "  <tbody>\n",
       "    <tr>\n",
       "      <th id=\"T_270c5_level0_row0\" class=\"row_heading level0 row0\" >AIA</th>\n",
       "      <td id=\"T_270c5_row0_col0\" class=\"data row0 col0\" >0.3895</td>\n",
       "      <td id=\"T_270c5_row0_col1\" class=\"data row0 col1\" >0.3935</td>\n",
       "      <td id=\"T_270c5_row0_col2\" class=\"data row0 col2\" >0.4446</td>\n",
       "    </tr>\n",
       "    <tr>\n",
       "      <th id=\"T_270c5_level0_row1\" class=\"row_heading level0 row1\" >BWT</th>\n",
       "      <td id=\"T_270c5_row1_col0\" class=\"data row1 col0\" >-0.0054</td>\n",
       "      <td id=\"T_270c5_row1_col1\" class=\"data row1 col1\" >0.0000</td>\n",
       "      <td id=\"T_270c5_row1_col2\" class=\"data row1 col2\" >-0.0141</td>\n",
       "    </tr>\n",
       "    <tr>\n",
       "      <th id=\"T_270c5_level0_row2\" class=\"row_heading level0 row2\" >BWT_Flood</th>\n",
       "      <td id=\"T_270c5_row2_col0\" class=\"data row2 col0\" >0.0000</td>\n",
       "      <td id=\"T_270c5_row2_col1\" class=\"data row2 col1\" >0.0000</td>\n",
       "      <td id=\"T_270c5_row2_col2\" class=\"data row2 col2\" >-0.0099</td>\n",
       "    </tr>\n",
       "    <tr>\n",
       "      <th id=\"T_270c5_level0_row3\" class=\"row_heading level0 row3\" >BWT_Storms</th>\n",
       "      <td id=\"T_270c5_row3_col0\" class=\"data row3 col0\" >0.0000</td>\n",
       "      <td id=\"T_270c5_row3_col1\" class=\"data row3 col1\" >0.0000</td>\n",
       "      <td id=\"T_270c5_row3_col2\" class=\"data row3 col2\" >0.0000</td>\n",
       "    </tr>\n",
       "    <tr>\n",
       "      <th id=\"T_270c5_level0_row4\" class=\"row_heading level0 row4\" >BWT_Collapse</th>\n",
       "      <td id=\"T_270c5_row4_col0\" class=\"data row4 col0\" >0.0000</td>\n",
       "      <td id=\"T_270c5_row4_col1\" class=\"data row4 col1\" >0.0000</td>\n",
       "      <td id=\"T_270c5_row4_col2\" class=\"data row4 col2\" >0.0000</td>\n",
       "    </tr>\n",
       "    <tr>\n",
       "      <th id=\"T_270c5_level0_row5\" class=\"row_heading level0 row5\" >BWT_Hurricane</th>\n",
       "      <td id=\"T_270c5_row5_col0\" class=\"data row5 col0\" >-0.0216</td>\n",
       "      <td id=\"T_270c5_row5_col1\" class=\"data row5 col1\" >0.0000</td>\n",
       "      <td id=\"T_270c5_row5_col2\" class=\"data row5 col2\" >-0.0463</td>\n",
       "    </tr>\n",
       "    <tr>\n",
       "      <th id=\"T_270c5_level0_row6\" class=\"row_heading level0 row6\" >FM</th>\n",
       "      <td id=\"T_270c5_row6_col0\" class=\"data row6 col0\" >0.0000</td>\n",
       "      <td id=\"T_270c5_row6_col1\" class=\"data row6 col1\" >0.0000</td>\n",
       "      <td id=\"T_270c5_row6_col2\" class=\"data row6 col2\" >0.0007</td>\n",
       "    </tr>\n",
       "    <tr>\n",
       "      <th id=\"T_270c5_level0_row7\" class=\"row_heading level0 row7\" >FM_Flood</th>\n",
       "      <td id=\"T_270c5_row7_col0\" class=\"data row7 col0\" >0.0000</td>\n",
       "      <td id=\"T_270c5_row7_col1\" class=\"data row7 col1\" >0.0000</td>\n",
       "      <td id=\"T_270c5_row7_col2\" class=\"data row7 col2\" >0.0028</td>\n",
       "    </tr>\n",
       "    <tr>\n",
       "      <th id=\"T_270c5_level0_row8\" class=\"row_heading level0 row8\" >FM_Storms</th>\n",
       "      <td id=\"T_270c5_row8_col0\" class=\"data row8 col0\" >0.0000</td>\n",
       "      <td id=\"T_270c5_row8_col1\" class=\"data row8 col1\" >0.0000</td>\n",
       "      <td id=\"T_270c5_row8_col2\" class=\"data row8 col2\" >0.0000</td>\n",
       "    </tr>\n",
       "    <tr>\n",
       "      <th id=\"T_270c5_level0_row9\" class=\"row_heading level0 row9\" >FM_Collapse</th>\n",
       "      <td id=\"T_270c5_row9_col0\" class=\"data row9 col0\" >0.0000</td>\n",
       "      <td id=\"T_270c5_row9_col1\" class=\"data row9 col1\" >0.0000</td>\n",
       "      <td id=\"T_270c5_row9_col2\" class=\"data row9 col2\" >0.0000</td>\n",
       "    </tr>\n",
       "    <tr>\n",
       "      <th id=\"T_270c5_level0_row10\" class=\"row_heading level0 row10\" >FM_Hurricane</th>\n",
       "      <td id=\"T_270c5_row10_col0\" class=\"data row10 col0\" >0.0000</td>\n",
       "      <td id=\"T_270c5_row10_col1\" class=\"data row10 col1\" >0.0000</td>\n",
       "      <td id=\"T_270c5_row10_col2\" class=\"data row10 col2\" >0.0000</td>\n",
       "    </tr>\n",
       "  </tbody>\n",
       "</table>\n"
      ],
      "text/plain": [
       "<pandas.io.formats.style.Styler at 0x1f95e29d1d0>"
      ]
     },
     "metadata": {},
     "output_type": "display_data"
    },
    {
     "name": "stdout",
     "output_type": "stream",
     "text": [
      "\n"
     ]
    }
   ],
   "source": [
    "device = torch.device(\"cuda\" if torch.cuda.is_available() else \"cpu\")\n",
    "\n",
    "model = NaiveExperienceReplay(data, device, M=5)\n",
    "model.pipeline(data, nb_epochs=1, idx=1)"
   ]
  }
 ],
 "metadata": {
  "kernelspec": {
   "display_name": "Python 3",
   "language": "python",
   "name": "python3"
  },
  "language_info": {
   "codemirror_mode": {
    "name": "ipython",
    "version": 3
   },
   "file_extension": ".py",
   "mimetype": "text/x-python",
   "name": "python",
   "nbconvert_exporter": "python",
   "pygments_lexer": "ipython3",
   "version": "3.13.3"
  }
 },
 "nbformat": 4,
 "nbformat_minor": 5
}
